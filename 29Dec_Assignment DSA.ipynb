{
 "cells": [
  {
   "cell_type": "code",
   "execution_count": 1,
   "metadata": {},
   "outputs": [],
   "source": [
    "class Node:\n",
    "    def __init__(self,data) -> None:\n",
    "        self.data = data\n",
    "        self.next = None\n",
    "\n",
    "def takeinput():\n",
    "    a = [int(i) for i in input().split()]\n",
    "    head = None\n",
    "    newNode = None\n",
    "    for currdata in a:\n",
    "        if currdata == -1:\n",
    "            break\n",
    "        newNode = Node(currdata)\n",
    "        if head is None:\n",
    "            head = newNode\n",
    "        else:\n",
    "            curr = head\n",
    "            while curr.next is not None:\n",
    "                curr = curr.next\n",
    "            curr.next = newNode\n",
    "    return head\n",
    "\n",
    "def printll(head):\n",
    "    s = ''\n",
    "    while head:\n",
    "        s = s + '->' +str(head.data)\n",
    "        head = head.next\n",
    "    return s\n",
    "\n",
    "head = takeinput()"
   ]
  },
  {
   "cell_type": "markdown",
   "metadata": {},
   "source": [
    "# Problem 1: Reverse a Singly Linked List"
   ]
  },
  {
   "cell_type": "code",
   "execution_count": null,
   "metadata": {},
   "outputs": [
    {
     "data": {
      "text/plain": [
       "'->7->6->5->4->3->2->1'"
      ]
     },
     "execution_count": 10,
     "metadata": {},
     "output_type": "execute_result"
    }
   ],
   "source": [
    "def reverse_linked_list(head):\n",
    "    prev = None\n",
    "    curr = head\n",
    "    while curr:\n",
    "        next_node = curr.next\n",
    "        curr.next = prev\n",
    "        prev = curr\n",
    "        curr = next_node\n",
    "    return prev\n",
    "printll(reverse_linked_list(head))"
   ]
  },
  {
   "cell_type": "markdown",
   "metadata": {},
   "source": [
    "# Problem 2: Merge Two Sorted Linked Lists into One Sorted Linked List"
   ]
  },
  {
   "cell_type": "code",
   "execution_count": 16,
   "metadata": {},
   "outputs": [
    {
     "data": {
      "text/plain": [
       "'->1->2->3->4->5->6->7->8'"
      ]
     },
     "execution_count": 16,
     "metadata": {},
     "output_type": "execute_result"
    }
   ],
   "source": [
    "def merge_sorted_lists(l1, l2):\n",
    "    dummy = Node(0)\n",
    "    current = dummy\n",
    "    while l1 and l2:\n",
    "        if l1.data < l2.data:\n",
    "            current.next = l1\n",
    "            l1 = l1.next\n",
    "        else:\n",
    "            current.next = l2\n",
    "            l2 = l2.next\n",
    "        current = current.next\n",
    "    if l1:\n",
    "        current.next = l1\n",
    "    if l2:\n",
    "        current.next = l2\n",
    "    return dummy.next\n",
    "\n",
    "l1 = takeinput()\n",
    "l2 = takeinput()\n",
    "printll(merge_sorted_lists(l1,l2))\n"
   ]
  },
  {
   "cell_type": "markdown",
   "metadata": {},
   "source": [
    "# Problem 3: Remove the Nth Node from the End of a Linked List"
   ]
  },
  {
   "cell_type": "code",
   "execution_count": 23,
   "metadata": {},
   "outputs": [
    {
     "data": {
      "text/plain": [
       "'->1->2->3->5->6'"
      ]
     },
     "execution_count": 23,
     "metadata": {},
     "output_type": "execute_result"
    }
   ],
   "source": [
    "def remove_nth_from_end(head, n):\n",
    "    dummy =  Node(0)\n",
    "    dummy.next = head\n",
    "    fast = slow = dummy\n",
    "    for _ in range(n + 1):\n",
    "        fast = fast.next\n",
    "    while fast:\n",
    "        fast = fast.next\n",
    "        slow = slow.next\n",
    "    slow.next = slow.next.next\n",
    "    return dummy.next\n",
    "printll(remove_nth_from_end(head,3))"
   ]
  },
  {
   "cell_type": "markdown",
   "metadata": {},
   "source": [
    "# Problem 4: Find the Intersection Point of Two Linked Lists "
   ]
  },
  {
   "cell_type": "code",
   "execution_count": 24,
   "metadata": {},
   "outputs": [
    {
     "data": {
      "text/plain": [
       "''"
      ]
     },
     "execution_count": 24,
     "metadata": {},
     "output_type": "execute_result"
    }
   ],
   "source": [
    "def get_intersection_node(head1, head2):\n",
    "    if not head1 or not head2:\n",
    "        return None\n",
    "    p1, p2 = head1, head2\n",
    "    while p1 != p2:\n",
    "        p1 = p1.next if p1 else head2\n",
    "        p2 = p2.next if p2 else head1\n",
    "    return p1\n",
    "printll(get_intersection_node(takeinput(),takeinput()))"
   ]
  },
  {
   "cell_type": "markdown",
   "metadata": {},
   "source": [
    "# Problem 5: Remove Duplicates from a Sorted Linked List"
   ]
  },
  {
   "cell_type": "code",
   "execution_count": 25,
   "metadata": {},
   "outputs": [
    {
     "data": {
      "text/plain": [
       "'->1->2->3->5->6'"
      ]
     },
     "execution_count": 25,
     "metadata": {},
     "output_type": "execute_result"
    }
   ],
   "source": [
    "def remove_duplicates(head):\n",
    "    current = head\n",
    "    while current and current.next:\n",
    "        if current.data == current.next.data:\n",
    "            current.next = current.next.next\n",
    "        else:\n",
    "            current = current.next\n",
    "    return head\n",
    "printll(remove_duplicates(head))"
   ]
  },
  {
   "cell_type": "markdown",
   "metadata": {},
   "source": [
    "# Problem 6: Add Two Numbers Represented by Linked Lists"
   ]
  },
  {
   "cell_type": "code",
   "execution_count": 27,
   "metadata": {},
   "outputs": [
    {
     "data": {
      "text/plain": [
       "'->6->8->0->3->6->6->7->8'"
      ]
     },
     "execution_count": 27,
     "metadata": {},
     "output_type": "execute_result"
    }
   ],
   "source": [
    "def add_two_numbers(l1, l2):\n",
    "    dummy = Node(0)\n",
    "    current = dummy\n",
    "    carry = 0\n",
    "    while l1 or l2 or carry:\n",
    "        data1 = l1.data if l1 else 0\n",
    "        data2 = l2.data if l2 else 0\n",
    "        sum_data = data1 + data2 + carry\n",
    "        carry = sum_data // 10\n",
    "        current.next = Node(sum_data % 10)\n",
    "        current = current.next\n",
    "        if l1: l1 = l1.next\n",
    "        if l2: l2 = l2.next\n",
    "    return dummy.next\n",
    "printll(add_two_numbers(l1,l2))"
   ]
  },
  {
   "cell_type": "markdown",
   "metadata": {},
   "source": [
    "# Problem 7: Swap Nodes in Pairs in a Linked List"
   ]
  },
  {
   "cell_type": "code",
   "execution_count": 28,
   "metadata": {},
   "outputs": [
    {
     "data": {
      "text/plain": [
       "'->2->1->5->3->6'"
      ]
     },
     "execution_count": 28,
     "metadata": {},
     "output_type": "execute_result"
    }
   ],
   "source": [
    "def swap_pairs(head):\n",
    "    dummy = Node(0)\n",
    "    dummy.next = head\n",
    "    current = dummy\n",
    "    while current.next and current.next.next:\n",
    "        first = current.next\n",
    "        second = current.next.next\n",
    "        first.next = second.next\n",
    "        second.next = first\n",
    "        current.next = second\n",
    "        current = first\n",
    "    return dummy.next\n",
    "printll(swap_pairs(head))"
   ]
  },
  {
   "cell_type": "markdown",
   "metadata": {},
   "source": [
    "# Problem 8: Reverse Nodes in a Linked List in Groups of K"
   ]
  },
  {
   "cell_type": "code",
   "execution_count": 32,
   "metadata": {},
   "outputs": [
    {
     "data": {
      "text/plain": [
       "'->2->1->4->3->6->5'"
      ]
     },
     "execution_count": 32,
     "metadata": {},
     "output_type": "execute_result"
    }
   ],
   "source": [
    "def reverse_k_group(head, k):\n",
    "    count = 0\n",
    "    current = head\n",
    "    while current:\n",
    "        count += 1\n",
    "        current = current.next\n",
    "    \n",
    "    dummy = Node(0)\n",
    "    dummy.next = head\n",
    "    prev_group_end = dummy\n",
    "    while count >= k:\n",
    "        group_start = prev_group_end.next\n",
    "        group_end = group_start\n",
    "        for _ in range(k - 1):\n",
    "            group_end = group_end.next\n",
    "        next_group_start = group_end.next\n",
    "        \n",
    "        # Reverse the group\n",
    "        prev, curr = None, group_start\n",
    "        while curr != next_group_start:\n",
    "            next_node = curr.next\n",
    "            curr.next = prev\n",
    "            prev = curr\n",
    "            curr = next_node\n",
    "        \n",
    "        # Reconnect the reversed group\n",
    "        prev_group_end.next = prev\n",
    "        group_start.next = next_group_start\n",
    "        prev_group_end = group_start\n",
    "        count -= k\n",
    "    \n",
    "    return dummy.next\n",
    "printll(reverse_k_group(head,2))"
   ]
  },
  {
   "cell_type": "markdown",
   "metadata": {},
   "source": [
    "# Problem 9: Determine if a Linked List is a Palindrome"
   ]
  },
  {
   "cell_type": "code",
   "execution_count": 33,
   "metadata": {},
   "outputs": [
    {
     "data": {
      "text/plain": [
       "''"
      ]
     },
     "execution_count": 33,
     "metadata": {},
     "output_type": "execute_result"
    }
   ],
   "source": [
    "def is_palindrome(head):\n",
    "    # Find the middle of the list\n",
    "    slow = fast = head\n",
    "    while fast and fast.next:\n",
    "        slow = slow.next\n",
    "        fast = fast.next.next\n",
    "    \n",
    "    # Reverse the second half of the list\n",
    "    prev = None\n",
    "    while slow:\n",
    "        next_node = slow.next\n",
    "        slow.next = prev\n",
    "        prev = slow\n",
    "        slow = next_node\n",
    "    \n",
    "    # Compare the first half and the reversed second half\n",
    "    left, right = head, prev\n",
    "    while right:\n",
    "        if left.data != right.data:\n",
    "            return False\n",
    "        left = left.next\n",
    "        right = right.next\n",
    "    return True\n",
    "printll(is_palindrome(head))"
   ]
  },
  {
   "cell_type": "markdown",
   "metadata": {},
   "source": [
    "# Problem 10: Rotate a Linked List to the Right by k Places\n"
   ]
  },
  {
   "cell_type": "code",
   "execution_count": null,
   "metadata": {},
   "outputs": [],
   "source": [
    "def rotate_linked_list(head, k):\n",
    "    if not head or not head.next:\n",
    "        return head\n",
    "    # Find the length of the list\n",
    "    length = 1\n",
    "    tail = head\n",
    "    while tail.next:\n",
    "        length += 1\n",
    "        tail = tail.next\n",
    "    k %= length  # In case k is greater than the length of the list\n",
    "    \n",
    "    # Find the new tail and new head\n",
    "    tail.next = head  # Connect the tail to head to form a cycle\n",
    "    new_tail = head\n",
    "    for _ in range(length - k - 1):\n",
    "        new_tail = new_tail.next\n",
    "    new_head = new_tail.next\n",
    "    new_tail.next = None  # Break the cycle\n",
    "    return new_head\n",
    "\n",
    "# Input: 1 -> 2 -> 3 -> 4 -> 5, k = 2\n",
    "head = Node(1, Node(2, Node(3, Node(4, Node(5)))))\n",
    "rotated_head = rotate_linked_list(head, 2)\n",
    "\n",
    "# Output: 4 -> 5 -> 1 -> 2 -> 3\n",
    "while rotated_head:\n",
    "    print(rotated_head.data, end=\" -> \" if rotated_head.next else \"\")\n",
    "    rotated_head = rotated_head.next\n"
   ]
  },
  {
   "cell_type": "markdown",
   "metadata": {},
   "source": [
    "Problem 11: Flatten a Multilevel Doubly Linked List"
   ]
  },
  {
   "cell_type": "code",
   "execution_count": null,
   "metadata": {},
   "outputs": [],
   "source": [
    "class Node:\n",
    "    def __init__(self, data=0, prev=None, next=None, child=None):\n",
    "        self.data = data\n",
    "        self.prev = prev\n",
    "        self.next = next\n",
    "        self.child = child\n",
    "\n",
    "def flatten(head):\n",
    "    if not head:\n",
    "        return head\n",
    "    curr = head\n",
    "    while curr:\n",
    "        if curr.child:\n",
    "            next_node = curr.next\n",
    "            curr.next = flatten(curr.child)\n",
    "            curr.next.prev = curr\n",
    "            curr.child = None\n",
    "            while curr.next:\n",
    "                curr = curr.next\n",
    "            curr.next = next_node\n",
    "            if next_node:\n",
    "                next_node.prev = curr\n",
    "        curr = curr.next\n",
    "    return head\n",
    "\n",
    "# Example setup for input (omitting full structure for brevity)\n"
   ]
  },
  {
   "cell_type": "markdown",
   "metadata": {},
   "source": [
    "Problem 12: Rearrange a Linked List Such That All Even Positioned Nodes are Placed at the End"
   ]
  },
  {
   "cell_type": "code",
   "execution_count": null,
   "metadata": {},
   "outputs": [
    {
     "data": {
      "text/plain": [
       "'->1->3->5->2->4->6'"
      ]
     },
     "execution_count": 2,
     "metadata": {},
     "output_type": "execute_result"
    }
   ],
   "source": [
    "def rearrange_even_positions(head):\n",
    "    if not head:\n",
    "        return head\n",
    "\n",
    "    odd_head = odd = Node(0)\n",
    "    even_head = even = Node(0)\n",
    "    index = 1\n",
    "    \n",
    "    while head:\n",
    "        if index % 2 != 0:\n",
    "            odd.next = head\n",
    "            odd = odd.next\n",
    "        else:\n",
    "            even.next = head\n",
    "            even = even.next\n",
    "        head = head.next\n",
    "        index += 1\n",
    "    \n",
    "    even.next = None  # Ensure the even list ends\n",
    "    odd.next = even_head.next  # Attach even list at the end of odd list\n",
    "    return odd_head.next\n",
    "\n",
    "# Input: 1 -> 2 -> 3 -> 4 -> 5 ->6\n",
    "printll(rearrange_even_positions(head))"
   ]
  },
  {
   "cell_type": "markdown",
   "metadata": {},
   "source": [
    "Problem 13: Add One to a Number Represented as a Linked List"
   ]
  },
  {
   "cell_type": "code",
   "execution_count": 4,
   "metadata": {},
   "outputs": [
    {
     "data": {
      "text/plain": [
       "''"
      ]
     },
     "execution_count": 4,
     "metadata": {},
     "output_type": "execute_result"
    }
   ],
   "source": [
    "def add_one(head):\n",
    "    # Reverse the linked list\n",
    "    prev = None\n",
    "    curr = head\n",
    "    while curr:\n",
    "        next_node = curr.next\n",
    "        curr.next = prev\n",
    "        prev = curr\n",
    "        curr = next_node\n",
    "\n",
    "    # Add one to the reversed list\n",
    "    carry = 1\n",
    "    curr = prev\n",
    "    while curr:\n",
    "        curr.data += carry\n",
    "        carry = curr.data // 10\n",
    "        curr.data %= 10\n",
    "        if carry == 0:\n",
    "            break\n",
    "        if curr.next is None:\n",
    "            curr.next = Node(0)\n",
    "        curr = curr.next\n",
    "\n",
    "    # Reverse the linked list again to restore the original order\n",
    "    prev = None\n",
    "    curr = prev\n",
    "    while curr:\n",
    "        next_node = curr.next\n",
    "        curr.next = prev\n",
    "        prev = curr\n",
    "        curr = next_node\n",
    "    return prev\n",
    "\n",
    "# Input: 1 -> 2 -> 3\n",
    "printll(add_one(takeinput()))"
   ]
  },
  {
   "cell_type": "markdown",
   "metadata": {},
   "source": [
    " Problem 14: Search Insert Position in a Sorted Array"
   ]
  },
  {
   "cell_type": "code",
   "execution_count": 6,
   "metadata": {},
   "outputs": [
    {
     "data": {
      "text/plain": [
       "2"
      ]
     },
     "execution_count": 6,
     "metadata": {},
     "output_type": "execute_result"
    }
   ],
   "source": [
    "def search_insert_position(nums, target):\n",
    "    left, right = 0, len(nums) - 1\n",
    "    while left <= right:\n",
    "        mid = (left + right) // 2\n",
    "        if nums[mid] == target:\n",
    "            return mid\n",
    "        elif nums[mid] < target:\n",
    "            left = mid + 1\n",
    "        else:\n",
    "            right = mid - 1\n",
    "    return left\n",
    "\n",
    "# Input: nums = [1, 3, 5, 6], target = 5\n",
    "nums = [1, 3, 5, 6]\n",
    "target = 5\n",
    "search_insert_position(nums,target)"
   ]
  },
  {
   "cell_type": "markdown",
   "metadata": {},
   "source": [
    "Problem 15: Find the Minimum Element in a Rotated Sorted Array"
   ]
  },
  {
   "cell_type": "code",
   "execution_count": 7,
   "metadata": {},
   "outputs": [
    {
     "data": {
      "text/plain": [
       "0"
      ]
     },
     "execution_count": 7,
     "metadata": {},
     "output_type": "execute_result"
    }
   ],
   "source": [
    "def find_min(nums):\n",
    "    left, right = 0, len(nums) - 1\n",
    "    while left < right:\n",
    "        mid = (left + right) // 2\n",
    "        if nums[mid] > nums[right]:\n",
    "            left = mid + 1\n",
    "        else:\n",
    "            right = mid\n",
    "    return nums[left]\n",
    "\n",
    "# Input: [4, 5, 6, 7, 0, 1, 2]\n",
    "find_min([4, 5, 6, 7, 0, 1, 2])\n"
   ]
  },
  {
   "cell_type": "markdown",
   "metadata": {},
   "source": [
    "Problem 16: Search for a Target dataue in a Rotated Sorted Array"
   ]
  },
  {
   "cell_type": "code",
   "execution_count": 8,
   "metadata": {},
   "outputs": [
    {
     "data": {
      "text/plain": [
       "4"
      ]
     },
     "execution_count": 8,
     "metadata": {},
     "output_type": "execute_result"
    }
   ],
   "source": [
    "def search(nums, target):\n",
    "    left, right = 0, len(nums) - 1\n",
    "    while left <= right:\n",
    "        mid = (left + right) // 2\n",
    "        if nums[mid] == target:\n",
    "            return mid\n",
    "        if nums[left] <= nums[mid]:\n",
    "            if nums[left] <= target < nums[mid]:\n",
    "                right = mid - 1\n",
    "            else:\n",
    "                left = mid + 1\n",
    "        else:\n",
    "            if nums[mid] < target <= nums[right]:\n",
    "                left = mid + 1\n",
    "            else:\n",
    "                right = mid - 1\n",
    "    return -1\n",
    "\n",
    "# Input: nums = [4, 5, 6, 7, 0, 1, 2], target = 0\n",
    "nums = [4, 5, 6, 7, 0, 1, 2]\n",
    "target = 0\n",
    "search(nums,target)"
   ]
  },
  {
   "cell_type": "markdown",
   "metadata": {},
   "source": [
    "Problem 18: Count the Number of Negative Numbers in a Sorted Matrix"
   ]
  },
  {
   "cell_type": "code",
   "execution_count": 9,
   "metadata": {},
   "outputs": [
    {
     "data": {
      "text/plain": [
       "8"
      ]
     },
     "execution_count": 9,
     "metadata": {},
     "output_type": "execute_result"
    }
   ],
   "source": [
    "def count_negatives(grid):\n",
    "    count = 0\n",
    "    row = len(grid)\n",
    "    col = len(grid[0])\n",
    "    r, c = row - 1, 0\n",
    "    while r >= 0 and c < col:\n",
    "        if grid[r][c] < 0:\n",
    "            count += col - c\n",
    "            r -= 1\n",
    "        else:\n",
    "            c += 1\n",
    "    return count\n",
    "\n",
    "# Input: grid = [[4, 3, 2, -1], [3, 2, 1, -1], [1, 1, -1, -2], [-1, -1, -2, -3]]\n",
    "grid = [[4, 3, 2, -1], [3, 2, 1, -1], [1, 1, -1, -2], [-1, -1, -2, -3]]\n",
    "count_negatives(grid)\n"
   ]
  },
  {
   "cell_type": "markdown",
   "metadata": {},
   "source": [
    "Problem 19: Search for a Target dataue in a Sorted 2D Matrix"
   ]
  },
  {
   "cell_type": "code",
   "execution_count": 11,
   "metadata": {},
   "outputs": [
    {
     "data": {
      "text/plain": [
       "True"
      ]
     },
     "execution_count": 11,
     "metadata": {},
     "output_type": "execute_result"
    }
   ],
   "source": [
    "def search_matrix(matrix, target):\n",
    "    if not matrix:\n",
    "        return False\n",
    "    row, col = 0, len(matrix[0]) - 1\n",
    "    while row < len(matrix) and col >= 0:\n",
    "        if matrix[row][col] == target:\n",
    "            return True\n",
    "        elif matrix[row][col] < target:\n",
    "            row += 1\n",
    "        else:\n",
    "            col -= 1\n",
    "    return False\n",
    "\n",
    "# Input: matrix = [[1, 3, 5, 7], [10, 11, 16, 20], [23, 30, 34, 60]], target = 3\n",
    "matrix = [[1, 3, 5, 7], [10, 11, 16, 20], [23, 30, 34, 60]]\n",
    "target = 3\n",
    "search_matrix(matrix,target)"
   ]
  },
  {
   "cell_type": "markdown",
   "metadata": {},
   "source": [
    "Problem 20: Find Median in Two Sorted Arrays"
   ]
  },
  {
   "cell_type": "code",
   "execution_count": 10,
   "metadata": {},
   "outputs": [
    {
     "data": {
      "text/plain": [
       "2"
      ]
     },
     "execution_count": 10,
     "metadata": {},
     "output_type": "execute_result"
    }
   ],
   "source": [
    "def find_median_sorted_arrays(nums1, nums2):\n",
    "    nums = sorted(nums1 + nums2)\n",
    "    n = len(nums)\n",
    "    if n % 2 == 0:\n",
    "        return (nums[n // 2 - 1] + nums[n // 2]) / 2\n",
    "    else:\n",
    "        return nums[n // 2]\n",
    "\n",
    "# Input: nums1 = [1, 3], nums2 = [2]\n",
    "nums1 = [1, 3]\n",
    "nums2 = [2]\n",
    "find_median_sorted_arrays(nums1,nums2)"
   ]
  },
  {
   "cell_type": "markdown",
   "metadata": {},
   "source": [
    "Problem 21: Find the Smallest Letter Greater Than the Target in a Sorted Array of Characters"
   ]
  },
  {
   "cell_type": "code",
   "execution_count": 12,
   "metadata": {},
   "outputs": [
    {
     "data": {
      "text/plain": [
       "'c'"
      ]
     },
     "execution_count": 12,
     "metadata": {},
     "output_type": "execute_result"
    }
   ],
   "source": [
    "def next_greatest_letter(letters, target):\n",
    "    left, right = 0, len(letters) - 1\n",
    "    while left <= right:\n",
    "        mid = (left + right) // 2\n",
    "        if letters[mid] <= target:\n",
    "            left = mid + 1\n",
    "        else:\n",
    "            right = mid - 1\n",
    "    return letters[left % len(letters)]\n",
    "\n",
    "# Input: letters = ['c', 'f', 'j'], target = 'a'\n",
    "letters = ['c', 'f', 'j']\n",
    "target = 'a'\n",
    "next_greatest_letter(letters,target)"
   ]
  },
  {
   "cell_type": "markdown",
   "metadata": {},
   "source": [
    "Problem 22: Sort an Array of Colors in Place (Red, White, Blue)"
   ]
  },
  {
   "cell_type": "code",
   "execution_count": 13,
   "metadata": {},
   "outputs": [
    {
     "data": {
      "text/plain": [
       "[0, 0, 1, 1, 2, 2]"
      ]
     },
     "execution_count": 13,
     "metadata": {},
     "output_type": "execute_result"
    }
   ],
   "source": [
    "def sort_colors(nums):\n",
    "    low, mid, high = 0, 0, len(nums) - 1\n",
    "    while mid <= high:\n",
    "        if nums[mid] == 0:\n",
    "            nums[low], nums[mid] = nums[mid], nums[low]\n",
    "            low += 1\n",
    "            mid += 1\n",
    "        elif nums[mid] == 1:\n",
    "            mid += 1\n",
    "        else:\n",
    "            nums[mid], nums[high] = nums[high], nums[mid]\n",
    "            high -= 1\n",
    "    return nums\n",
    "\n",
    "# Input: nums = [2, 0, 2, 1, 1, 0]\n",
    "nums = [2, 0, 2, 1, 1, 0]\n",
    "sort_colors(nums)"
   ]
  },
  {
   "cell_type": "markdown",
   "metadata": {},
   "source": [
    "Problem 23: Find the kth Largest Element in an Unsorted Array"
   ]
  },
  {
   "cell_type": "code",
   "execution_count": 14,
   "metadata": {},
   "outputs": [
    {
     "data": {
      "text/plain": [
       "5"
      ]
     },
     "execution_count": 14,
     "metadata": {},
     "output_type": "execute_result"
    }
   ],
   "source": [
    "import heapq\n",
    "\n",
    "def find_kth_largest(nums, k):\n",
    "    return heapq.nlargest(k, nums)[-1]\n",
    "\n",
    "# Input: nums = [3, 2, 1, 5, 6, 4], k = 2\n",
    "nums = [3, 2, 1, 5, 6, 4]\n",
    "k = 2\n",
    "find_kth_largest(nums,k)\n"
   ]
  },
  {
   "cell_type": "markdown",
   "metadata": {},
   "source": [
    "Problem 24: Reorder an Unsorted Array in Zigzag Fashion (nums[0] <= nums[1] >= nums[2] <= nums[3]...)"
   ]
  },
  {
   "cell_type": "code",
   "execution_count": 15,
   "metadata": {},
   "outputs": [
    {
     "data": {
      "text/plain": [
       "[3, 5, 1, 6, 2, 4]"
      ]
     },
     "execution_count": 15,
     "metadata": {},
     "output_type": "execute_result"
    }
   ],
   "source": [
    "def zigzag_reorder(nums):\n",
    "    for i in range(len(nums) - 1):\n",
    "        if i % 2 == 0:\n",
    "            if nums[i] > nums[i + 1]:\n",
    "                nums[i], nums[i + 1] = nums[i + 1], nums[i]\n",
    "        else:\n",
    "            if nums[i] < nums[i + 1]:\n",
    "                nums[i], nums[i + 1] = nums[i + 1], nums[i]\n",
    "    return nums\n",
    "\n",
    "# Input: nums = [3, 5, 2, 1, 6, 4]\n",
    "nums = [3, 5, 2, 1, 6, 4]\n",
    "zigzag_reorder(nums)"
   ]
  },
  {
   "cell_type": "markdown",
   "metadata": {},
   "source": [
    "Problem 25: Calculate the Sum of All Elements in an Array"
   ]
  },
  {
   "cell_type": "code",
   "execution_count": 16,
   "metadata": {},
   "outputs": [
    {
     "data": {
      "text/plain": [
       "15"
      ]
     },
     "execution_count": 16,
     "metadata": {},
     "output_type": "execute_result"
    }
   ],
   "source": [
    "def array_sum(nums):\n",
    "    return sum(nums)\n",
    "\n",
    "# Input: [1, 2, 3, 4, 5]\n",
    "array_sum([1, 2, 3, 4, 5])"
   ]
  },
  {
   "cell_type": "markdown",
   "metadata": {},
   "source": [
    "Problem 27: Implement Linear Search to Find the Index of a Target Element in an Array"
   ]
  },
  {
   "cell_type": "code",
   "execution_count": 17,
   "metadata": {},
   "outputs": [
    {
     "data": {
      "text/plain": [
       "2"
      ]
     },
     "execution_count": 17,
     "metadata": {},
     "output_type": "execute_result"
    }
   ],
   "source": [
    "def linear_search(nums, target):\n",
    "    for i in range(len(nums)):\n",
    "        if nums[i] == target:\n",
    "            return i\n",
    "    return -1\n",
    "\n",
    "# Input: [5, 3, 8, 2, 7, 4], target = 8\n",
    "nums = [5, 3, 8, 2, 7, 4]\n",
    "target = 8\n",
    "linear_search(nums,target)"
   ]
  },
  {
   "cell_type": "markdown",
   "metadata": {},
   "source": [
    "Problem 28: Calculate the Factorial of a Given Number"
   ]
  },
  {
   "cell_type": "code",
   "execution_count": 18,
   "metadata": {},
   "outputs": [
    {
     "data": {
      "text/plain": [
       "120"
      ]
     },
     "execution_count": 18,
     "metadata": {},
     "output_type": "execute_result"
    }
   ],
   "source": [
    "def factorial(n):\n",
    "    if n == 0 or n == 1:\n",
    "        return 1\n",
    "    return n * factorial(n - 1)\n",
    "\n",
    "# Input: 5\n",
    "factorial(5)"
   ]
  },
  {
   "cell_type": "markdown",
   "metadata": {},
   "source": [
    "Problem 29: Check if a Given Number is a Prime Number"
   ]
  },
  {
   "cell_type": "code",
   "execution_count": 19,
   "metadata": {},
   "outputs": [
    {
     "data": {
      "text/plain": [
       "True"
      ]
     },
     "execution_count": 19,
     "metadata": {},
     "output_type": "execute_result"
    }
   ],
   "source": [
    "def is_prime(n):\n",
    "    if n <= 1:\n",
    "        return False\n",
    "    for i in range(2, int(n ** 0.5) + 1):\n",
    "        if n % i == 0:\n",
    "            return False\n",
    "    return True\n",
    "\n",
    "# Input: 7\n",
    "is_prime(7)"
   ]
  },
  {
   "cell_type": "markdown",
   "metadata": {},
   "source": [
    "Problem 30: Generate the Fibonacci Series up to a Given Number n"
   ]
  },
  {
   "cell_type": "code",
   "execution_count": 20,
   "metadata": {},
   "outputs": [
    {
     "data": {
      "text/plain": [
       "[0, 1, 1, 2, 3, 5, 8]"
      ]
     },
     "execution_count": 20,
     "metadata": {},
     "output_type": "execute_result"
    }
   ],
   "source": [
    "def fibonacci(n):\n",
    "    fib_series = []\n",
    "    a, b = 0, 1\n",
    "    while a <= n:\n",
    "        fib_series.append(a)\n",
    "        a, b = b, a + b\n",
    "    return fib_series\n",
    "\n",
    "# Input: 8\n",
    "fibonacci(8)"
   ]
  },
  {
   "cell_type": "markdown",
   "metadata": {},
   "source": [
    "Problem 31: Calculate the Power of a Number Using Recursion"
   ]
  },
  {
   "cell_type": "code",
   "execution_count": 21,
   "metadata": {},
   "outputs": [
    {
     "data": {
      "text/plain": [
       "81"
      ]
     },
     "execution_count": 21,
     "metadata": {},
     "output_type": "execute_result"
    }
   ],
   "source": [
    "def power(base, exponent):\n",
    "    if exponent == 0:\n",
    "        return 1\n",
    "    return base * power(base, exponent - 1)\n",
    "\n",
    "# Input: base = 3, exponent = 4\n",
    "base = 3\n",
    "exponent = 4\n",
    "power(base,exponent)"
   ]
  },
  {
   "cell_type": "markdown",
   "metadata": {},
   "source": [
    "Problem 32: Reverse a Given String"
   ]
  },
  {
   "cell_type": "code",
   "execution_count": 22,
   "metadata": {},
   "outputs": [
    {
     "data": {
      "text/plain": [
       "'olleh'"
      ]
     },
     "execution_count": 22,
     "metadata": {},
     "output_type": "execute_result"
    }
   ],
   "source": [
    "def reverse_string(s):\n",
    "    return s[::-1]\n",
    "\n",
    "# Input: \"hello\"\n",
    "reverse_string('hello')"
   ]
  },
  {
   "cell_type": "code",
   "execution_count": null,
   "metadata": {},
   "outputs": [],
   "source": []
  }
 ],
 "metadata": {
  "kernelspec": {
   "display_name": "Python 3",
   "language": "python",
   "name": "python3"
  },
  "language_info": {
   "codemirror_mode": {
    "name": "ipython",
    "version": 3
   },
   "file_extension": ".py",
   "mimetype": "text/x-python",
   "name": "python",
   "nbconvert_exporter": "python",
   "pygments_lexer": "ipython3",
   "version": "3.11.9"
  }
 },
 "nbformat": 4,
 "nbformat_minor": 2
}
