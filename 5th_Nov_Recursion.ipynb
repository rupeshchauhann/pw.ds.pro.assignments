{
 "cells": [
  {
   "cell_type": "code",
   "execution_count": 1,
   "metadata": {},
   "outputs": [
    {
     "name": "stdout",
     "output_type": "stream",
     "text": [
      "move 1st disk from a to b\n",
      "move 2nd disk from a to c\n",
      "move 1st disk from b to c\n",
      "move 3rd disk from a to b\n",
      "move 1st disk from c to a\n",
      "move 2nd disk from c to b\n",
      "move 1st disk from a to b\n",
      "move 1st disk from b to c\n",
      "move 2nd disk from b to a\n",
      "move 1st disk from c to a\n",
      "move 3rd disk from b to c\n",
      "move 1st disk from a to b\n",
      "move 2nd disk from a to c\n",
      "move 1st disk from b to c\n"
     ]
    }
   ],
   "source": [
    "# Q.1 Can you explain the logic and working of the Tower of Hanoi algorithm by writing a Java program?\n",
    "# How does the recursion work, and how are the movements of disks between rods accomplished?\n",
    "\n",
    "def tower_of_henoi(n,a,b,c):\n",
    "    if n == 1:\n",
    "        print(\"move 1st disk from\",a,\"to\",c)\n",
    "        return \n",
    "    tower_of_henoi(n-1,a,c,b)\n",
    "    if n == 2:\n",
    "        print(\"move\",str(n)+\"nd disk from\",a,\"to\",c)\n",
    "    if n==3 :\n",
    "        print(\"move\",str(n)+\"rd disk from\",a,\"to\",c)\n",
    "\n",
    "    tower_of_henoi(n-1,b,a,c)\n",
    "\n",
    "tower_of_henoi(4,'a','b',\"c\")"
   ]
  },
  {
   "cell_type": "code",
   "execution_count": 2,
   "metadata": {},
   "outputs": [
    {
     "name": "stdout",
     "output_type": "stream",
     "text": [
      "Example 1: 3\n",
      "Example 2: 5\n"
     ]
    }
   ],
   "source": [
    "# Q.2 Given two strings word1 and word2, return the minimum number of operations required to convert word1\n",
    "# to word2.\n",
    "# Example 1:\n",
    "# Input: word1 = \"horse\", word2 = \"ros\"\n",
    "# Output: 3\n",
    "# Explanation:\n",
    "# horse -> rorse (replace 'h' with 'r')\n",
    "# rorse -> rose (remove 'r')\n",
    "# rose -> ros (remove 'e')\n",
    "# Example 2:\n",
    "# Input: word1 = \"intention\", word2 = \"execution\"\n",
    "# Output: 5\n",
    "# Explanation:\n",
    "# intention -> inention (remove 't')\n",
    "# inention -> enention (replace 'i' with 'e')\n",
    "# enention -> exention (replace 'n' with 'x')\n",
    "# exention -> exection (replace 'n' with 'c')\n",
    "# exection -> execution (insert 'u')\n",
    "\n",
    "\n",
    "def min_distance(word1, word2):\n",
    "    def helper(i, j):\n",
    "        # Base case: if one of the words is empty, return the length of the other word\n",
    "        if i == len(word1):\n",
    "            return len(word2) - j\n",
    "        if j == len(word2):\n",
    "            return len(word1) - i\n",
    "        \n",
    "        # If the current characters are the same, no operation is needed\n",
    "        if word1[i] == word2[j]:\n",
    "            return helper(i + 1, j + 1)\n",
    "        \n",
    "        # Otherwise, explore the three possible operations and choose the minimum\n",
    "        insert_op = helper(i, j + 1)\n",
    "        remove_op = helper(i + 1, j)\n",
    "        replace_op = helper(i + 1, j + 1)\n",
    "        \n",
    "        return 1 + min(insert_op, remove_op, replace_op)\n",
    "    \n",
    "    return helper(0, 0)\n",
    "\n",
    "# Example usage:\n",
    "word1_1, word2_1 = \"horse\", \"ros\"\n",
    "word1_2, word2_2 = \"intention\", \"execution\"\n",
    "\n",
    "output1 = min_distance(word1_1, word2_1)\n",
    "output2 = min_distance(word1_2, word2_2)\n",
    "\n",
    "print(output1)  \n",
    "print(output2)  "
   ]
  },
  {
   "cell_type": "code",
   "execution_count": 4,
   "metadata": {},
   "outputs": [
    {
     "data": {
      "text/plain": [
       "22"
      ]
     },
     "execution_count": 4,
     "metadata": {},
     "output_type": "execute_result"
    }
   ],
   "source": [
    "# Q. 3 Print the max value of the array [ 13, 1, -3, 22, 5]\n",
    "arr = [ 13, 1, -3, 22, 5]\n",
    "maximum = 0\n",
    "def max_arr(arr):\n",
    "    global maximum\n",
    "    if len(arr) == 0:\n",
    "        return \n",
    "    if arr[0] > maximum:\n",
    "        mx = arr[0]\n",
    "    max_arr(arr[1:])\n",
    "    return mx\n",
    "max_arr(arr)"
   ]
  },
  {
   "cell_type": "code",
   "execution_count": 3,
   "metadata": {},
   "outputs": [
    {
     "data": {
      "text/plain": [
       "120"
      ]
     },
     "execution_count": 3,
     "metadata": {},
     "output_type": "execute_result"
    }
   ],
   "source": [
    "# Q.4 Find the sum of the values of the array [92, 23, 15, -20, 10].\n",
    "arr = [92, 23, 15, -20, 10]\n",
    "def sum_arr(arr):\n",
    "    if len(arr) == 0:\n",
    "        return 0\n",
    "    return arr[0] + sum_arr(arr[1:])\n",
    "\n",
    "sum_arr(arr)"
   ]
  },
  {
   "cell_type": "code",
   "execution_count": 5,
   "metadata": {},
   "outputs": [
    {
     "name": "stdout",
     "output_type": "stream",
     "text": [
      "Yes\n"
     ]
    }
   ],
   "source": [
    "# Q.5 Given a number n. Print if it is an armstrong number or not.An armstrong number is a number if the sum\n",
    "# of every digit in that number raised to the power of total digits in that number is equal to the number.\n",
    "\n",
    "result = 0\n",
    "def armstrong(n,length):\n",
    "    global result\n",
    "   \n",
    "    if n == 0:\n",
    "        return True\n",
    "    \n",
    "    result += (n%10)**length\n",
    "    return armstrong(n//10,length)\n",
    "\n",
    "n = 1634\n",
    "length = len(str(n)) \n",
    "\n",
    "if armstrong(n,length):\n",
    "    print('Yes')\n",
    "else:\n",
    "    print('No')"
   ]
  },
  {
   "cell_type": "code",
   "execution_count": null,
   "metadata": {},
   "outputs": [],
   "source": []
  }
 ],
 "metadata": {
  "kernelspec": {
   "display_name": "Python 3",
   "language": "python",
   "name": "python3"
  },
  "language_info": {
   "codemirror_mode": {
    "name": "ipython",
    "version": 3
   },
   "file_extension": ".py",
   "mimetype": "text/x-python",
   "name": "python",
   "nbconvert_exporter": "python",
   "pygments_lexer": "ipython3",
   "version": "3.12.0"
  }
 },
 "nbformat": 4,
 "nbformat_minor": 2
}
