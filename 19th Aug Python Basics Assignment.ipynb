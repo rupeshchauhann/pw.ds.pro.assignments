{
 "cells": [
  {
   "cell_type": "markdown",
   "metadata": {},
   "source": [
    "# TOPIC: Python Basics Variable"
   ]
  },
  {
   "cell_type": "markdown",
   "metadata": {},
   "source": [
    "- 1. Declare two variables, `x` and `y`, and assign them integer values.\n",
    "Swap the values of these variables without using any temporary\n",
    "variable."
   ]
  },
  {
   "cell_type": "code",
   "execution_count": 3,
   "metadata": {},
   "outputs": [
    {
     "name": "stdout",
     "output_type": "stream",
     "text": [
      "old x is  98\n",
      "old y is  100\n",
      "----------\n",
      "new x is  100\n",
      "old y is  98\n"
     ]
    }
   ],
   "source": [
    "x = 98 \n",
    "print(\"old x is \", x)\n",
    "y = 100 \n",
    "print(\"old y is \", y)\n",
    "print('-'*10)\n",
    "x, y = y, x\n",
    "print(\"new x is \", x)\n",
    "print(\"old y is \", y)\n"
   ]
  },
  {
   "cell_type": "markdown",
   "metadata": {},
   "source": [
    "- 2. Create a program that calculates the area of a rectangle. Take the\n",
    "length and width as inputs from the user and store them in variables.\n",
    "Calculate and display the area."
   ]
  },
  {
   "cell_type": "markdown",
   "metadata": {},
   "source": [
    "- Rectangle area<br>\n",
    "A = wl"
   ]
  },
  {
   "cell_type": "code",
   "execution_count": 6,
   "metadata": {},
   "outputs": [
    {
     "name": "stdout",
     "output_type": "stream",
     "text": [
      "Area of Rectangle 36\n"
     ]
    }
   ],
   "source": [
    "length = int(input(\"Enter length of Rectangle\"))\n",
    "width =  int(input(\"Enter width of Rectangle\"))\n",
    "\n",
    "area = width * length\n",
    "print(\"Area of Rectangle\", area)"
   ]
  },
  {
   "cell_type": "markdown",
   "metadata": {},
   "source": [
    "- 3. Write a Python program that converts temperature from Celsius to\n",
    "Fahrenheit. Take the temperature in Celsius as input, store it in a\n",
    "variable, convert it to Fahrenheit, and display the result."
   ]
  },
  {
   "cell_type": "markdown",
   "metadata": {},
   "source": [
    "- Temperature in degrees Fahrenheit (°F) = (Temperature in degrees Celsius (°C) * 9/5) + 32"
   ]
  },
  {
   "cell_type": "code",
   "execution_count": 8,
   "metadata": {},
   "outputs": [
    {
     "name": "stdout",
     "output_type": "stream",
     "text": [
      "Temprature in Celcius :  39\n",
      "Temperature in Fahrenheit is :  102.2\n"
     ]
    }
   ],
   "source": [
    "celcius = int(input(\"Enter Temperature in Celcius\"))\n",
    "Fahrenheit = (celcius * 9/5)+ 32\n",
    "print(\"Temprature in Celcius : \", celcius)\n",
    "print(\"Temperature in Fahrenheit is : \",Fahrenheit)"
   ]
  },
  {
   "cell_type": "markdown",
   "metadata": {},
   "source": [
    "# TOPIC: String Based Questions"
   ]
  },
  {
   "cell_type": "markdown",
   "metadata": {},
   "source": [
    "- 1. Write a Python program that takes a string as input and prints the\n",
    "length of the string.\n",
    "- - len is in build keyword used to find out length of strings , list , tuples , dictionaries or any other mapping python objects"
   ]
  },
  {
   "cell_type": "code",
   "execution_count": 10,
   "metadata": {},
   "outputs": [
    {
     "name": "stdout",
     "output_type": "stream",
     "text": [
      "String is :  good morning\n",
      "length of String : 12\n"
     ]
    }
   ],
   "source": [
    "string = input(\"Enter string or word\")\n",
    "print(\"String is : \", string)\n",
    "print(\"length of String :\", len(string))"
   ]
  },
  {
   "cell_type": "markdown",
   "metadata": {},
   "source": [
    "- 2. Create a program that takes a sentence from the user and counts the\n",
    "number of vowels (a, e, i, o, u) in the string. \n",
    "\n",
    "- -  count is inbuikd keyword used to count something from given string"
   ]
  },
  {
   "cell_type": "code",
   "execution_count": 2,
   "metadata": {},
   "outputs": [
    {
     "name": "stdout",
     "output_type": "stream",
     "text": [
      "Sentence is : i am enjoying my life\n",
      "Count of a 1\n",
      "Count of e 2\n",
      "Count of i 3\n",
      "Count of o 1\n",
      "Count of u 0\n"
     ]
    }
   ],
   "source": [
    "sent = input(\"Enter sentence\")\n",
    "print(\"Sentence is :\",sent)\n",
    "print(\"Count of a\",sent.count('a'))\n",
    "print(\"Count of e\",sent.count('e'))\n",
    "print(\"Count of i\",sent.count('i'))\n",
    "print(\"Count of o\",sent.count('o'))\n",
    "print(\"Count of u\",sent.count('u'))"
   ]
  },
  {
   "cell_type": "markdown",
   "metadata": {},
   "source": [
    "- 3. Given a string, reverse the order of characters using string slicing and\n",
    "print the reversed string."
   ]
  },
  {
   "cell_type": "markdown",
   "metadata": {},
   "source": [
    "- [::-1]\n",
    "- The above code means [start:end:step] and -1 says start from last \n",
    "- Mapping from 0 to end:\n",
    "\n",
    "- Index 0: 'H'\n",
    "- Index 1: 'e'\n",
    "- Index 2: 'l'\n",
    "- Index 3: 'l'\n",
    "- Index 4: 'o'\n",
    "- Mapping from -1 to end:\n",
    "\n",
    "- Index -1: 'o'\n",
    "- Index -2: 'l'\n",
    "- Index -3: 'l'\n",
    "- Index -4: 'e'\n",
    "- Index -5: 'H'\n"
   ]
  },
  {
   "cell_type": "code",
   "execution_count": 3,
   "metadata": {},
   "outputs": [
    {
     "name": "stdout",
     "output_type": "stream",
     "text": [
      "original String:  Hello\n",
      "reversed String:  olleH\n"
     ]
    }
   ],
   "source": [
    "string1 = 'Hello'\n",
    "print(\"original String: \", string1)\n",
    "print(\"reversed String: \", string1[::-1])"
   ]
  },
  {
   "cell_type": "markdown",
   "metadata": {},
   "source": [
    "- 4. Write a program that takes a string as input and checks if it is a\n",
    "palindrome (reads the same forwards and backwards)."
   ]
  },
  {
   "cell_type": "code",
   "execution_count": 6,
   "metadata": {},
   "outputs": [
    {
     "name": "stdout",
     "output_type": "stream",
     "text": [
      "String is :  mom\n",
      "String is palindrome\n"
     ]
    }
   ],
   "source": [
    "string2 = 'mom'\n",
    "print(\"String is : \",string2)\n",
    "if string2[::-1] == string2:\n",
    "    print(\"String is palindrome\")\n",
    "else:\n",
    "    print(\"String is not palindrome\")"
   ]
  },
  {
   "cell_type": "markdown",
   "metadata": {},
   "source": [
    "- 5. Create a program that takes a string as input and removes all the\n",
    "spaces from it. Print the modified string without spaces."
   ]
  },
  {
   "cell_type": "code",
   "execution_count": 10,
   "metadata": {},
   "outputs": [
    {
     "name": "stdout",
     "output_type": "stream",
     "text": [
      "String before removing spaces:  this is sampple string with spaces\n",
      "String after removing spaces: thisissampplestringwithspaces\n"
     ]
    }
   ],
   "source": [
    "string3 = \"this is sampple string with spaces\"\n",
    "print(\"String before removing spaces: \",string3)\n",
    "string3 = string3.replace(\" \",\"\")\n",
    "print(\"String after removing spaces:\",string3)"
   ]
  },
  {
   "cell_type": "code",
   "execution_count": null,
   "metadata": {},
   "outputs": [],
   "source": []
  },
  {
   "cell_type": "code",
   "execution_count": null,
   "metadata": {},
   "outputs": [],
   "source": []
  }
 ],
 "metadata": {
  "kernelspec": {
   "display_name": "Python 3.8.10 64-bit",
   "language": "python",
   "name": "python3"
  },
  "language_info": {
   "codemirror_mode": {
    "name": "ipython",
    "version": 3
   },
   "file_extension": ".py",
   "mimetype": "text/x-python",
   "name": "python",
   "nbconvert_exporter": "python",
   "pygments_lexer": "ipython3",
   "version": "3.8.10"
  },
  "orig_nbformat": 4,
  "vscode": {
   "interpreter": {
    "hash": "e7370f93d1d0cde622a1f8e1c04877d8463912d04d973331ad4851f04de6915a"
   }
  }
 },
 "nbformat": 4,
 "nbformat_minor": 2
}
