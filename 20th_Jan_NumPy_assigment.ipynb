{
 "cells": [
  {
   "cell_type": "markdown",
   "metadata": {},
   "source": [
    "#### # 1. What is a Python library? Why ^o we use Python libraries?"
   ]
  },
  {
   "cell_type": "markdown",
   "metadata": {},
   "source": [
    "<pre>A Python library is a collection of functions and modules that extend the capabilities of Python. These libraries provide reusable code that developers can use to perform various tasks without having to write the code from scratch. Libraries in Python can be either built-in (part of the Python standard library) or external (developed by third parties and made available for use).\n",
    "\n",
    "Examples of built-in Python libraries include os, sys, and math, which provide functionalities for interacting with the operating system, accessing system-specific parameters and functions, and mathematical operations, respectively.\n",
    "\n",
    "External Python libraries are vast and cover a wide range of domains such as data analysis, machine learning, web development, scientific computing, and more. Some popular external libraries include NumPy, Pandas, Matplotlib, TensorFlow, Flask, and Django.\n",
    "\n",
    "Why do we use Python libraries?\n",
    "\n",
    "Python libraries are used for several reasons:\n",
    "\n",
    "Code Reusability: Libraries provide pre-written code that can be reused across different projects, saving time and effort by avoiding the need to reinvent the wheel.\n",
    "\n",
    "Increased Productivity: By leveraging existing libraries, developers can accomplish complex tasks more efficiently and with fewer lines of code, leading to increased productivity.\n",
    "\n",
    "Domain-specific Functionality: Python libraries are often tailored to specific domains or tasks, providing specialized functionalities and tools that are not available in the standard Python library.\n",
    "\n",
    "Performance Optimization: Many Python libraries are optimized for performance, often using underlying C or Cython implementations, which can significantly improve the execution speed of computations and operations.\n",
    "\n",
    "Community Support: Popular Python libraries have large communities of users and contributors who provide support, documentation, tutorials, and frequently update the libraries with new features and bug fixes.</pre>"
   ]
  },
  {
   "cell_type": "markdown",
   "metadata": {},
   "source": [
    "#### 2. What is the difference between Numpy array and List?"
   ]
  },
  {
   "cell_type": "markdown",
   "metadata": {},
   "source": [
    "<pre>Underlying Implementation:\n",
    "\n",
    "NumPy arrays are homogeneous data structures, meaning that all elements in the array must be of the same data type. This allows NumPy to store data more efficiently in memory compared to Python lists.\n",
    "Python lists, on the other hand, are heterogeneous data structures, meaning that they can contain elements of different data types.\n",
    "Memory Efficiency:\n",
    "\n",
    "NumPy arrays are stored as contiguous blocks of memory, allowing for efficient access and manipulation of data. This makes NumPy arrays more memory efficient compared to Python lists, especially when dealing with large datasets.\n",
    "Python lists are implemented as dynamic arrays, which means that each element is stored in a separate block of memory with additional overhead for storing metadata about the list.\n",
    "Functionality:\n",
    "\n",
    "NumPy arrays provide a wide range of mathematical operations and functions for numerical computing, such as element-wise operations, linear algebra, statistical functions, and Fourier transforms.\n",
    "Python lists offer basic operations such as indexing, slicing, appending, and concatenating. While Python lists can be used for a variety of tasks, they lack the extensive mathematical and numerical computing capabilities of NumPy arrays.\n",
    "Performance:\n",
    "\n",
    "NumPy operations are implemented in highly optimized C code, which makes them much faster compared to equivalent operations performed on Python lists using native Python code. This performance advantage is particularly significant when working with large datasets and performing complex numerical computations.\n",
    "Python lists are generally slower for numerical computations, especially when performing operations on large datasets, due to the overhead of dynamic memory allocation and the lack of optimization for numerical computations.</pre>"
   ]
  },
  {
   "cell_type": "markdown",
   "metadata": {},
   "source": [
    "#### 3. Find the shape, size and dimension of the following array?\n",
    "<pre>[[1, 2, 3, 4],\n",
    "[5, 6, 7, 8],\n",
    "[9, 10, 11, 12]]</pre>"
   ]
  },
  {
   "cell_type": "code",
   "execution_count": 1,
   "metadata": {},
   "outputs": [],
   "source": [
    "import numpy as np\n",
    "import warnings\n",
    "warnings.filterwarnings('ignore')\n",
    "arr = np.array([[1, 2, 3, 4],\n",
    "                [5, 6, 7, 8],\n",
    "                [9, 10, 11, 12]])"
   ]
  },
  {
   "cell_type": "code",
   "execution_count": 6,
   "metadata": {},
   "outputs": [
    {
     "name": "stdout",
     "output_type": "stream",
     "text": [
      "shape of array (3, 4)\n",
      "size of array 12\n",
      "Dimention of array 2\n"
     ]
    }
   ],
   "source": [
    "print('shape of array',arr.shape)\n",
    "print('size of array',arr.size)\n",
    "print('Dimention of array',arr.ndim)"
   ]
  },
  {
   "cell_type": "markdown",
   "metadata": {},
   "source": [
    "#### 4. Write python code to access the first row of the following array?\n",
    "<pre>[[1, 2, 3, 4],\n",
    "[5, 6, 7, 8],\n",
    "[9, 10, 11, 12]]</pre>"
   ]
  },
  {
   "cell_type": "code",
   "execution_count": null,
   "metadata": {},
   "outputs": [],
   "source": [
    "arr = [[1, 2, 3, 4],\n",
    "       [5, 6, 7, 8],\n",
    "       [9, 10, 11, 12]]"
   ]
  },
  {
   "cell_type": "code",
   "execution_count": 8,
   "metadata": {},
   "outputs": [
    {
     "data": {
      "text/plain": [
       "array([1, 2, 3, 4])"
      ]
     },
     "execution_count": 8,
     "metadata": {},
     "output_type": "execute_result"
    }
   ],
   "source": [
    "# to use first row of numpy array we can use slicing\n",
    "arr[0]"
   ]
  },
  {
   "cell_type": "code",
   "execution_count": 11,
   "metadata": {},
   "outputs": [
    {
     "data": {
      "text/plain": [
       "array([1, 2, 3, 4])"
      ]
     },
     "execution_count": 11,
     "metadata": {},
     "output_type": "execute_result"
    }
   ],
   "source": [
    "# to use first row of numpy array we can use ndim slicing\n",
    "arr[arr.ndim - arr.ndim]"
   ]
  },
  {
   "cell_type": "code",
   "execution_count": 18,
   "metadata": {},
   "outputs": [
    {
     "data": {
      "text/plain": [
       "array([1, 2, 3, 4])"
      ]
     },
     "execution_count": 18,
     "metadata": {},
     "output_type": "execute_result"
    }
   ],
   "source": [
    "# to use first row of numpy array we can use shape slicing\n",
    "arr[arr.shape[0]+1-arr.shape[1]]"
   ]
  },
  {
   "cell_type": "markdown",
   "metadata": {},
   "source": [
    "5. How do you access the element at the third row and fourth column from the given numpy array?\n",
    "<pre>[[1, 2, 3, 4],\n",
    "[5, 6, 7, 8],\n",
    "[9, 10, 11, 12]]</pre>"
   ]
  },
  {
   "cell_type": "code",
   "execution_count": null,
   "metadata": {},
   "outputs": [],
   "source": [
    "arr = np.array([[1, 2, 3, 4],\n",
    "                [5, 6, 7, 8],\n",
    "                [9, 10, 11, 12]])"
   ]
  },
  {
   "cell_type": "code",
   "execution_count": 27,
   "metadata": {},
   "outputs": [
    {
     "data": {
      "text/plain": [
       "12"
      ]
     },
     "execution_count": 27,
     "metadata": {},
     "output_type": "execute_result"
    }
   ],
   "source": [
    "# to access element at specific location rows,columns we can use matrix slicing \n",
    "arr[2][3]"
   ]
  },
  {
   "cell_type": "markdown",
   "metadata": {},
   "source": [
    "#### 6. Write code to extract all odd-indexed elements from the given numpy array?\n",
    "<pre>[[1, 2, 3, 4],\n",
    "[5, 6, 7, 8],\n",
    "[9, 10, 11, 12]]</pre>"
   ]
  },
  {
   "cell_type": "code",
   "execution_count": 60,
   "metadata": {},
   "outputs": [],
   "source": [
    "arr = np.array([[1, 2, 3, 4],\n",
    "                [5, 6, 7, 8],\n",
    "                [9, 10, 11, 12]])"
   ]
  },
  {
   "cell_type": "code",
   "execution_count": 59,
   "metadata": {},
   "outputs": [
    {
     "data": {
      "text/plain": [
       "(array([2, 4]), array([6, 8]), array([10, 12]))"
      ]
     },
     "execution_count": 59,
     "metadata": {},
     "output_type": "execute_result"
    }
   ],
   "source": [
    "# static way to extract odd indexed values\n",
    "arr[0][1::2] , arr[1][1::2], arr[2][1::2]"
   ]
  },
  {
   "cell_type": "code",
   "execution_count": 61,
   "metadata": {},
   "outputs": [
    {
     "name": "stdout",
     "output_type": "stream",
     "text": [
      "[[2, 4], [6, 8], [10, 12]]\n"
     ]
    }
   ],
   "source": [
    "# dynamic way to extract odd indexed values\n",
    "arr = [[1, 2, 3, 4], [5, 6, 7, 8], [9, 10, 11, 12]]\n",
    "\n",
    "odd_indexed_arrays = [subarr[1::2] for subarr in arr]\n",
    "\n",
    "print(odd_indexed_arrays)\n"
   ]
  },
  {
   "cell_type": "code",
   "execution_count": 63,
   "metadata": {},
   "outputs": [
    {
     "name": "stdout",
     "output_type": "stream",
     "text": [
      "0 [1, 2, 3, 4]\n",
      "1 [5, 6, 7, 8]\n",
      "2 [9, 10, 11, 12]\n"
     ]
    }
   ],
   "source": [
    "for o,i in enumerate(arr):\n",
    "    print(o,i)"
   ]
  },
  {
   "cell_type": "markdown",
   "metadata": {},
   "source": [
    "#### 7. How can you generate a random 3x3 matrix with values between 0 and 1?"
   ]
  },
  {
   "cell_type": "code",
   "execution_count": 89,
   "metadata": {},
   "outputs": [
    {
     "data": {
      "text/plain": [
       "array([[0, 1, 0],\n",
       "       [1, 0, 1],\n",
       "       [1, 0, 0]])"
      ]
     },
     "execution_count": 89,
     "metadata": {},
     "output_type": "execute_result"
    }
   ],
   "source": [
    "import random\n",
    "\n",
    "arr = np.array([[random.randint(0,1),random.randint(0,1),random.randint(0,1)],\n",
    "                [random.randint(0,1),random.randint(0,1),random.randint(0,1)],\n",
    "                [random.randint(0,1),random.randint(0,1),random.randint(0,1)]])\n",
    "arr"
   ]
  },
  {
   "cell_type": "code",
   "execution_count": 94,
   "metadata": {},
   "outputs": [
    {
     "data": {
      "text/plain": [
       "array([[0., 0., 1.],\n",
       "       [1., 0., 0.],\n",
       "       [0., 0., 0.]])"
      ]
     },
     "execution_count": 94,
     "metadata": {},
     "output_type": "execute_result"
    }
   ],
   "source": [
    "arr = np.array([[random.randint(0,1),random.randint(0,1),random.randint(0,1)],\n",
    "                [random.randint(0,1),random.randint(0,1),random.randint(0,1)],\n",
    "                [random.randint(0,1),random.randint(0,1),random.randint(0,1)]])/1.0\n",
    "arr"
   ]
  },
  {
   "cell_type": "code",
   "execution_count": 92,
   "metadata": {},
   "outputs": [
    {
     "name": "stdout",
     "output_type": "stream",
     "text": [
      "[[0.    0.125 0.25 ]\n",
      " [0.375 0.5   0.625]\n",
      " [0.75  0.875 1.   ]]\n"
     ]
    }
   ],
   "source": [
    "values = np.linspace(0, 1, 9).reshape(3, 3)\n",
    "print(values)"
   ]
  },
  {
   "cell_type": "markdown",
   "metadata": {},
   "source": [
    "#### 8. Describe the difference between np.random.rand and np.random.randn?"
   ]
  },
  {
   "cell_type": "code",
   "execution_count": 95,
   "metadata": {},
   "outputs": [
    {
     "data": {
      "text/plain": [
       "array([[0.22547577, 0.18178797],\n",
       "       [0.85314216, 0.03489657],\n",
       "       [0.22026372, 0.43885421]])"
      ]
     },
     "execution_count": 95,
     "metadata": {},
     "output_type": "execute_result"
    }
   ],
   "source": [
    "np.random.rand(3,2)"
   ]
  },
  {
   "cell_type": "markdown",
   "metadata": {},
   "source": [
    "<pre>\n",
    "rand(d0, d1, ..., dn)\n",
    "\n",
    "Random values in a given shape.\n",
    "\n",
    "Create an array of the given shape and populate it with random samples from a uniform distribution over [0, 1).\n",
    "\n",
    "Parameters\n",
    "d0, d1, ..., dn : int, optional\n",
    "    The dimensions of the returned array, must be non-negative. If no argument is given a single Python float is returned.\n",
    "\n",
    "Returns\n",
    "out : ndarray, shape (d0, d1, ..., dn)\n",
    "    Random values.</pre>"
   ]
  },
  {
   "cell_type": "code",
   "execution_count": 96,
   "metadata": {},
   "outputs": [
    {
     "data": {
      "text/plain": [
       "1.6443967037719738"
      ]
     },
     "execution_count": 96,
     "metadata": {},
     "output_type": "execute_result"
    }
   ],
   "source": [
    "np.random.randn()"
   ]
  },
  {
   "cell_type": "markdown",
   "metadata": {},
   "source": [
    "<pre>randn(d0, d1, ..., dn)\n",
    "\n",
    "Return a sample (or samples) from the \"standard normal\" distribution.\n",
    "\n",
    "If positive int_like arguments are provided, randn generates an array of shape (d0, d1, ..., dn), filled with random floats sampled from a univariate \"normal\" (Gaussian) distribution of mean 0 and variance 1. A single float randomly sampled from the distribution is returned if no argument is provided.\n",
    "\n",
    "Parameters\n",
    "d0, d1, ..., dn : int, optional\n",
    "    The dimensions of the returned array, must be non-negative. If no argument is given a single Python float is returned.\n",
    "\n",
    "Returns\n",
    "Z : ndarray or float\n",
    "    A (d0, d1, ..., dn)-shaped array of floating-point samples from the standard normal distribution, or a single such float if no parameters were supplied.</pre>"
   ]
  },
  {
   "cell_type": "markdown",
   "metadata": {},
   "source": [
    "#### 9. Write code to increase the dimension of the following array?\n",
    "<pre>\n",
    "[[1, 2, 3, 4],\n",
    "[5, 6, 7, 8],\n",
    "[9, 10, 11, 12]]</pre>"
   ]
  },
  {
   "cell_type": "code",
   "execution_count": 100,
   "metadata": {},
   "outputs": [
    {
     "name": "stdout",
     "output_type": "stream",
     "text": [
      "Original dimention 2\n",
      "Expanded dimention 3\n"
     ]
    }
   ],
   "source": [
    "arr = np.array([[1, 2, 3, 4],\n",
    "       [5, 6, 7, 8],\n",
    "       [9, 10, 11, 12]])\n",
    "# Increase the dimension of the array\n",
    "expanded_arr = np.expand_dims(arr, axis=0)\n",
    "\n",
    "print('Original dimention',arr.ndim)\n",
    "print('Expanded dimention',expanded_arr.ndim)"
   ]
  },
  {
   "cell_type": "markdown",
   "metadata": {},
   "source": [
    "#### 10. How to transpose the following array in NumPy?\n",
    "<pre>[[1, 2, 3, 4],\n",
    "[5, 6, 7, 8],\n",
    "[9, 10, 11, 12]]</pre>"
   ]
  },
  {
   "cell_type": "code",
   "execution_count": null,
   "metadata": {},
   "outputs": [],
   "source": [
    "arr = np.array([[1, 2, 3, 4],\n",
    "       [5, 6, 7, 8],\n",
    "       [9, 10, 11, 12]])"
   ]
  },
  {
   "cell_type": "markdown",
   "metadata": {},
   "source": [
    "#### 11. Consider the following matrix:\n",
    "<pre>Matrix A2 [[1, 2, 3, 4] [5, 6, 7, 8],[9, 10, 11, 12]]\n",
    "Matrix B2 [[1, 2, 3, 4] [5, 6, 7, 8],[9, 10, 11, 12]]\n",
    "\n",
    "Perform the following operation using Python:\n",
    "1 Index wiLe multiplication\n",
    "2 Matix multiplicatio'\n",
    "3 Add both the maticK\n",
    "4 Subtact matix B om \n",
    "5 Divide Matix B by A</pre>"
   ]
  },
  {
   "cell_type": "code",
   "execution_count": 2,
   "metadata": {},
   "outputs": [
    {
     "name": "stdout",
     "output_type": "stream",
     "text": [
      "Addition result:\n",
      "[[ 2  4  6  8]\n",
      " [10 12 14 16]\n",
      " [18 20 22 24]]\n",
      "\n",
      "Subtraction result (A2 - B2):\n",
      "[[0 0 0 0]\n",
      " [0 0 0 0]\n",
      " [0 0 0 0]]\n",
      "\n",
      "Matrix multiplication result:\n",
      "[[ 30  70 110]\n",
      " [ 70 174 278]\n",
      " [110 278 446]]\n",
      "\n",
      "Division result (B2 / A2):\n",
      "[[1. 1. 1. 1.]\n",
      " [1. 1. 1. 1.]\n",
      " [1. 1. 1. 1.]]\n"
     ]
    }
   ],
   "source": [
    "\n",
    "# Define matrices A2 and B2\n",
    "A2 = np.array([[1, 2, 3, 4], [5, 6, 7, 8], [9, 10, 11, 12]])\n",
    "B2 = np.array([[1, 2, 3, 4], [5, 6, 7, 8], [9, 10, 11, 12]])\n",
    "\n",
    "# Add both matrices\n",
    "addition_result = A2 + B2\n",
    "print(\"Addition result:\")\n",
    "print(addition_result)\n",
    "\n",
    "# Subtract matrix B from matrix A\n",
    "subtraction_result = A2 - B2\n",
    "print(\"\\nSubtraction result (A2 - B2):\")\n",
    "print(subtraction_result)\n",
    "\n",
    "# Matrix multiplication\n",
    "multiplication_result = np.dot(A2, B2.T)  # Assuming you want to perform matrix multiplication\n",
    "print(\"\\nMatrix multiplication result:\")\n",
    "print(multiplication_result)\n",
    "\n",
    "# Element-wise division of matrix B by matrix A\n",
    "division_result = np.divide(B2, A2)\n",
    "print(\"\\nDivision result (B2 / A2):\")\n",
    "print(division_result)\n"
   ]
  },
  {
   "cell_type": "markdown",
   "metadata": {},
   "source": [
    "#### 12. Which function in Numpy can be used to swap the byte order of an array?"
   ]
  },
  {
   "cell_type": "code",
   "execution_count": null,
   "metadata": {},
   "outputs": [],
   "source": [
    "np.ndarray.byteswap(). #It swaps the bytes of the array element in place."
   ]
  },
  {
   "cell_type": "code",
   "execution_count": 3,
   "metadata": {},
   "outputs": [
    {
     "name": "stdout",
     "output_type": "stream",
     "text": [
      "Original array:\n",
      "[  1 256]\n",
      "\n",
      "Array after byte swapping:\n",
      "[256   1]\n"
     ]
    }
   ],
   "source": [
    "# import numpy as np\n",
    "\n",
    "# Create an array with dtype int16 (2-byte integers)\n",
    "arr = np.array([1, 256], dtype=np.int16)\n",
    "print(\"Original array:\")\n",
    "print(arr)\n",
    "\n",
    "# Swap the byte order of the array\n",
    "arr.byteswap(True)\n",
    "print(\"\\nArray after byte swapping:\")\n",
    "print(arr)\n"
   ]
  },
  {
   "cell_type": "markdown",
   "metadata": {},
   "source": [
    "#### 13. What is the significance of the np.linalg.inv function?"
   ]
  },
  {
   "cell_type": "markdown",
   "metadata": {},
   "source": [
    "The np.linalg.inv function is used to compute the multiplicative inverse of a matrix. It is significant in linear algebra and is commonly used in various mathematical computations, including solving systems of linear equations and computing determinants."
   ]
  },
  {
   "cell_type": "code",
   "execution_count": 4,
   "metadata": {},
   "outputs": [
    {
     "name": "stdout",
     "output_type": "stream",
     "text": [
      "Original matrix:\n",
      "[[2 1]\n",
      " [1 3]]\n",
      "\n",
      "Inverse of the matrix:\n",
      "[[ 0.6 -0.2]\n",
      " [-0.2  0.4]]\n"
     ]
    }
   ],
   "source": [
    "# Create a 2x2 matrix\n",
    "A = np.array([[2, 1], [1, 3]])\n",
    "print(\"Original matrix:\")\n",
    "print(A)\n",
    "\n",
    "# Compute the inverse of the matrix\n",
    "A_inv = np.linalg.inv(A)\n",
    "print(\"\\nInverse of the matrix:\")\n",
    "print(A_inv)"
   ]
  },
  {
   "cell_type": "markdown",
   "metadata": {},
   "source": [
    "#### 14. What does the np.reshape function do, and how is it used?"
   ]
  },
  {
   "cell_type": "markdown",
   "metadata": {},
   "source": [
    "The np.reshape function is used to change the shape of an array without changing its data. It returns a new array with a modified shape. This function is useful for reorganizing data to fit different dimensional requirements."
   ]
  },
  {
   "cell_type": "code",
   "execution_count": 5,
   "metadata": {},
   "outputs": [
    {
     "name": "stdout",
     "output_type": "stream",
     "text": [
      "Original 1D array:\n",
      "[ 0  1  2  3  4  5  6  7  8  9 10 11]\n",
      "\n",
      "Reshaped 3x4 matrix:\n",
      "[[ 0  1  2  3]\n",
      " [ 4  5  6  7]\n",
      " [ 8  9 10 11]]\n"
     ]
    }
   ],
   "source": [
    "# Create a 1D array from 0 to 11\n",
    "arr = np.arange(12)\n",
    "print(\"Original 1D array:\")\n",
    "print(arr)\n",
    "\n",
    "# Reshape the array into a 3x4 matrix\n",
    "reshaped_arr = np.reshape(arr, (3, 4))\n",
    "print(\"\\nReshaped 3x4 matrix:\")\n",
    "print(reshaped_arr)"
   ]
  },
  {
   "cell_type": "markdown",
   "metadata": {},
   "source": [
    "#### What is broadcasting in NumPy?"
   ]
  },
  {
   "cell_type": "markdown",
   "metadata": {},
   "source": [
    "Broadcasting is a mechanism in NumPy that allows arrays with different shapes to be combined in arithmetic operations. When performing operations on arrays with different shapes, NumPy automatically \"broadcasts\" the arrays to make their shapes compatible, effectively extending the smaller array to match the shape of the larger one. This allows element-wise operations to be performed between arrays of different shapes without explicitly reshaping them. Broadcasting is an essential feature in NumPy that simplifies many array computations and makes code more concise and readable."
   ]
  },
  {
   "cell_type": "code",
   "execution_count": 6,
   "metadata": {},
   "outputs": [
    {
     "name": "stdout",
     "output_type": "stream",
     "text": [
      "Array A:\n",
      "[[1 2 3]\n",
      " [4 5 6]]\n",
      "\n",
      "Result of broadcasting scalar addition:\n",
      "[[11 12 13]\n",
      " [14 15 16]]\n"
     ]
    }
   ],
   "source": [
    "# Create a 2x3 array\n",
    "A = np.array([[1, 2, 3], [4, 5, 6]])\n",
    "print(\"Array A:\")\n",
    "print(A)\n",
    "\n",
    "# Add a scalar value to each element of the array using broadcasting\n",
    "scalar = 10\n",
    "result = A + scalar\n",
    "print(\"\\nResult of broadcasting scalar addition:\")\n",
    "print(result)"
   ]
  },
  {
   "cell_type": "markdown",
   "metadata": {},
   "source": []
  }
 ],
 "metadata": {
  "kernelspec": {
   "display_name": "Python 3",
   "language": "python",
   "name": "python3"
  },
  "language_info": {
   "codemirror_mode": {
    "name": "ipython",
    "version": 3
   },
   "file_extension": ".py",
   "mimetype": "text/x-python",
   "name": "python",
   "nbconvert_exporter": "python",
   "pygments_lexer": "ipython3",
   "version": "3.11.0"
  }
 },
 "nbformat": 4,
 "nbformat_minor": 2
}
