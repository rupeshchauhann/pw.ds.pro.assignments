{
 "cells": [
  {
   "cell_type": "markdown",
   "metadata": {},
   "source": [
    "# Problem 1: Intersection of Two Sorted Arrays"
   ]
  },
  {
   "cell_type": "code",
   "execution_count": 1,
   "metadata": {},
   "outputs": [
    {
     "name": "stdout",
     "output_type": "stream",
     "text": [
      "Intersection: [5]\n"
     ]
    }
   ],
   "source": [
    "def intersection_of_sorted_arrays(A, B):\n",
    "    i, j = 0, 0\n",
    "    intersection = []\n",
    "    while i < len(A) and j < len(B):\n",
    "        if A[i] < B[j]:\n",
    "            i += 1\n",
    "        elif A[i] > B[j]:\n",
    "            j += 1\n",
    "        else:\n",
    "            intersection.append(A[i])\n",
    "            i += 1\n",
    "            j += 1\n",
    "    return intersection\n",
    "\n",
    "# Input\n",
    "A = [1, 3, 5, 7, 9]\n",
    "B = [2, 4, 5, 8]\n",
    "print(\"Intersection:\", intersection_of_sorted_arrays(A, B))"
   ]
  },
  {
   "cell_type": "markdown",
   "metadata": {},
   "source": [
    "# Problem 2: Find the Kth Smallest Element"
   ]
  },
  {
   "cell_type": "code",
   "execution_count": 2,
   "metadata": {},
   "outputs": [
    {
     "name": "stdout",
     "output_type": "stream",
     "text": [
      "The 3rd smallest element is 7\n"
     ]
    }
   ],
   "source": [
    "def find_kth_smallest(arr, k):\n",
    "    arr.sort()\n",
    "    return arr[k - 1]\n",
    "\n",
    "# Input\n",
    "arr = [12, 3, 1, 7, 8, 20]\n",
    "k = 3\n",
    "print(f\"The {k}rd smallest element is {find_kth_smallest(arr, k)}\")"
   ]
  },
  {
   "cell_type": "markdown",
   "metadata": {},
   "source": [
    "# Problem 3: Binary Search in a Rotated Sorted Array"
   ]
  },
  {
   "cell_type": "code",
   "execution_count": 3,
   "metadata": {},
   "outputs": [
    {
     "name": "stdout",
     "output_type": "stream",
     "text": [
      "Element 6 found at index 2\n"
     ]
    }
   ],
   "source": [
    "def search_in_rotated_array(arr, target):\n",
    "    low, high = 0, len(arr) - 1\n",
    "    while low <= high:\n",
    "        mid = (low + high) // 2\n",
    "        if arr[mid] == target:\n",
    "            return mid\n",
    "        if arr[low] <= arr[mid]:\n",
    "            if arr[low] <= target < arr[mid]:\n",
    "                high = mid - 1\n",
    "            else:\n",
    "                low = mid + 1\n",
    "        else:\n",
    "            if arr[mid] < target <= arr[high]:\n",
    "                low = mid + 1\n",
    "            else:\n",
    "                high = mid - 1\n",
    "    return -1\n",
    "\n",
    "# Input\n",
    "arr = [4, 5, 6, 7, 8, 9, 1, 2, 3]\n",
    "target = 6\n",
    "index = search_in_rotated_array(arr, target)\n",
    "print(f\"Element {target} found at index {index}\")"
   ]
  },
  {
   "cell_type": "markdown",
   "metadata": {},
   "source": [
    "# Problem 4: Searching in a Matrix"
   ]
  },
  {
   "cell_type": "code",
   "execution_count": 4,
   "metadata": {},
   "outputs": [
    {
     "name": "stdout",
     "output_type": "stream",
     "text": [
      "Element 11 found at position (1, 2)\n"
     ]
    }
   ],
   "source": [
    "def search_in_matrix(matrix, target):\n",
    "    for i, row in enumerate(matrix):\n",
    "        for j, value in enumerate(row):\n",
    "            if value == target:\n",
    "                return (i, j)\n",
    "    return None\n",
    "\n",
    "# Input\n",
    "matrix = [\n",
    "    [1, 3, 5],\n",
    "    [7, 9, 11],\n",
    "    [13, 15, 17]\n",
    "]\n",
    "target = 11\n",
    "position = search_in_matrix(matrix, target)\n",
    "if position:\n",
    "    print(f\"Element {target} found at position {position}\")"
   ]
  },
  {
   "cell_type": "markdown",
   "metadata": {},
   "source": [
    "# Problem 5: Sorting Strings by Length"
   ]
  },
  {
   "cell_type": "code",
   "execution_count": 5,
   "metadata": {},
   "outputs": [
    {
     "name": "stdout",
     "output_type": "stream",
     "text": [
      "['kiwi', 'apple', 'grape', 'banana', 'orange']\n"
     ]
    }
   ],
   "source": [
    "def sort_strings_by_length(strings):\n",
    "    return sorted(strings, key=len)\n",
    "\n",
    "# Input\n",
    "strings = ['apple', 'banana', 'kiwi', 'orange', 'grape']\n",
    "print(sort_strings_by_length(strings))"
   ]
  },
  {
   "cell_type": "markdown",
   "metadata": {},
   "source": [
    "# Problem 9: Find a Peak Element in an Array"
   ]
  },
  {
   "cell_type": "code",
   "execution_count": 6,
   "metadata": {},
   "outputs": [
    {
     "name": "stdout",
     "output_type": "stream",
     "text": [
      "Peak element is 20\n"
     ]
    }
   ],
   "source": [
    "def find_peak_element(arr):\n",
    "    for i in range(len(arr)):\n",
    "        if (i == 0 or arr[i] >= arr[i - 1]) and (i == len(arr) - 1 or arr[i] >= arr[i + 1]):\n",
    "            return arr[i]\n",
    "\n",
    "# Input\n",
    "arr = [1, 3, 20, 4, 1, 0]\n",
    "print(\"Peak element is\", find_peak_element(arr))"
   ]
  },
  {
   "cell_type": "markdown",
   "metadata": {},
   "source": [
    "# Problem 10: Search in a Nearly Sorted Array"
   ]
  },
  {
   "cell_type": "code",
   "execution_count": 7,
   "metadata": {},
   "outputs": [
    {
     "name": "stdout",
     "output_type": "stream",
     "text": [
      "Element 5 found at index 5\n"
     ]
    }
   ],
   "source": [
    "def search_nearly_sorted_array(arr, target, k):\n",
    "    for i in range(len(arr)):\n",
    "        if abs(i - arr.index(target)) <= k:\n",
    "            return arr.index(target)\n",
    "    return -1\n",
    "\n",
    "# Input\n",
    "arr = [2, 1, 3, 4, 6, 5, 7]\n",
    "k = 1\n",
    "target = 5\n",
    "index = search_nearly_sorted_array(arr, target, k)\n",
    "print(f\"Element {target} found at index {index}\")"
   ]
  }
 ],
 "metadata": {
  "kernelspec": {
   "display_name": "Python 3",
   "language": "python",
   "name": "python3"
  },
  "language_info": {
   "codemirror_mode": {
    "name": "ipython",
    "version": 3
   },
   "file_extension": ".py",
   "mimetype": "text/x-python",
   "name": "python",
   "nbconvert_exporter": "python",
   "pygments_lexer": "ipython3",
   "version": "3.10.0"
  }
 },
 "nbformat": 4,
 "nbformat_minor": 2
}
