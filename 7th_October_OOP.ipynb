{
 "cells": [
  {
   "cell_type": "markdown",
   "id": "a1b802fe",
   "metadata": {},
   "source": [
    "# Problem 1: \n",
    "- Bank Account Create a class representing a bank account with attributes like account number, account holder name, and balance. Implement methods to deposit and withdraw money from the account.\n"
   ]
  },
  {
   "cell_type": "code",
   "execution_count": 7,
   "id": "fef1683a-faa4-4d27-a0a6-7a742e512e9b",
   "metadata": {},
   "outputs": [],
   "source": [
    "class bank:\n",
    "    def __init__(self,account_number,account_holder_name,balance):\n",
    "        self.account_number = account_number\n",
    "        self.account_holder_name = account_holder_name\n",
    "        self.balance = balance\n",
    "    \n",
    "    def deposit(self,amount):\n",
    "        # print(\"Dear, \",self.account_holder_name,'')\n",
    "        self.balance += amount\n",
    "        print('Dear valued Customer')\n",
    "        print('your account number: ',self.account_number)\n",
    "        print('credited with:',amount)\n",
    "        print('New balance is: ',self.balance)\n",
    "\n",
    "    def withdraw(self,amount):\n",
    "        if amount == 0:\n",
    "            return 'Please enter valid amount'\n",
    "        if self.balance == 0:\n",
    "            return 'Your account must have more than 0 to withdraw'\n",
    "        else:\n",
    "            # amt = self.balance - amount\n",
    "            if self.balance - amount < 0:\n",
    "                return 'Insufficient balance'\n",
    "            else:\n",
    "                self.balance = self.balance - amount\n",
    "                print(str(amount)+' amount debited from: '+ str(self.account_number))\n",
    "                print('Dear valued Customer: ',self.account_holder_name)\n",
    "                print('Your new balance is: '+str(self.balance))\n",
    "        \n",
    "bankk = bank(82828282,'Rupesh Chauhan',5698)"
   ]
  },
  {
   "cell_type": "code",
   "execution_count": 45,
   "id": "ab9e0f8b",
   "metadata": {},
   "outputs": [
    {
     "name": "stdout",
     "output_type": "stream",
     "text": [
      "5698 amount debited from: 82828282\n",
      "Dear valued Customer:  Rupesh Chauhan\n",
      "Your new balance is: 0\n"
     ]
    }
   ],
   "source": [
    "bankk.withdraw(5698)"
   ]
  },
  {
   "cell_type": "code",
   "execution_count": 8,
   "id": "7dbd39ee",
   "metadata": {},
   "outputs": [
    {
     "name": "stdout",
     "output_type": "stream",
     "text": [
      "Dear valued Customer\n",
      "your account number:  82828282\n",
      "credited with: 85420\n",
      "New balance is:  91118\n"
     ]
    }
   ],
   "source": [
    "bankk.deposit(85420)"
   ]
  },
  {
   "cell_type": "markdown",
   "id": "2093517c",
   "metadata": {},
   "source": [
    "# Problem 2:\n",
    "- Employee Management Create a class representing an employee with attributes like employee ID, name, and salary. Implement methods to calculate the yearly bonus and display employee details."
   ]
  },
  {
   "cell_type": "code",
   "execution_count": 9,
   "id": "631be7c0",
   "metadata": {},
   "outputs": [],
   "source": [
    "class employee:\n",
    "    def __init__(self,employee_id,name,salary):\n",
    "        self.employee_id = employee_id\n",
    "        self.name = name\n",
    "        self.salary = salary\n",
    "    \n",
    "    def yearly_bonus(self,increment):\n",
    "        if increment == 0:\n",
    "            return ' You didn\\'t got increment'\n",
    "        else:\n",
    "            self.salary += self.salary * increment//100\n",
    "            return ' Your final salary after bonus : '+ str(self.salary)\n",
    "\n",
    "    def display_employee_details(self):\n",
    "        print(\" Employee ID: \" +str(self.employee_id)) \n",
    "        print(' Name: ', self.name,'\\n','Salary: ',self.salary)\n",
    "\n"
   ]
  },
  {
   "cell_type": "code",
   "execution_count": 10,
   "id": "3330d482",
   "metadata": {},
   "outputs": [
    {
     "name": "stdout",
     "output_type": "stream",
     "text": [
      " Your final salary after bonus : 90000\n",
      "--------------------\n",
      " Employee ID: 1001\n",
      " Name:  Ajay Dev-Gun \n",
      " Salary:  90000\n"
     ]
    }
   ],
   "source": [
    "employee1 = employee(1001, \"Ajay Dev-Gun\", 60000)\n",
    "print(employee1.yearly_bonus(50))\n",
    "print('-'*20)\n",
    "employee1.display_employee_details()"
   ]
  },
  {
   "cell_type": "markdown",
   "id": "775a2630",
   "metadata": {},
   "source": [
    "# Problem 3:\n",
    "-  Vehicle Rental Create a class representing a vehicle rental system. Implement methods to rent a vehicle, return a vehicle, and display available vehicles."
   ]
  },
  {
   "cell_type": "code",
   "execution_count": 11,
   "id": "49fa9416",
   "metadata": {},
   "outputs": [
    {
     "name": "stdout",
     "output_type": "stream",
     "text": [
      "Car Brand: Toyota\n",
      "Number Plate: ABC123\n",
      "PUC Status: Valid\n",
      "Locality: Downtown\n",
      "Not currently rented.\n",
      "Toyota with number plate ABC123 has been rented to Aliya.\n",
      "Car Brand: Toyota\n",
      "Number Plate: ABC123\n",
      "PUC Status: Valid\n",
      "Locality: Downtown\n",
      "Currently Rented to: Aliya\n",
      "Toyota with number plate ABC123 has been returned.\n",
      "Car Brand: Toyota\n",
      "Number Plate: ABC123\n",
      "PUC Status: Valid\n",
      "Locality: Downtown\n",
      "Not currently rented.\n"
     ]
    }
   ],
   "source": [
    "class VehicleRental:\n",
    "    def __init__(self, person_name : int, car_brand : int, number_plate : int, puc : int, locality : int) :\n",
    "        self.person_name = person_name\n",
    "        self.car_brand = car_brand\n",
    "        self.number_plate = number_plate\n",
    "        self.puc = puc\n",
    "        self.locality = locality\n",
    "        self.is_rented = False\n",
    "\n",
    "    def rent_vehicle(self, person_name, number_plate):\n",
    "        if not self.is_rented:\n",
    "            self.person_name = person_name\n",
    "            self.is_rented = True\n",
    "            print(f\"{self.car_brand} with number plate {self.number_plate} has been rented to {self.person_name}.\")\n",
    "        else:\n",
    "            print(\"This vehicle is already rented.\")\n",
    "\n",
    "    def return_vehicle(self):\n",
    "        if self.is_rented:\n",
    "            self.person_name = None\n",
    "            self.is_rented = False\n",
    "            print(f\"{self.car_brand} with number plate {self.number_plate} has been returned.\")\n",
    "        else:\n",
    "            print(\"This vehicle is not currently rented.\")\n",
    "\n",
    "    def car_details(self):\n",
    "        print(f\"Car Brand: {self.car_brand}\")\n",
    "        print(f\"Number Plate: {self.number_plate}\")\n",
    "        print(f\"PUC Status: {self.puc}\")\n",
    "        print(f\"Locality: {self.locality}\")\n",
    "        if self.is_rented:\n",
    "            print(f\"Currently Rented to: {self.person_name}\")\n",
    "        else:\n",
    "            print(\"Not currently rented.\")\n",
    "\n",
    "# Example usage:\n",
    "car1 = VehicleRental(\"lalu\", \"Toyota\", \"ABC123\", \"Valid\", \"Downtown\")\n",
    "car1.car_details()\n",
    "car1.rent_vehicle(\"Aliya\", \"ABC123\")\n",
    "car1.car_details()\n",
    "car1.return_vehicle()\n",
    "car1.car_details()"
   ]
  },
  {
   "cell_type": "markdown",
   "id": "f9fe9343",
   "metadata": {},
   "source": [
    "# Problem 4:\n",
    "- Library Catalog Create classes representing a library and a book. Implement methods to add books to the library, borrow books, and display available books."
   ]
  },
  {
   "cell_type": "code",
   "execution_count": 12,
   "id": "5b57fee3",
   "metadata": {},
   "outputs": [
    {
     "name": "stdout",
     "output_type": "stream",
     "text": [
      "The Great Gatsby, by F. Scott Fitzgerald has been added to the library.\n",
      "To Kill a Mockingbird, by Harper Lee has been added to the library.\n",
      "1984, by George Orwell has been added to the library.\n",
      "-------- Available books in the library: --------\n",
      "The Great Gatsby, by F. Scott Fitzgerald\n",
      "To Kill a Mockingbird, by Harper Lee\n",
      "1984, by George Orwell\n",
      "You have borrowed book\n",
      "-------- Available books in the library: --------\n",
      "To Kill a Mockingbird, by Harper Lee\n",
      "1984, by George Orwell\n",
      "Thank you for returning book\n",
      "-------- Available books in the library: --------\n",
      "The Great Gatsby, by F. Scott Fitzgerald\n",
      "To Kill a Mockingbird, by Harper Lee\n",
      "1984, by George Orwell\n"
     ]
    }
   ],
   "source": [
    "class Book:\n",
    "    def __init__(self, title, author):\n",
    "        self.title = title\n",
    "        self.author = author\n",
    "        self.is_available = True\n",
    "\n",
    "    def __str__(self):\n",
    "        return self.title +  \", by \"+ self.author\n",
    "\n",
    "class Library:\n",
    "    def __init__(self):\n",
    "        self.books = []\n",
    "\n",
    "    def add_book(self, title, author):\n",
    "        new_book = Book(title, author)\n",
    "        self.books.append(new_book)\n",
    "        print(new_book, \"has been added to the library.\")\n",
    "\n",
    "    def borrow_book(self, title):\n",
    "        for book in self.books:\n",
    "            if book.title == title and book.is_available:\n",
    "                book.is_available = False\n",
    "                print(\"You have borrowed book\")\n",
    "                return\n",
    "        print(\"Sorry, title, is not available in the library.\")\n",
    "\n",
    "    def return_book(self, title):\n",
    "        for book in self.books:\n",
    "            if book.title == title and not book.is_available:\n",
    "                book.is_available = True\n",
    "                print(\"Thank you for returning book\")\n",
    "                return\n",
    "        print(\"Sorry, title, is not in the list of borrowed books.\")\n",
    "\n",
    "    def display_available_books(self):\n",
    "        available_books = [book for book in self.books if book.is_available]\n",
    "        if available_books:\n",
    "            print(\"-\"*8,\"Available books in the library:\",\"-\"*8)\n",
    "            for book in available_books:\n",
    "                print(book)\n",
    "        else:\n",
    "            print(\"No books are currently available in the library.\")\n",
    "\n",
    "# Example usage:\n",
    "library = Library()\n",
    "\n",
    "library.add_book(\"The Great Gatsby\", \"F. Scott Fitzgerald\")\n",
    "library.add_book(\"To Kill a Mockingbird\", \"Harper Lee\")\n",
    "library.add_book(\"1984\", \"George Orwell\")\n",
    "\n",
    "library.display_available_books()\n",
    "\n",
    "library.borrow_book(\"The Great Gatsby\")\n",
    "library.display_available_books()\n",
    "\n",
    "library.return_book(\"The Great Gatsby\")\n",
    "library.display_available_books()"
   ]
  },
  {
   "cell_type": "markdown",
   "id": "9e729e09",
   "metadata": {},
   "source": [
    "# Problem 5: \n",
    "- Product Inventory Create classes representing a product and an inventory system. Implement methods to add products to the inventory, update product quantity, and display available products."
   ]
  },
  {
   "cell_type": "code",
   "execution_count": 13,
   "id": "51333442",
   "metadata": {},
   "outputs": [
    {
     "name": "stdout",
     "output_type": "stream",
     "text": [
      "Available Products:\n",
      "Laptop (ID: 1) - Price: $1200.00, Quantity: 10\n",
      "Smartphone (ID: 2) - Price: $800.00, Quantity: 15\n",
      "Quantity for product ID 1 updated to 8.\n",
      "Available Products:\n",
      "Laptop (ID: 1) - Price: $1200.00, Quantity: 8\n",
      "Smartphone (ID: 2) - Price: $800.00, Quantity: 15\n"
     ]
    }
   ],
   "source": [
    "class Product:\n",
    "    def __init__(self, product_id, name, price, quantity):\n",
    "        self.product_id = product_id\n",
    "        self.name = name\n",
    "        self.price = price\n",
    "        self.quantity = quantity\n",
    "\n",
    "    def __str__(self):\n",
    "        return f\"{self.name} (ID: {self.product_id}) - Price: ${self.price:.2f}, Quantity: {self.quantity}\"\n",
    "\n",
    "class Inventory:\n",
    "    def __init__(self):\n",
    "        self.products = {}\n",
    "\n",
    "    def add_product(self, product):\n",
    "        if product.product_id not in self.products:\n",
    "            self.products[product.product_id] = product\n",
    "        else:\n",
    "            print(f\"Product with ID {product.product_id} already exists in the inventory.\")\n",
    "\n",
    "    def update_quantity(self, product_id, new_quantity):\n",
    "        if product_id in self.products:\n",
    "            self.products[product_id].quantity = new_quantity\n",
    "            print(f\"Quantity for product ID {product_id} updated to {new_quantity}.\")\n",
    "        else:\n",
    "            print(f\"Product with ID {product_id} not found in the inventory.\")\n",
    "\n",
    "    def display_available_products(self):\n",
    "        if not self.products:\n",
    "            print(\"No products in the inventory.\")\n",
    "        else:\n",
    "            print(\"Available Products:\")\n",
    "            for product in self.products.values():\n",
    "                print(product)\n",
    "\n",
    "# Example Usage:\n",
    "# Creating products\n",
    "product1 = Product(1, \"Laptop\", 1200.0, 10)\n",
    "product2 = Product(2, \"Smartphone\", 800.0, 15)\n",
    "\n",
    "# Creating inventory\n",
    "inventory = Inventory()\n",
    "\n",
    "# Adding products to the inventory\n",
    "inventory.add_product(product1)\n",
    "inventory.add_product(product2)\n",
    "\n",
    "# Displaying available products\n",
    "inventory.display_available_products()\n",
    "\n",
    "# Updating quantity of a product\n",
    "inventory.update_quantity(1, 8)\n",
    "\n",
    "# Displaying available products after updating quantity\n",
    "inventory.display_available_products()\n"
   ]
  },
  {
   "cell_type": "markdown",
   "metadata": {},
   "source": [
    "# Problem 6: \n",
    "- Shape Calculation Create a class representing a shape with attributes like length, width, and height. Implement methods to calculate the area and perimeter of the shape."
   ]
  },
  {
   "cell_type": "code",
   "execution_count": 14,
   "id": "1b1bf396",
   "metadata": {},
   "outputs": [
    {
     "name": "stdout",
     "output_type": "stream",
     "text": [
      "Area: 40\n",
      "Perimeter: 26\n",
      "Area (Surface Area for 3D): 108\n",
      "Perimeter: Perimeter is not applicable for 3D shapes.\n"
     ]
    }
   ],
   "source": [
    "class Shape:\n",
    "    def __init__(self, length, width, height=None):\n",
    "        self.length = length\n",
    "        self.width = width\n",
    "        self.height = height\n",
    "\n",
    "    def calculate_area(self):\n",
    "        if self.height is None:\n",
    "            # Assuming it's a 2D shape (e.g., rectangle)\n",
    "            return self.length * self.width\n",
    "        else:\n",
    "            # Assuming it's a 3D shape (e.g., rectangular prism)\n",
    "            return 2 * (self.length * self.width + self.length * self.height + self.width * self.height)\n",
    "\n",
    "    def calculate_perimeter(self):\n",
    "        if self.height is None:\n",
    "            # Assuming it's a 2D shape (e.g., rectangle)\n",
    "            return 2 * (self.length + self.width)\n",
    "        else:\n",
    "            # Perimeter is not applicable for 3D shapes\n",
    "            return \"Perimeter is not applicable for 3D shapes.\"\n",
    "\n",
    "# Example Usage:\n",
    "# Creating a 2D shape (rectangle)\n",
    "rectangle = Shape(5, 8)\n",
    "\n",
    "# Calculating and displaying area and perimeter\n",
    "print(\"Area:\", rectangle.calculate_area())\n",
    "print(\"Perimeter:\", rectangle.calculate_perimeter())\n",
    "\n",
    "# Creating a 3D shape (rectangular prism)\n",
    "prism = Shape(3, 4, 6)\n",
    "\n",
    "# Calculating and displaying area (surface area in 3D) and perimeter\n",
    "print(\"Area (Surface Area for 3D):\", prism.calculate_area())\n",
    "print(\"Perimeter:\", prism.calculate_perimeter())\n"
   ]
  },
  {
   "cell_type": "markdown",
   "metadata": {},
   "source": [
    "# Problem 7: \n",
    "- Student Management Create a class representing a student with attributes like student ID, name, and grades. Implement methods to calculate the average grade and display student details.\n"
   ]
  },
  {
   "cell_type": "code",
   "execution_count": 15,
   "id": "15b0073e",
   "metadata": {},
   "outputs": [
    {
     "name": "stdout",
     "output_type": "stream",
     "text": [
      "Student ID: 101\n",
      "Name: mayank\n",
      "Grades: 85, 90, 78, 92, 88\n",
      "Average Grade: 86.60\n"
     ]
    }
   ],
   "source": [
    "class Student:\n",
    "    def __init__(self, student_id, name, grades):\n",
    "        self.student_id = student_id\n",
    "        self.name = name\n",
    "        self.grades = grades\n",
    "\n",
    "    def calculate_average_grade(self):\n",
    "        if not self.grades:\n",
    "            return 0  # Return 0 if there are no grades to avoid division by zero\n",
    "        return sum(self.grades) / len(self.grades)\n",
    "\n",
    "    def display_student_details(self):\n",
    "        print(f\"Student ID: {self.student_id}\")\n",
    "        print(f\"Name: {self.name}\")\n",
    "        print(f\"Grades: {', '.join(map(str, self.grades))}\")\n",
    "        print(f\"Average Grade: {self.calculate_average_grade():.2f}\")\n",
    "\n",
    "# Example Usage:\n",
    "# Creating a student\n",
    "student1 = Student(101, \"mayank\", [85, 90, 78, 92, 88])\n",
    "\n",
    "# Displaying student details\n",
    "student1.display_student_details()\n"
   ]
  },
  {
   "cell_type": "markdown",
   "metadata": {},
   "source": [
    "# Problem 8: \n",
    "- Email Management Create a class representing an email with attributes like sender, recipient, and subject. Implement methods to send an email and display email details.\n"
   ]
  },
  {
   "cell_type": "code",
   "execution_count": 16,
   "metadata": {},
   "outputs": [
    {
     "name": "stdout",
     "output_type": "stream",
     "text": [
      "Email Details:\n",
      "Sender: lalu.doe@example.com\n",
      "Recipient: jane.smith@example.com\n",
      "Subject: Meeting Details\n",
      "Body: Hi Jane, let's meet at 2 PM.\n",
      "Status: Draft\n",
      "Email sent from lalu.doe@example.com to jane.smith@example.com with subject 'Meeting Details'\n",
      "Email Details:\n",
      "Sender: lalu.doe@example.com\n",
      "Recipient: jane.smith@example.com\n",
      "Subject: Meeting Details\n",
      "Body: Hi Jane, let's meet at 2 PM.\n",
      "Status: Sent\n"
     ]
    }
   ],
   "source": [
    "class Email:\n",
    "    def __init__(self, sender, recipient, subject, body):\n",
    "        self.sender = sender\n",
    "        self.recipient = recipient\n",
    "        self.subject = subject\n",
    "        self.body = body\n",
    "        self.sent = False\n",
    "\n",
    "    def send_email(self):\n",
    "        # Simulating the sending of an email\n",
    "        print(f\"Email sent from {self.sender} to {self.recipient} with subject '{self.subject}'\")\n",
    "        self.sent = True\n",
    "\n",
    "    def display_email_details(self):\n",
    "        print(\"Email Details:\")\n",
    "        print(f\"Sender: {self.sender}\")\n",
    "        print(f\"Recipient: {self.recipient}\")\n",
    "        print(f\"Subject: {self.subject}\")\n",
    "        print(f\"Body: {self.body}\")\n",
    "        print(\"Status: Sent\" if self.sent else \"Status: Draft\")\n",
    "\n",
    "# Example Usage:\n",
    "# Creating an email\n",
    "email1 = Email(sender=\"lalu.doe@example.com\", recipient=\"jane.smith@example.com\", subject=\"Meeting Details\", body=\"Hi Jane, let's meet at 2 PM.\")\n",
    "\n",
    "# Displaying email details (Draft status)\n",
    "email1.display_email_details()\n",
    "\n",
    "# Sending the email\n",
    "email1.send_email()\n",
    "\n",
    "# Displaying email details (Sent status)\n",
    "email1.display_email_details()\n"
   ]
  },
  {
   "cell_type": "markdown",
   "metadata": {},
   "source": [
    "# Problem 9: \n",
    "- Social Media Profile Create a class representing a social media profile with attributes like username and posts. Implement methods to add posts, display posts, and search for posts by keyword.\n"
   ]
  },
  {
   "cell_type": "code",
   "execution_count": 17,
   "metadata": {},
   "outputs": [
    {
     "name": "stdout",
     "output_type": "stream",
     "text": [
      "New post added by laluDoe.\n",
      "New post added by laluDoe.\n",
      "Posts by laluDoe:\n",
      "1. Enjoying a beautiful day in the park! (by laluDoe)\n",
      "2. Just finished reading a great book. (by laluDoe)\n",
      "Posts containing the keyword 'book':\n",
      "1. Just finished reading a great book. (by laluDoe)\n"
     ]
    }
   ],
   "source": [
    "class SocialMediaProfile:\n",
    "    def __init__(self, username):\n",
    "        self.username = username\n",
    "        self.posts = []\n",
    "\n",
    "    def add_post(self, post_content):\n",
    "        post = {\"content\": post_content, \"author\": self.username}\n",
    "        self.posts.append(post)\n",
    "        print(f\"New post added by {self.username}.\")\n",
    "\n",
    "    def display_posts(self):\n",
    "        if not self.posts:\n",
    "            print(\"No posts available.\")\n",
    "        else:\n",
    "            print(f\"Posts by {self.username}:\")\n",
    "            for index, post in enumerate(self.posts, start=1):\n",
    "                print(f\"{index}. {post['content']} (by {post['author']})\")\n",
    "\n",
    "    def search_posts(self, keyword):\n",
    "        matching_posts = [post for post in self.posts if keyword.lower() in post[\"content\"].lower()]\n",
    "        if not matching_posts:\n",
    "            print(f\"No posts found containing the keyword '{keyword}'.\")\n",
    "        else:\n",
    "            print(f\"Posts containing the keyword '{keyword}':\")\n",
    "            for index, post in enumerate(matching_posts, start=1):\n",
    "                print(f\"{index}. {post['content']} (by {post['author']})\")\n",
    "\n",
    "# Example Usage:\n",
    "# Creating a social media profile\n",
    "profile = SocialMediaProfile(username=\"laluDoe\")\n",
    "\n",
    "# Adding posts\n",
    "profile.add_post(\"Enjoying a beautiful day in the park!\")\n",
    "profile.add_post(\"Just finished reading a great book.\")\n",
    "\n",
    "# Displaying posts\n",
    "profile.display_posts()\n",
    "\n",
    "# Searching for posts with a keyword\n",
    "profile.search_posts(\"book\")\n"
   ]
  },
  {
   "cell_type": "markdown",
   "metadata": {},
   "source": [
    "# Problem 10: \n",
    "- ToDo List Create a class representing a ToDo list with attributes like tasks and due dates. Implement methods to add tasks, mark tasks as completed, and display pending tasks."
   ]
  },
  {
   "cell_type": "code",
   "execution_count": 18,
   "metadata": {},
   "outputs": [
    {
     "name": "stdout",
     "output_type": "stream",
     "text": [
      "New task added: 'Complete project report' due on 2023-11-20.\n",
      "New task added: 'Buy groceries' due on 2023-11-15.\n",
      "Pending Tasks:\n",
      "1. Complete project report (Due on 2023-11-20)\n",
      "2. Buy groceries (Due on 2023-11-15)\n",
      "Task 'Buy groceries' marked as completed.\n",
      "Pending Tasks:\n",
      "1. Complete project report (Due on 2023-11-20)\n"
     ]
    }
   ],
   "source": [
    "class ToDoList:\n",
    "    def __init__(self):\n",
    "        self.tasks = []\n",
    "\n",
    "    def add_task(self, task, due_date):\n",
    "        new_task = {\"task\": task, \"due_date\": due_date, \"completed\": False}\n",
    "        self.tasks.append(new_task)\n",
    "        print(f\"New task added: '{task}' due on {due_date}.\")\n",
    "\n",
    "    def mark_as_completed(self, task_index):\n",
    "        if 0 <= task_index < len(self.tasks):\n",
    "            self.tasks[task_index][\"completed\"] = True\n",
    "            print(f\"Task '{self.tasks[task_index]['task']}' marked as completed.\")\n",
    "        else:\n",
    "            print(\"Invalid task index.\")\n",
    "\n",
    "    def display_pending_tasks(self):\n",
    "        pending_tasks = [task for task in self.tasks if not task[\"completed\"]]\n",
    "        if not pending_tasks:\n",
    "            print(\"No pending tasks.\")\n",
    "        else:\n",
    "            print(\"Pending Tasks:\")\n",
    "            for index, task in enumerate(pending_tasks, start=1):\n",
    "                print(f\"{index}. {task['task']} (Due on {task['due_date']})\")\n",
    "\n",
    "# Example Usage:\n",
    "# Creating a ToDo list\n",
    "todo_list = ToDoList()\n",
    "\n",
    "# Adding tasks\n",
    "todo_list.add_task(\"Complete project report\", \"2023-11-20\")\n",
    "todo_list.add_task(\"Buy groceries\", \"2023-11-15\")\n",
    "\n",
    "# Displaying pending tasks\n",
    "todo_list.display_pending_tasks()\n",
    "\n",
    "# Marking a task as completed\n",
    "todo_list.mark_as_completed(1)\n",
    "\n",
    "# Displaying updated pending tasks\n",
    "todo_list.display_pending_tasks()\n"
   ]
  },
  {
   "cell_type": "code",
   "execution_count": null,
   "metadata": {},
   "outputs": [],
   "source": []
  }
 ],
 "metadata": {
  "kernelspec": {
   "display_name": "Python 3 (ipykernel)",
   "language": "python",
   "name": "python3"
  },
  "language_info": {
   "codemirror_mode": {
    "name": "ipython",
    "version": 3
   },
   "file_extension": ".py",
   "mimetype": "text/x-python",
   "name": "python",
   "nbconvert_exporter": "python",
   "pygments_lexer": "ipython3",
   "version": "3.10.0"
  }
 },
 "nbformat": 4,
 "nbformat_minor": 5
}
