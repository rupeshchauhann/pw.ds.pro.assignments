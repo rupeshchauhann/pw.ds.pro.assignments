{
 "cells": [
  {
   "cell_type": "markdown",
   "metadata": {},
   "source": [
    "# <span style=\"color: limegreen;\"><span style=\"color: limegreen;\">Constructor:</span>\n"
   ]
  },
  {
   "cell_type": "markdown",
   "metadata": {},
   "source": [
    "### <span style=\"color: limegreen;\"> 1. What is a constructor in Python? Explain its purpose and usage.</span>"
   ]
  },
  {
   "cell_type": "markdown",
   "metadata": {},
   "source": [
    "- In Python, a constructor is a special method that is automatically called when an object is created from a class. The purpose of a constructor is to initialize the attributes of the object. Constructors are defined using the __init__ method.\n",
    "\n",
    "- Example:\n"
   ]
  },
  {
   "cell_type": "code",
   "execution_count": 1,
   "metadata": {},
   "outputs": [
    {
     "name": "stdout",
     "output_type": "stream",
     "text": [
      "value1\n",
      "value2\n"
     ]
    }
   ],
   "source": [
    "class MyClass:\n",
    "    def __init__(self, parameter1, parameter2):\n",
    "        self.attribute1 = parameter1\n",
    "        self.attribute2 = parameter2\n",
    "\n",
    "# Creating an object of MyClass and invoking the constructor\n",
    "my_object = MyClass(\"value1\", \"value2\")\n",
    "\n",
    "# Accessing the attributes of the object\n",
    "print(my_object.attribute1)  # Output: value1\n",
    "print(my_object.attribute2)  # Output: value2\n"
   ]
  },
  {
   "cell_type": "markdown",
   "metadata": {},
   "source": [
    "- In this example, the __init__ method takes three parameters: self, parameter1, and parameter2. The self parameter refers to the instance of the object being created, and it is automatically passed when the object is instantiated. The parameter1 and parameter2 are used to initialize the attributes attribute1 and attribute2 of the object, respectively.\n",
    "\n",
    "- When you create an object of the class using the class name followed by parentheses, as in my_object = MyClass(\"value1\", \"value2\"), the __init__ method is automatically called, and the attributes are initialized with the provided values."
   ]
  },
  {
   "cell_type": "markdown",
   "metadata": {},
   "source": [
    "### <span style=\"color: limegreen;\">2. Differentiate between a parameterless constructor and a parameterized constructor in Python.</span>"
   ]
  },
  {
   "cell_type": "markdown",
   "metadata": {},
   "source": [
    "* In Python, constructors in a class can be broadly categorized into parameterless constructors and parameterized constructors based on the number of parameters they accept.\n",
    "\n",
    "- ###### Parameterless Constructor:\n",
    "- Also known as a default constructor.\n",
    "- Takes only one parameter by convention, which is self.\n",
    "- Does not accept any additional parameters during instantiation.\n",
    "- Used when you want to set default values or perform some initialization without requiring any external information.\n",
    "- When you create an object of this class, you don't pass any additional parameters:\n",
    "- ###### Parameterized Constructor:\n",
    "- Accepts parameters in addition to the self parameter.\n",
    "- Allows you to pass values during the instantiation of the object, which can be used to initialize attributes with specific values.\n",
    "- Useful when you want to customize the initialization based on external information.\n",
    "- When you create an object of this class, you provide values for the parameters:\n"
   ]
  },
  {
   "cell_type": "code",
   "execution_count": 5,
   "metadata": {},
   "outputs": [
    {
     "name": "stdout",
     "output_type": "stream",
     "text": [
      "default_value1 default_value2 Without parameter constructor attributes\n"
     ]
    }
   ],
   "source": [
    "class ParameterlessConstructorExample:\n",
    "    def __init__(self):\n",
    "        # Initialization code with default values\n",
    "        self.attribute1 = \"default_value1\"\n",
    "        self.attribute2 = \"default_value2\"\n",
    "        print(self.attribute1,self.attribute2,\"Without parameter constructor attributes\")\n",
    "# When you create an object of this class, you don't pass any additional parameters:\n",
    "obj = ParameterlessConstructorExample()"
   ]
  },
  {
   "cell_type": "code",
   "execution_count": 6,
   "metadata": {},
   "outputs": [],
   "source": [
    "class ParameterizedConstructorExample:\n",
    "    def __init__(self, param1, param2):\n",
    "        # Initialization code using parameters\n",
    "        self.attribute1 = param1\n",
    "        self.attribute2 = param2\n",
    "# When you create an object of this class, you provide values for the parameters:\n",
    "obj = ParameterizedConstructorExample(\"value1\", \"value2\")"
   ]
  },
  {
   "cell_type": "markdown",
   "metadata": {},
   "source": [
    "### <span style=\"color: limegreen;\"> 3. How do you define a constructor in a Python class? Provide an example.\n",
    "</span>"
   ]
  },
  {
   "cell_type": "markdown",
   "metadata": {},
   "source": [
    "- A constructor is defined using the __init__ method. This method is automatically called when an object is created from a class, and it is used to initialize the attributes of the object. Here's an example:"
   ]
  },
  {
   "cell_type": "code",
   "execution_count": null,
   "metadata": {},
   "outputs": [],
   "source": [
    "class MyClass:\n",
    "    def __init__(self, parameter1, parameter2):\n",
    "        self.attribute1 = parameter1\n",
    "        self.attribute2 = parameter2\n",
    "\n",
    "# Creating an object of MyClass and invoking the constructor\n",
    "my_object = MyClass(\"value1\", \"value2\")\n",
    "\n",
    "# Accessing the attributes of the object\n",
    "print(my_object.attribute1)  # Output: value1\n",
    "print(my_object.attribute2)  # Output: value2\n"
   ]
  },
  {
   "cell_type": "markdown",
   "metadata": {},
   "source": [
    "- The __init__ method is defined with three parameters: self (a reference to the instance being created), parameter1, and parameter2.\n",
    "- Inside the __init__ method, the attributes attribute1 and attribute2 are initialized with the values of parameter1 and parameter2, respectively.\n",
    "- When an object is created (my_object = MyClass(\"value1\", \"value2\")), the __init__ method is automatically called, and the attributes are initialized with the provided values.\n",
    "- Finally, we can access the attributes of the object using dot notation (my_object.attribute1 and my_object.attribute2)."
   ]
  },
  {
   "cell_type": "markdown",
   "metadata": {},
   "source": [
    "### <span style=\"color: limegreen;\">4. Explain the `__init__` method in Python and its role in constructors.</span>\n"
   ]
  },
  {
   "cell_type": "markdown",
   "metadata": {},
   "source": [
    "- In Python, the __init__ method is a special method, also known as the initializer or constructor. It plays a crucial role in the process of creating and initializing objects from a class. The name __init__ is reserved, and this method is automatically called when an object is instantiated from a class.\n",
    "\n",
    "- Here are the key aspects of the __init__ method and its role in constructors:\n",
    "\n",
    "- Initialization of Attributes:\n",
    "- - The primary purpose of the __init__ method is to initialize the attributes of an object.\n",
    "It takes at least one parameter, conventionally named self, which refers to the instance being created.\n",
    "- - Additional parameters can be defined to accept values during object instantiation, allowing customization of the object's initial state.\n",
    "- Automatic Invocation:\n",
    "- - The __init__ method is automatically called when an object is created from a class.\n",
    "- - When you create an object using the class name followed by parentheses, like my_object = MyClass(), Python automatically invokes the __init__ method.\n",
    "- Self Parameter:\n",
    "- - The self parameter is a reference to the instance of the object being created.\n",
    "- - It is the first parameter in the __init__ method and is used to access and modify the object's attributes within the method."
   ]
  },
  {
   "cell_type": "code",
   "execution_count": 7,
   "metadata": {},
   "outputs": [
    {
     "name": "stdout",
     "output_type": "stream",
     "text": [
      "value1\n",
      "value2\n"
     ]
    }
   ],
   "source": [
    "class MyClass:\n",
    "    def __init__(self, parameter1, parameter2):\n",
    "        self.attribute1 = parameter1\n",
    "        self.attribute2 = parameter2\n",
    "\n",
    "# Creating an object of MyClass and invoking the constructor\n",
    "my_object = MyClass(\"value1\", \"value2\")\n",
    "\n",
    "# Accessing the attributes of the object\n",
    "print(my_object.attribute1)  # Output: value1\n",
    "print(my_object.attribute2)  # Output: value2\n"
   ]
  },
  {
   "cell_type": "markdown",
   "metadata": {},
   "source": [
    "### <span style=\"color: limegreen;\">5. In a class named `Person`, create a constructor that initializes the `name` and `age` attributes. Provide an example of creating an object of this class.</span>"
   ]
  },
  {
   "cell_type": "code",
   "execution_count": 1,
   "metadata": {},
   "outputs": [
    {
     "name": "stdout",
     "output_type": "stream",
     "text": [
      "Name: John Doe\n",
      "Age: 25\n"
     ]
    }
   ],
   "source": [
    "class Person:\n",
    "    def __init__(self, name, age):\n",
    "        self.name = name\n",
    "        self.age = age\n",
    "\n",
    "# Creating an object of Person and invoking the constructor\n",
    "person_object = Person(\"John Doe\", 25)\n",
    "\n",
    "# Accessing the attributes of the object\n",
    "print(\"Name:\", person_object.name)\n",
    "print(\"Age:\", person_object.age)\n"
   ]
  },
  {
   "cell_type": "markdown",
   "metadata": {},
   "source": [
    "- The Person class has a constructor __init__ that takes two parameters: name and age.\n",
    "- Inside the constructor, the attributes name and age are initialized with the values passed as parameters.\n",
    "- An object person_object is created by calling Person(\"John Doe\", 25), and the __init__ method is automatically invoked.\n",
    "- Finally, we print the values of the name and age attributes of the person_object."
   ]
  },
  {
   "cell_type": "markdown",
   "metadata": {},
   "source": [
    "### <span style=\"color: limegreen;\">6. How can you call a constructor explicitly in Python? Give an example.</span>\n"
   ]
  },
  {
   "cell_type": "markdown",
   "metadata": {},
   "source": [
    "- In Python, you don't typically call a constructor explicitly; it is automatically invoked when you create an object of a class. \n",
    "- However, you can indirectly call the constructor by creating a new instance of the class."
   ]
  },
  {
   "cell_type": "code",
   "execution_count": null,
   "metadata": {},
   "outputs": [],
   "source": [
    "class MyClass:\n",
    "    def __init__(self, parameter):\n",
    "        self.attribute = parameter\n",
    "        print(\"Constructor is called with parameter:\", parameter)\n",
    "\n",
    "# Creating an object of MyClass, which implicitly calls the constructor\n",
    "my_object = MyClass(\"example_value\")\n",
    "\n",
    "# Creating another object and explicitly calling the constructor\n",
    "another_object = MyClass.__new__(MyClass)\n",
    "MyClass.__init__(another_object, \"explicit_value\")\n",
    "\n",
    "# Accessing attributes of both objects\n",
    "print(my_object.attribute)        # Output: example_value\n",
    "print(another_object.attribute)   # Output: explicit_value\n"
   ]
  },
  {
   "cell_type": "markdown",
   "metadata": {},
   "source": [
    "- The first object, my_object, is created using the regular syntax MyClass(\"example_value\"). The __init__ method is automatically called during this instantiation.\n",
    "- The second object, another_object, is created using MyClass.__new__(MyClass), which is responsible for creating a new instance of the class. Then, MyClass.__init__(another_object, \"explicit_value\") is called explicitly to initialize the object with a specific value."
   ]
  },
  {
   "cell_type": "markdown",
   "metadata": {},
   "source": [
    "### <span style=\"color: limegreen;\">7. What is the significance of the `self` parameter in Python constructors? Explain with an example.</span>\n"
   ]
  },
  {
   "cell_type": "markdown",
   "metadata": {},
   "source": [
    "- The self parameter in Python constructors (and methods in general) serves as a reference to the instance of the class. \n",
    "- It allows you to access and manipulate attributes and methods of the object within the class."
   ]
  },
  {
   "cell_type": "code",
   "execution_count": 2,
   "metadata": {},
   "outputs": [
    {
     "name": "stdout",
     "output_type": "stream",
     "text": [
      "Name: John Doe\n",
      "Age: 25\n",
      "Hi, I'm John Doe, and I'm 25 years old.\n"
     ]
    }
   ],
   "source": [
    "class Person:\n",
    "    def __init__(self, name, age):\n",
    "        # Using self to refer to the instance and initialize attributes\n",
    "        self.name = name\n",
    "        self.age = age\n",
    "\n",
    "    def introduce(self):\n",
    "        # Accessing attributes using self\n",
    "        print(f\"Hi, I'm {self.name}, and I'm {self.age} years old.\")\n",
    "\n",
    "# Creating an object of Person and invoking the constructor\n",
    "person_object = Person(\"John Doe\", 25)\n",
    "\n",
    "# Accessing attributes and calling a method using the object\n",
    "print(\"Name:\", person_object.name)  # Output: John Doe\n",
    "print(\"Age:\", person_object.age)    # Output: 25\n",
    "person_object.introduce()           # Output: Hi, I'm John Doe, and I'm 25 years old.\n"
   ]
  },
  {
   "cell_type": "markdown",
   "metadata": {},
   "source": [
    "- The __init__ method takes three parameters: self, name, and age. Inside the method, self.name and self.age are used to initialize attributes of the object with the values provided during instantiation.\n",
    "- The introduce method also takes self as a parameter, allowing it to access the attributes (self.name and self.age) and print a message about the person.\n",
    "- When creating an object (person_object) from the Person class, the __init__ method is automatically called with the provided values for name and age. Later, we use person_object.name, person_object.age, and person_object.introduce() to access attributes and call a method on the object, respectively.\n"
   ]
  },
  {
   "cell_type": "markdown",
   "metadata": {},
   "source": [
    "### <span style=\"color: limegreen;\">8. Discuss the concept of default constructors in Python. When are they used?</span>\n"
   ]
  },
  {
   "cell_type": "markdown",
   "metadata": {},
   "source": [
    "- In Python, a default constructor is a constructor that doesn't take any explicit parameters other than the default self parameter. \n",
    "- When you create a class in Python without explicitly defining a constructor (__init__ method), Python provides a default constructor for you. \n",
    "- This default constructor doesn't perform any explicit initialization, but it's still there and gets called when an object of the class is instantiated."
   ]
  },
  {
   "cell_type": "code",
   "execution_count": 3,
   "metadata": {},
   "outputs": [
    {
     "name": "stdout",
     "output_type": "stream",
     "text": [
      "<__main__.MyClass object at 0x103b86bf0>\n"
     ]
    }
   ],
   "source": [
    "class MyClass:\n",
    "    pass\n",
    "\n",
    "# Creating an object of MyClass\n",
    "my_object = MyClass()\n",
    "\n",
    "# Accessing the object\n",
    "print(my_object)  # Output: <__main__.MyClass object at 0x...>\n"
   ]
  },
  {
   "cell_type": "markdown",
   "metadata": {},
   "source": [
    "- `MyClass` doesn't explicitly define a constructor (__init__ method), so Python provides a default constructor.\n",
    "When \n",
    "- `my_object` is created using MyClass(), the default constructor is implicitly called."
   ]
  },
  {
   "cell_type": "markdown",
   "metadata": {},
   "source": [
    "### <span style=\"color: limegreen;\">9. Create a Python class called `Rectangle` with a constructor that initializes the `width` and `height` attributes. Provide a method to calculate the area of the rectangle.</span>\n"
   ]
  },
  {
   "cell_type": "code",
   "execution_count": 4,
   "metadata": {},
   "outputs": [
    {
     "name": "stdout",
     "output_type": "stream",
     "text": [
      "Width: 5\n",
      "Height: 10\n",
      "Area: 50\n"
     ]
    }
   ],
   "source": [
    "class Rectangle:\n",
    "    def __init__(self, width, height):\n",
    "        self.width = width\n",
    "        self.height = height\n",
    "\n",
    "    def calculate_area(self):\n",
    "        return self.width * self.height\n",
    "\n",
    "# Creating an object of Rectangle and invoking the constructor\n",
    "rectangle_object = Rectangle(width=5, height=10)\n",
    "\n",
    "# Accessing attributes and calling the method\n",
    "print(\"Width:\", rectangle_object.width)    # Output: 5\n",
    "print(\"Height:\", rectangle_object.height)  # Output: 10\n",
    "\n",
    "# Calculating and printing the area of the rectangle\n",
    "area = rectangle_object.calculate_area()\n",
    "print(\"Area:\", area)  # Output: 50\n"
   ]
  },
  {
   "cell_type": "markdown",
   "metadata": {},
   "source": [
    "### <span style=\"color: limegreen;\">10. How can you have multiple constructors in a Python class? Explain with an example.</span>"
   ]
  },
  {
   "cell_type": "markdown",
   "metadata": {},
   "source": [
    "- In Python, you can't have multiple constructors in the same way as some other programming languages that support constructor overloading. \n",
    "- However, you can achieve similar functionality using default parameter values in the constructor. By providing default values for parameters, you can create a single constructor that accommodates different ways of object instantiation."
   ]
  },
  {
   "cell_type": "code",
   "execution_count": 5,
   "metadata": {},
   "outputs": [
    {
     "name": "stdout",
     "output_type": "stream",
     "text": [
      "Person 1 - Name: John\n",
      "Person 1 - Age: 0\n",
      "Person 2 - Name: Jane\n",
      "Person 2 - Age: 25\n"
     ]
    }
   ],
   "source": [
    "class Person:\n",
    "    def __init__(self, name, age=0):\n",
    "        self.name = name\n",
    "        self.age = age\n",
    "\n",
    "# Creating objects of Person with different ways of instantiation\n",
    "person1 = Person(\"John\")      # age defaults to 0\n",
    "person2 = Person(\"Jane\", 25)  # providing both name and age\n",
    "\n",
    "# Accessing attributes of the objects\n",
    "print(\"Person 1 - Name:\", person1.name)  # Output: John\n",
    "print(\"Person 1 - Age:\", person1.age)    # Output: 0 (default value)\n",
    "\n",
    "print(\"Person 2 - Name:\", person2.name)  # Output: Jane\n",
    "print(\"Person 2 - Age:\", person2.age)    # Output: 25\n"
   ]
  },
  {
   "cell_type": "markdown",
   "metadata": {},
   "source": [
    "- The Person class has a constructor (__init__ method) with two parameters: name and age. The age parameter has a default value of 0.\n",
    "- When you create an object of the Person class, you can either provide values for both name and age or just provide a value for name, allowing age to take its default value.\n",
    "- The default value for age makes it optional. If you don't provide a value for age during instantiation, it will default to 0."
   ]
  },
  {
   "cell_type": "markdown",
   "metadata": {},
   "source": [
    "### <span style=\"color: limegreen;\">11. What is method overloading, and how is it related to constructors in Python?</span>\n"
   ]
  },
  {
   "cell_type": "markdown",
   "metadata": {},
   "source": [
    "- Method overloading is a concept in object-oriented programming where a class can have multiple methods with the same name but different parameter lists. The behavior of the method is determined by the number, types, or order of its parameters. \n",
    "- In some programming languages, method overloading is supported explicitly, allowing you to define multiple methods with the same name in a class.\n",
    "- - <b>In Python, if you define a method with the same name multiple times in a class, the latest definition will override the previous ones.</b>"
   ]
  },
  {
   "cell_type": "markdown",
   "metadata": {},
   "source": [
    "#####  Method Overloading in Constructors:\n",
    "\n",
    "- While Python doesn't support traditional method overloading, constructors can use default parameter values to achieve similar functionality.\n",
    "- Constructors can have default values for parameters, making certain parameters optional during object instantiation.\n",
    "- This allows the constructor to be called with different sets of parameters, achieving a form of method overloading."
   ]
  },
  {
   "cell_type": "code",
   "execution_count": 6,
   "metadata": {},
   "outputs": [
    {
     "name": "stdout",
     "output_type": "stream",
     "text": [
      "value1 0 default\n",
      "value1 10 default\n",
      "value1 10 custom_value\n"
     ]
    }
   ],
   "source": [
    "class MyClass:\n",
    "    def __init__(self, param1, param2=0, param3=\"default\"):\n",
    "        self.param1 = param1\n",
    "        self.param2 = param2\n",
    "        self.param3 = param3\n",
    "\n",
    "# Creating objects with different sets of parameters\n",
    "obj1 = MyClass(\"value1\")\n",
    "obj2 = MyClass(\"value1\", 10)\n",
    "obj3 = MyClass(\"value1\", 10, \"custom_value\")\n",
    "\n",
    "# Accessing attributes of the objects\n",
    "print(obj1.param1, obj1.param2, obj1.param3)  # Output: value1 0 default\n",
    "print(obj2.param1, obj2.param2, obj2.param3)  # Output: value1 10 default\n",
    "print(obj3.param1, obj3.param2, obj3.param3)  # Output: value1 10 custom_value\n"
   ]
  },
  {
   "cell_type": "markdown",
   "metadata": {},
   "source": [
    "### <span style=\"color: limegreen;\">12. Explain the use of the `super()` function in Python constructors. Provide an example.</span>"
   ]
  },
  {
   "cell_type": "code",
   "execution_count": 9,
   "metadata": {},
   "outputs": [
    {
     "name": "stdout",
     "output_type": "stream",
     "text": [
      "ParentClass constructor called with parameter: parent_value\n",
      "ChildClass constructor called with parameter: child_value\n"
     ]
    }
   ],
   "source": [
    "class ParentClass:\n",
    "    def __init__(self, parent_param):\n",
    "        self.parent_param = parent_param\n",
    "        print(\"ParentClass constructor called with parameter:\", parent_param)\n",
    "\n",
    "class ChildClass(ParentClass):\n",
    "    def __init__(self, parent_param, child_param):\n",
    "        # Calling the constructor of the parent class using super()\n",
    "        super().__init__(parent_param)\n",
    "\n",
    "        # Initializing attributes specific to the child class\n",
    "        self.child_param = child_param\n",
    "        print(\"ChildClass constructor called with parameter:\", child_param)\n",
    "\n",
    "# Creating an object of the ChildClass\n",
    "child_obj = ChildClass(\"parent_value\", \"child_value\")\n"
   ]
  },
  {
   "cell_type": "markdown",
   "metadata": {},
   "source": [
    "- ParentClass has a constructor (__init__ method) that initializes an attribute parent_param.\n",
    "- ChildClass inherits from ParentClass and has its own constructor that takes two parameters: parent_param and child_param.\n",
    "- In the constructor of ChildClass, super().__init__(parent_param) is used to call the constructor of the parent class (ParentClass). This ensures that the initialization code in the parent class is executed before the child class's initialization code.\n",
    "- After calling the parent class's constructor, the child class initializes its own attributes, including child_param.\n",
    "- When an object of ChildClass is created (child_obj), both the parent class's constructor and the child class's constructor are called."
   ]
  },
  {
   "cell_type": "markdown",
   "metadata": {},
   "source": [
    "### <span style=\"color: limegreen;\">13. Create a class called `Book` with a constructor that initializes the `title`, `author`, and `published_year` attributes. Provide a method to display book details.</span>"
   ]
  },
  {
   "cell_type": "code",
   "execution_count": 11,
   "metadata": {},
   "outputs": [
    {
     "name": "stdout",
     "output_type": "stream",
     "text": [
      "Title: Python Crash Course\n",
      "Author: Eric Matthes\n",
      "Published Year: 2015\n"
     ]
    }
   ],
   "source": [
    "class Book:\n",
    "    def __init__(self, title, author, published_year):\n",
    "        self.title = title\n",
    "        self.author = author\n",
    "        self.published_year = published_year\n",
    "    def display_details(self):\n",
    "        print(f\"Title: {self.title}\")\n",
    "        print(f\"Author: {self.author}\")\n",
    "        print(f\"Published Year: {self.published_year}\")\n",
    "        \n",
    "# Creating an object of Book and invoking the constructor\n",
    "book_object = Book(\"Python Crash Course\", \"Eric Matthes\", 2015)\n",
    "\n",
    "# Accessing attributes of the object\n",
    "print(\"Title:\", book_object.title)               # Output: Python Crash Course\n",
    "print(\"Author:\", book_object.author)             # Output: Eric Matthes\n",
    "print(\"Published Year:\", book_object.published_year)  # Output: 2015\n"
   ]
  },
  {
   "cell_type": "markdown",
   "metadata": {},
   "source": [
    "- The Book class has a constructor (__init__ method) that takes three parameters: title, author, and published_year. - Inside the constructor, these parameters are used to initialize the corresponding attributes of the object.\n",
    "- When an object (book_object) is created from the Book class, the __init__ method is automatically called with the provided values for title, author, and published_year.\n",
    "- We can then access the attributes of the object using dot notation (book_object.title, book_object.author, and book_object.published_year)."
   ]
  },
  {
   "cell_type": "markdown",
   "metadata": {},
   "source": [
    "### <span style=\"color: limegreen;\">14. Discuss the differences between constructors and regular methods in Python classes.</span>"
   ]
  },
  {
   "cell_type": "markdown",
   "metadata": {},
   "source": [
    "##### Constructors:\n",
    "- - Purpose: Initialize object attributes when the object is created.\n",
    "- - Invocation: Automatically called when an object is instantiated.\n",
    "- - Name: __init__.\n",
    "- - Parameters: At least self and additional parameters for attribute initialization.\n",
    "- - Return: Does not explicitly return."
   ]
  },
  {
   "cell_type": "code",
   "execution_count": 17,
   "metadata": {},
   "outputs": [
    {
     "name": "stdout",
     "output_type": "stream",
     "text": [
      "Attribute 1: 10\n",
      "Attribute 2: 20\n",
      "Result: 35\n"
     ]
    }
   ],
   "source": [
    "class MyClass1:\n",
    "    def __init__(self, attribute1, attribute2):\n",
    "        self.attribute1 = attribute1\n",
    "        self.attribute2 = attribute2\n",
    "\n",
    "class MyClass2(MyClass1):\n",
    "    def regular_method(self, additional_value):\n",
    "        return self.attribute1 + self.attribute2 + additional_value\n",
    "\n",
    "# Creating an object and invoking the constructor\n",
    "obj = MyClass2(10, 20)\n",
    "\n",
    "# Calling the regular method\n",
    "result = obj.regular_method(5)\n",
    "\n",
    "# Accessing attributes and printing the result\n",
    "print(\"Attribute 1:\", obj.attribute1)  # Output: 10\n",
    "print(\"Attribute 2:\", obj.attribute2)  # Output: 20\n",
    "print(\"Result:\", result)               # Output: 35\n"
   ]
  },
  {
   "cell_type": "markdown",
   "metadata": {},
   "source": [
    "### <span style=\"color: limegreen;\">15. Explain the role of the `self` parameter in instance variable initialization within a constructor.</span>"
   ]
  },
  {
   "cell_type": "markdown",
   "metadata": {},
   "source": [
    "- In Python, the self parameter in a constructor is a reference to the instance of the class being created. It allows for the initialization of instance variables, which are attributes specific to each object. \n",
    "- By using self, you can access and modify these variables within the class, ensuring that each instance maintains its own state."
   ]
  },
  {
   "cell_type": "code",
   "execution_count": 18,
   "metadata": {},
   "outputs": [
    {
     "name": "stdout",
     "output_type": "stream",
     "text": [
      "value1\n",
      "value2\n"
     ]
    }
   ],
   "source": [
    "class MyClass:\n",
    "    def __init__(self, attribute1, attribute2):\n",
    "        self.attribute1 = attribute1\n",
    "        self.attribute2 = attribute2\n",
    "\n",
    "obj = MyClass(\"value1\", \"value2\")\n",
    "print(obj.attribute1)  # Output: value1\n",
    "print(obj.attribute2)  # Output: value2\n"
   ]
  },
  {
   "cell_type": "markdown",
   "metadata": {},
   "source": [
    "### <span style=\"color: limegreen;\">16. How do you prevent a class from having multiple instances by using constructors in Python? Provide an example</span>"
   ]
  },
  {
   "cell_type": "code",
   "execution_count": 19,
   "metadata": {},
   "outputs": [
    {
     "name": "stdout",
     "output_type": "stream",
     "text": [
      "True\n",
      "Singleton Instance\n",
      "Singleton Instance\n"
     ]
    }
   ],
   "source": [
    "class SingletonClass:\n",
    "    _instance = None\n",
    "\n",
    "    def __new__(cls):\n",
    "        # Check if an instance already exists\n",
    "        if cls._instance is None:\n",
    "            # If not, create a new instance\n",
    "            cls._instance = super(SingletonClass, cls).__new__(cls)\n",
    "            # Perform any other initialization here\n",
    "            cls._instance.attribute = \"Singleton Instance\"\n",
    "        # Return the existing instance\n",
    "        return cls._instance\n",
    "\n",
    "# Creating instances of SingletonClass\n",
    "singleton_instance1 = SingletonClass()\n",
    "singleton_instance2 = SingletonClass()\n",
    "\n",
    "# Checking if both instances refer to the same object\n",
    "print(singleton_instance1 is singleton_instance2)  # Output: True\n",
    "\n",
    "# Accessing attributes of the singleton instance\n",
    "print(singleton_instance1.attribute)  # Output: Singleton Instance\n",
    "print(singleton_instance2.attribute)  # Output: Singleton Instance\n"
   ]
  },
  {
   "cell_type": "markdown",
   "metadata": {},
   "source": [
    "- The _instance class variable is used to store the single instance of the class.\n",
    "- The __new__ method is overridden to control the creation of instances. It checks whether an instance already exists and creates one only if it doesn't.\n",
    "- The __new__ method returns the existing instance if it already exists.\n",
    "- Both singleton_instance1 and singleton_instance2 refer to the same instance of SingletonClass."
   ]
  },
  {
   "cell_type": "markdown",
   "metadata": {},
   "source": [
    "### <span style=\"color: limegreen;\">17. Create a Python class called `Student` with a constructor that takes a list of subjects as a parameter and initializes the `subjects` attribute.</span>\n"
   ]
  },
  {
   "cell_type": "code",
   "execution_count": 20,
   "metadata": {},
   "outputs": [
    {
     "name": "stdout",
     "output_type": "stream",
     "text": [
      "Subjects: ['Math', 'English', 'Science']\n"
     ]
    }
   ],
   "source": [
    "class Student:\n",
    "    def __init__(self, subjects):\n",
    "        self.subjects = subjects\n",
    "\n",
    "# Creating an object of Student and invoking the constructor\n",
    "student_object = Student([\"Math\", \"English\", \"Science\"])\n",
    "\n",
    "# Accessing the subjects attribute of the object\n",
    "print(\"Subjects:\", student_object.subjects)\n"
   ]
  },
  {
   "cell_type": "markdown",
   "metadata": {},
   "source": [
    "- The Student class has a constructor (__init__ method) that takes one parameter: subjects.\n",
    "- The constructor initializes the self.subjects attribute with the list of subjects provided during object instantiation.\n",
    "- An object of the Student class (student_object) is created with a list of subjects: [\"Math\", \"English\", \"Science\"].\n",
    "- We then access the subjects attribute of the object using dot notation (student_object.subjects) and print the list of subjects."
   ]
  },
  {
   "cell_type": "markdown",
   "metadata": {},
   "source": [
    "### <span style=\"color: limegreen;\">18. What is the purpose of the `__del__` method in Python classes, and how does it relate to constructors?</span>"
   ]
  },
  {
   "cell_type": "code",
   "execution_count": 21,
   "metadata": {},
   "outputs": [
    {
     "name": "stdout",
     "output_type": "stream",
     "text": [
      "Object First created.\n",
      "Object Second created.\n",
      "Object First is being destroyed.\n",
      "Object Second is being destroyed.\n"
     ]
    }
   ],
   "source": [
    "class MyClass:\n",
    "    def __init__(self, name):\n",
    "        self.name = name\n",
    "        print(f\"Object {self.name} created.\")\n",
    "\n",
    "    def __del__(self):\n",
    "        print(f\"Object {self.name} is being destroyed.\")\n",
    "\n",
    "# Creating objects of MyClass\n",
    "obj1 = MyClass(\"First\")\n",
    "obj2 = MyClass(\"Second\")\n",
    "\n",
    "# Deleting references to objects\n",
    "del obj1\n",
    "del obj2\n"
   ]
  },
  {
   "cell_type": "markdown",
   "metadata": {},
   "source": [
    "- The MyClass has an __init__ method as the constructor, which is called when objects are created. It initializes the name attribute and prints a message.\n",
    "- The __del__ method is the destructor, and it prints a message when the object is being destroyed."
   ]
  },
  {
   "cell_type": "markdown",
   "metadata": {},
   "source": [
    "### <span style=\"color: limegreen;\">19. Explain the use of constructor chaining in Python. Provide a practical example.</span>"
   ]
  },
  {
   "cell_type": "code",
   "execution_count": 22,
   "metadata": {},
   "outputs": [
    {
     "name": "stdout",
     "output_type": "stream",
     "text": [
      "Animal constructor called for Canine\n",
      "Mammal constructor called for Canine\n",
      "Dog constructor called for Golden Retriever\n"
     ]
    }
   ],
   "source": [
    "class Animal:\n",
    "    def __init__(self, species):\n",
    "        self.species = species\n",
    "        print(f\"Animal constructor called for {self.species}\")\n",
    "\n",
    "class Mammal(Animal):\n",
    "    def __init__(self, species, sound):\n",
    "        # Calling the constructor of the base class (Animal) using super()\n",
    "        super().__init__(species)\n",
    "        self.sound = sound\n",
    "        print(f\"Mammal constructor called for {self.species}\")\n",
    "\n",
    "class Dog(Mammal):\n",
    "    def __init__(self, species, sound, breed):\n",
    "        # Calling the constructor of the base class (Mammal) using super()\n",
    "        super().__init__(species, sound)\n",
    "        self.breed = breed\n",
    "        print(f\"Dog constructor called for {self.breed}\")\n",
    "\n",
    "# Creating an object of Dog and invoking the constructor chain\n",
    "dog_object = Dog(\"Canine\", \"Woof\", \"Golden Retriever\")\n"
   ]
  },
  {
   "cell_type": "markdown",
   "metadata": {},
   "source": [
    "- Animal Class:\n",
    " - - Has a constructor (__init__) to initialize the species attribute.\n",
    "- Mammal Class:\n",
    " - - Inherits from Animal.\n",
    " - - Has a constructor that adds the sound attribute and calls the constructor of the base class (Animal) using super().\n",
    "- Dog Class:\n",
    " - - Inherits from Mammal.\n",
    " - - Has a constructor that adds the breed attribute and calls the constructor of the immediate base class (Mammal) using super().\n",
    "- Object Creation:\n",
    " - - Creates an object of the Dog class (dog_object).\n",
    " - - The constructor chain is invoked, calling constructors from Dog to Mammal to Animal.\n"
   ]
  },
  {
   "cell_type": "markdown",
   "metadata": {},
   "source": [
    "### <span style=\"color: limegreen;\">20. Create a Python class called `Car` with a default constructor that initializes the `make` and `model` attributes. Provide a method to display car information.</span>\n"
   ]
  },
  {
   "cell_type": "code",
   "execution_count": 23,
   "metadata": {},
   "outputs": [
    {
     "name": "stdout",
     "output_type": "stream",
     "text": [
      "Car Information: Make - Unknown Make, Model - Unknown Model\n"
     ]
    }
   ],
   "source": [
    "class Car:\n",
    "    def __init__(self, make=\"Unknown Make\", model=\"Unknown Model\"):\n",
    "        self.make = make\n",
    "        self.model = model\n",
    "\n",
    "    def display_info(self):\n",
    "        print(f\"Car Information: Make - {self.make}, Model - {self.model}\")\n",
    "\n",
    "# Creating an object of Car with the default constructor\n",
    "car_object = Car()\n",
    "\n",
    "# Calling the display_info method to print car information\n",
    "car_object.display_info()\n"
   ]
  },
  {
   "cell_type": "markdown",
   "metadata": {},
   "source": [
    "- The Car class has a default constructor (__init__) that takes two parameters (make and model) with default values.\n",
    "- The constructor initializes the self.make and self.model attributes with the provided values or default values if none are provided.\n",
    "- The class includes a method named display_info that uses the self parameter to access the attributes and prints car information."
   ]
  },
  {
   "cell_type": "markdown",
   "metadata": {},
   "source": [
    "# <span style=\"color: limegreen;\">Inheritance:</span>"
   ]
  },
  {
   "cell_type": "markdown",
   "metadata": {},
   "source": [
    "### <span style=\"color: limegreen;\">1. What is inheritance in Python? Explain its significance in object-oriented programming.</span>"
   ]
  },
  {
   "cell_type": "code",
   "execution_count": 4,
   "metadata": {},
   "outputs": [
    {
     "name": "stdout",
     "output_type": "stream",
     "text": [
      "parent class\n",
      "called parent from child class\n"
     ]
    }
   ],
   "source": [
    "class BaseClass:\n",
    "    # Attributes and methods of the base class\n",
    "    print('parent class')\n",
    "class DerivedClass(BaseClass):\n",
    "    # Additional attributes and methods of the derived class\n",
    "    print('called parent from child class')\n",
    "\n"
   ]
  },
  {
   "cell_type": "code",
   "execution_count": 5,
   "metadata": {},
   "outputs": [
    {
     "name": "stdout",
     "output_type": "stream",
     "text": [
      "Engine started\n",
      "Engine started\n",
      "Car is moving\n"
     ]
    }
   ],
   "source": [
    "class Vehicle:\n",
    "    def start_engine(self):\n",
    "        print(\"Engine started\")\n",
    "\n",
    "class Car(Vehicle):\n",
    "    def drive(self):\n",
    "        print(\"Car is moving\")\n",
    "\n",
    "# Creating objects of the classes\n",
    "vehicle_obj = Vehicle()\n",
    "car_obj = Car()\n",
    "\n",
    "# Using inherited methods\n",
    "vehicle_obj.start_engine()  # Output: Engine started\n",
    "car_obj.start_engine()      # Output: Engine started\n",
    "\n",
    "# Using methods specific to derived class\n",
    "car_obj.drive()             # Output: Car is moving\n"
   ]
  },
  {
   "cell_type": "markdown",
   "metadata": {},
   "source": [
    "### <span style=\"color: limegreen;\">2. Differentiate between single inheritance and multiple inheritance in Python. Provide examples for each.</span>"
   ]
  },
  {
   "cell_type": "markdown",
   "metadata": {},
   "source": [
    "#### Single Inheritance: A class inherits from only one base class."
   ]
  },
  {
   "cell_type": "code",
   "execution_count": 6,
   "metadata": {},
   "outputs": [
    {
     "name": "stdout",
     "output_type": "stream",
     "text": [
      "Animal speaks\n",
      "Dog barks\n"
     ]
    }
   ],
   "source": [
    "class Animal:\n",
    "    def speak(self):\n",
    "        print(\"Animal speaks\")\n",
    "\n",
    "class Dog(Animal):\n",
    "    def bark(self):\n",
    "        print(\"Dog barks\")\n",
    "\n",
    "# Creating an object of the derived class\n",
    "dog_obj = Dog()\n",
    "\n",
    "# Accessing methods from the base class\n",
    "dog_obj.speak()  # Output: Animal speaks\n",
    "# Accessing methods from the derived class\n",
    "dog_obj.bark()   # Output: Dog barks\n"
   ]
  },
  {
   "cell_type": "markdown",
   "metadata": {},
   "source": [
    "### Multiple Inheritance: A class inherits from more than one base class."
   ]
  },
  {
   "cell_type": "code",
   "execution_count": 7,
   "metadata": {},
   "outputs": [
    {
     "name": "stdout",
     "output_type": "stream",
     "text": [
      "Engine started\n",
      "Electric motor charging\n",
      "Hybrid car is driving\n"
     ]
    }
   ],
   "source": [
    "class Engine:\n",
    "    def start(self):\n",
    "        print(\"Engine started\")\n",
    "\n",
    "class ElectricMotor:\n",
    "    def charge(self):\n",
    "        print(\"Electric motor charging\")\n",
    "\n",
    "class HybridCar(Engine, ElectricMotor):\n",
    "    def drive(self):\n",
    "        print(\"Hybrid car is driving\")\n",
    "\n",
    "# Creating an object of the derived class\n",
    "hybrid_car_obj = HybridCar()\n",
    "\n",
    "# Accessing methods from the base classes\n",
    "hybrid_car_obj.start()   # Output: Engine started\n",
    "hybrid_car_obj.charge()  # Output: Electric motor charging\n",
    "# Accessing methods from the derived class\n",
    "hybrid_car_obj.drive()   # Output: Hybrid car is driving\n"
   ]
  },
  {
   "cell_type": "markdown",
   "metadata": {},
   "source": [
    "- - Single Inheritance: class DerivedClass(BaseClass):\n",
    "- - Multiple Inheritance: class DerivedClass(BaseClass1, BaseClass2, ...):"
   ]
  },
  {
   "cell_type": "markdown",
   "metadata": {},
   "source": [
    "### <span style=\"color: limegreen;\">3. Create a Python class called `Vehicle` with attributes `color` and `speed`. Then, create a child class called `Car` that inherits from `Vehicle` and adds a `brand` attribute. Provide an example of creating a `Car` object.</span>\n"
   ]
  },
  {
   "cell_type": "code",
   "execution_count": 8,
   "metadata": {},
   "outputs": [
    {
     "name": "stdout",
     "output_type": "stream",
     "text": [
      "Color: Blue\n",
      "Speed: 60\n",
      "Brand: Toyota\n"
     ]
    }
   ],
   "source": [
    "class Vehicle:\n",
    "    def __init__(self, color, speed):\n",
    "        self.color = color\n",
    "        self.speed = speed\n",
    "\n",
    "class Car(Vehicle):\n",
    "    def __init__(self, color, speed, brand):\n",
    "        # Calling the constructor of the base class (Vehicle) using super()\n",
    "        super().__init__(color, speed)\n",
    "        self.brand = brand\n",
    "\n",
    "# Creating a Car object\n",
    "car_obj = Car(color=\"Blue\", speed=60, brand=\"Toyota\")\n",
    "\n",
    "# Accessing attributes of the Car object\n",
    "print(\"Color:\", car_obj.color)   # Output: Blue\n",
    "print(\"Speed:\", car_obj.speed)   # Output: 60\n",
    "print(\"Brand:\", car_obj.brand)   # Output: Toyota\n"
   ]
  },
  {
   "cell_type": "markdown",
   "metadata": {},
   "source": [
    "- The Vehicle class has a constructor (__init__) that initializes the color and speed attributes.\n",
    "- The Car class inherits from Vehicle and has its own constructor that adds the brand attribute. It uses super() to call the constructor of the base class (Vehicle) to initialize the common attributes.\n",
    "- An object of the Car class (car_obj) is created with specific values for color, speed, and brand.\n",
    "- We then access the attributes of the Car object using dot notation."
   ]
  },
  {
   "cell_type": "markdown",
   "metadata": {},
   "source": [
    "### <span style=\"color: limegreen;\">4. Explain the concept of method overriding in inheritance. Provide a practical example.</span>\n"
   ]
  },
  {
   "cell_type": "code",
   "execution_count": 9,
   "metadata": {},
   "outputs": [
    {
     "name": "stdout",
     "output_type": "stream",
     "text": [
      "Animal speaks\n",
      "Dog barks\n"
     ]
    }
   ],
   "source": [
    "class Animal:\n",
    "    def speak(self):\n",
    "        print(\"Animal speaks\")\n",
    "\n",
    "class Dog(Animal):\n",
    "    def speak(self):\n",
    "        print(\"Dog barks\")\n",
    "\n",
    "# Creating objects of the classes\n",
    "animal_obj = Animal()\n",
    "dog_obj = Dog()\n",
    "\n",
    "# Using methods from the base class\n",
    "animal_obj.speak()  # Output: Animal speaks\n",
    "# Using overridden method in the derived class\n",
    "dog_obj.speak()     # Output: Dog barks\n"
   ]
  },
  {
   "cell_type": "markdown",
   "metadata": {},
   "source": [
    "- The Animal class has a method named speak that prints a generic message.\n",
    "- The Dog class inherits from Animal and provides its own implementation of the speak method, which prints a message specific to a dog barking.\n",
    "- - When you create objects of these classes and call the speak method, you observe polymorphic behavior. The speak method in the Dog class overrides the method in the Animal class. This allows the same method name (speak) to exhibit different behaviors depending on the type of object."
   ]
  },
  {
   "cell_type": "markdown",
   "metadata": {},
   "source": [
    "### <span style=\"color: limegreen;\">5. How can you access the methods and attributes of a parent class from a child class in Python? Give an example.</span>"
   ]
  },
  {
   "cell_type": "code",
   "execution_count": 10,
   "metadata": {},
   "outputs": [
    {
     "name": "stdout",
     "output_type": "stream",
     "text": [
      "Labrador dog barks\n",
      "Canine speaks\n",
      "But Labrador dog barks louder!\n",
      "Species: Canine\n"
     ]
    }
   ],
   "source": [
    "class Animal:\n",
    "    def __init__(self, species):\n",
    "        self.species = species\n",
    "\n",
    "    def speak(self):\n",
    "        print(f\"{self.species} speaks\")\n",
    "\n",
    "class Dog(Animal):\n",
    "    def __init__(self, species, breed):\n",
    "        # Calling the constructor of the base class (Animal) using super()\n",
    "        super().__init__(species)\n",
    "        self.breed = breed\n",
    "\n",
    "    def bark(self):\n",
    "        print(f\"{self.breed} dog barks\")\n",
    "\n",
    "    def speak(self):\n",
    "        # Calling the overridden method of the base class using super()\n",
    "        super().speak()\n",
    "        print(f\"But {self.breed} dog barks louder!\")\n",
    "\n",
    "# Creating an object of the derived class (Dog)\n",
    "dog_obj = Dog(species=\"Canine\", breed=\"Labrador\")\n",
    "\n",
    "# Accessing methods and attributes of the derived class\n",
    "dog_obj.bark()    \n",
    "\n",
    "dog_obj.speak()\n",
    "\n",
    "# Accessing attribute of the base class\n",
    "print(\"Species:\", dog_obj.species)"
   ]
  },
  {
   "cell_type": "markdown",
   "metadata": {},
   "source": [
    "### <span style=\"color: limegreen;\">6. Discuss the use of the `super()` function in Python inheritance. When and why is it used? Provide an example</span>"
   ]
  },
  {
   "cell_type": "markdown",
   "metadata": {},
   "source": [
    "- Use super().method() to call a method from the parent class.\n",
    "- Use super().__init__(args) to call the constructor of the parent class, especially when the child class has its own constructor."
   ]
  },
  {
   "cell_type": "code",
   "execution_count": 11,
   "metadata": {},
   "outputs": [
    {
     "name": "stdout",
     "output_type": "stream",
     "text": [
      "Labrador dog barks\n",
      "Canine speaks\n",
      "But Labrador dog barks louder!\n",
      "Species: Canine\n"
     ]
    }
   ],
   "source": [
    "class Animal:\n",
    "    def __init__(self, species):\n",
    "        self.species = species\n",
    "\n",
    "    def speak(self):\n",
    "        print(f\"{self.species} speaks\")\n",
    "\n",
    "class Dog(Animal):\n",
    "    def __init__(self, species, breed):\n",
    "        # Calling the constructor of the base class (Animal) using super()\n",
    "        super().__init__(species)\n",
    "        self.breed = breed\n",
    "\n",
    "    def bark(self):\n",
    "        print(f\"{self.breed} dog barks\")\n",
    "\n",
    "    def speak(self):\n",
    "        # Calling the overridden method of the base class using super()\n",
    "        super().speak()\n",
    "        print(f\"But {self.breed} dog barks louder!\")\n",
    "\n",
    "# Creating an object of the derived class (Dog)\n",
    "dog_obj = Dog(species=\"Canine\", breed=\"Labrador\")\n",
    "\n",
    "# Accessing methods and attributes of the derived class\n",
    "dog_obj.bark()    \n",
    "dog_obj.speak()\n",
    "\n",
    "\n",
    "# Accessing attribute of the base class\n",
    "print(\"Species:\", dog_obj.species)  "
   ]
  },
  {
   "cell_type": "markdown",
   "metadata": {},
   "source": [
    "- The Dog class uses super() to call the constructor of the Animal class, initializing the species attribute.\n",
    "- The speak method in the Dog class overrides the speak method in the Animal class. Using super().speak() ensures that the overridden method in the base class is still invoked."
   ]
  },
  {
   "cell_type": "markdown",
   "metadata": {},
   "source": [
    "### <span style=\"color: limegreen;\">7. Create a Python class called `Animal` with a method `speak()`. Then, create child classes `Dog` and `Cat` that inherit from `Animal` and override the `speak()` method. Provide an example of using these classes.</span>"
   ]
  },
  {
   "cell_type": "code",
   "execution_count": 12,
   "metadata": {},
   "outputs": [
    {
     "name": "stdout",
     "output_type": "stream",
     "text": [
      "Generic animal sound\n",
      "Woof! I'm a dog.\n",
      "Meow! I'm a cat.\n"
     ]
    }
   ],
   "source": [
    "class Animal:\n",
    "    def speak(self):\n",
    "        print(\"Generic animal sound\")\n",
    "\n",
    "class Dog(Animal):\n",
    "    def speak(self):\n",
    "        print(\"Woof! I'm a dog.\")\n",
    "\n",
    "class Cat(Animal):\n",
    "    def speak(self):\n",
    "        print(\"Meow! I'm a cat.\")\n",
    "\n",
    "# Creating objects of the classes\n",
    "generic_animal = Animal()\n",
    "dog_obj = Dog()\n",
    "cat_obj = Cat()\n",
    "\n",
    "# Using overridden methods\n",
    "generic_animal.speak()  \n",
    "dog_obj.speak()         \n",
    "cat_obj.speak()         \n"
   ]
  },
  {
   "cell_type": "markdown",
   "metadata": {},
   "source": [
    "- The Animal class has a method named speak that prints a generic animal sound.\n",
    "- The Dog class and Cat class both inherit from the Animal class and provide their own implementations of the speak method.\n",
    "- Objects of the Dog and Cat classes can use the overridden speak methods to produce specific sounds for dogs and cats."
   ]
  },
  {
   "cell_type": "markdown",
   "metadata": {},
   "source": [
    "### <span style=\"color: limegreen;\">8. Explain the role of the `isinstance()` function in Python and how it relates to inheritance.</span>"
   ]
  },
  {
   "cell_type": "markdown",
   "metadata": {},
   "source": [
    "- isinstance(object, classinfo)\n",
    "- - object: The object to be checked.\n",
    "- - classinfo: A class, a tuple of classes, or a combination of both.\n",
    "\n",
    "- Role of isinstance() in Inheritance:\n",
    "- - Checking Object Type:\n",
    "- - - You can use `isinstance()` to check whether an object is an instance of a particular class or a subclass. This is especially useful when dealing with polymorphism, where an object can be an instance of the base class or any of its derived classes."
   ]
  },
  {
   "cell_type": "code",
   "execution_count": 13,
   "metadata": {},
   "outputs": [
    {
     "name": "stdout",
     "output_type": "stream",
     "text": [
      "True\n",
      "True\n",
      "False\n"
     ]
    }
   ],
   "source": [
    "class Animal:\n",
    "    pass\n",
    "\n",
    "class Dog(Animal):\n",
    "    pass\n",
    "\n",
    "class Cat(Animal):\n",
    "    pass\n",
    "\n",
    "# Creating objects of the classes\n",
    "animal_obj = Animal()\n",
    "dog_obj = Dog()\n",
    "cat_obj = Cat()\n",
    "\n",
    "# Using isinstance to check object types\n",
    "print(isinstance(animal_obj, Animal))  \n",
    "print(isinstance(dog_obj, Animal))     \n",
    "print(isinstance(cat_obj, Dog))        "
   ]
  },
  {
   "cell_type": "markdown",
   "metadata": {},
   "source": [
    "### <span style=\"color: limegreen;\">9. What is the purpose of the `issubclass()` function in Python? Provide an example.</span>\n"
   ]
  },
  {
   "cell_type": "markdown",
   "metadata": {},
   "source": [
    "- The issubclass() function in Python is used to check if a given class is a subclass of another class. It returns True if the first class is a subclass of the second class, and False otherwise. \n",
    "- This function is handy for checking class relationships and inheritance hierarchies."
   ]
  },
  {
   "cell_type": "markdown",
   "metadata": {},
   "source": [
    "- - class: The potential subclass.\n",
    "- - classinfo: A class, a tuple of classes, or a combination of both."
   ]
  },
  {
   "cell_type": "code",
   "execution_count": 5,
   "metadata": {},
   "outputs": [
    {
     "name": "stdout",
     "output_type": "stream",
     "text": [
      "True\n",
      "True\n",
      "True\n",
      "False\n"
     ]
    }
   ],
   "source": [
    "class Animal:\n",
    "    pass\n",
    "\n",
    "class Mammal(Animal):\n",
    "    pass\n",
    "\n",
    "class Dog(Mammal):\n",
    "    pass\n",
    "\n",
    "# Checking subclass relationships\n",
    "print(issubclass(Mammal, Animal))  # True (Mammal is a subclass of Animal)\n",
    "print(issubclass(Dog, Mammal))      # True (Dog is a subclass of Mammal)\n",
    "print(issubclass(Dog, Animal))      # True (Dog is a subclass of Animal)\n",
    "print(issubclass(Animal, Mammal))   # False (Animal is not a subclass of Mammal)\n"
   ]
  },
  {
   "cell_type": "markdown",
   "metadata": {},
   "source": [
    "### <span style=\"color: limegreen;\">10. Discuss the concept of constructor inheritance in Python. How are constructors inherited in child classes?</span>"
   ]
  },
  {
   "cell_type": "markdown",
   "metadata": {},
   "source": [
    "- Constructor inheritance refers to the mechanism by which a child class inherits the constructor (also known as the __init__ method) from its parent class. \n",
    "- When a child class is created, it can inherit the constructor of its parent class, allowing the child class to initialize its own attributes as well as those inherited from the parent class."
   ]
  },
  {
   "cell_type": "code",
   "execution_count": 4,
   "metadata": {},
   "outputs": [
    {
     "name": "stdout",
     "output_type": "stream",
     "text": [
      "Animal constructor called for Canine\n",
      "Dog constructor called for Labrador\n"
     ]
    }
   ],
   "source": [
    "class Animal:\n",
    "    def __init__(self, species):\n",
    "        self.species = species\n",
    "        print(f\"Animal constructor called for {self.species}\")\n",
    "\n",
    "class Dog(Animal):\n",
    "    def __init__(self, species, breed):\n",
    "        # Explicitly calling the constructor of the base class (Animal)\n",
    "        super().__init__(species)\n",
    "        self.breed = breed\n",
    "        print(f\"Dog constructor called for {self.breed}\")\n",
    "\n",
    "# Creating an object of the derived class (Dog)\n",
    "dog_obj = Dog(species=\"Canine\", breed=\"Labrador\")"
   ]
  },
  {
   "cell_type": "markdown",
   "metadata": {},
   "source": [
    "### <span style=\"color: limegreen;\">11. Create a Python class called `Shape` with a method `area()` that calculates the area of a shape. Then, create child classes `Circle` and `Rectangle` that inherit from `Shape` and implement the `area()` method accordingly. Provide an example.</span>\n"
   ]
  },
  {
   "cell_type": "code",
   "execution_count": 6,
   "metadata": {},
   "outputs": [
    {
     "name": "stdout",
     "output_type": "stream",
     "text": [
      "Area of the Circle: 78.53981633974483\n",
      "Area of the Rectangle: 24\n"
     ]
    }
   ],
   "source": [
    "import math\n",
    "\n",
    "class Shape:\n",
    "    def area(self):\n",
    "        # Default implementation (to be overridden by subclasses)\n",
    "        pass\n",
    "\n",
    "class Circle(Shape):\n",
    "    def __init__(self, radius):\n",
    "        self.radius = radius\n",
    "\n",
    "    def area(self):\n",
    "        return math.pi * self.radius**2\n",
    "\n",
    "class Rectangle(Shape):\n",
    "    def __init__(self, length, width):\n",
    "        self.length = length\n",
    "        self.width = width\n",
    "\n",
    "    def area(self):\n",
    "        return self.length * self.width\n",
    "\n",
    "# Creating objects of the classes\n",
    "circle_obj = Circle(radius=5)\n",
    "rectangle_obj = Rectangle(length=4, width=6)\n",
    "\n",
    "# Calculating and printing the area of each shape\n",
    "print(\"Area of the Circle:\", circle_obj.area())       \n",
    "print(\"Area of the Rectangle:\", rectangle_obj.area()) "
   ]
  },
  {
   "cell_type": "markdown",
   "metadata": {},
   "source": [
    "### <span style=\"color: limegreen;\">12. Explain the use of abstract base classes (ABCs) in Python and how they relate to inheritance. Provide an example using the `abc` module.</span>"
   ]
  },
  {
   "cell_type": "markdown",
   "metadata": {},
   "source": [
    "- Abstract Methods:\n",
    "- - Abstract methods are declared in the abstract base class but have no implementation. Derived classes must provide concrete implementations for these methods.\n",
    "- ABC Metaclass:\n",
    "- - ABCs are created using the ABC metaclass. A class becomes an abstract base class by inheriting from ABC.\n",
    "- @abstractmethod Decorator:\n",
    "- - The @abstractmethod decorator is used to declare abstract methods within an abstract base class."
   ]
  },
  {
   "cell_type": "code",
   "execution_count": 1,
   "metadata": {},
   "outputs": [
    {
     "name": "stdout",
     "output_type": "stream",
     "text": [
      "Area of the Circle: 78.5\n",
      "Area of the Rectangle: 24\n"
     ]
    }
   ],
   "source": [
    "from abc import ABC, abstractmethod\n",
    "\n",
    "class Shape(ABC):\n",
    "    @abstractmethod\n",
    "    def area(self):\n",
    "        pass\n",
    "\n",
    "class Circle(Shape):\n",
    "    def __init__(self, radius):\n",
    "        self.radius = radius\n",
    "\n",
    "    def area(self):\n",
    "        return 3.14 * self.radius**2\n",
    "\n",
    "class Rectangle(Shape):\n",
    "    def __init__(self, length, width):\n",
    "        self.length = length\n",
    "        self.width = width\n",
    "\n",
    "    def area(self):\n",
    "        return self.length * self.width\n",
    "\n",
    "# Creating objects of the classes\n",
    "circle_obj = Circle(radius=5)\n",
    "rectangle_obj = Rectangle(length=4, width=6)\n",
    "\n",
    "# Calculating and printing the area of each shape\n",
    "print(\"Area of the Circle:\", circle_obj.area())      \n",
    "print(\"Area of the Rectangle:\", rectangle_obj.area()) "
   ]
  },
  {
   "cell_type": "markdown",
   "metadata": {},
   "source": [
    "### <span style=\"color: limegreen;\">13. How can you prevent a child class from modifying certain attributes or methods inherited from a parent class in Python?</span>"
   ]
  },
  {
   "cell_type": "markdown",
   "metadata": {},
   "source": [
    "- Private Attributes and Methods:\n",
    "- - Use a leading double underscore (__) before the attribute or method name in the parent class. This makes the attribute or method private, and it won't be directly accessible or modifiable by the child class."
   ]
  },
  {
   "cell_type": "code",
   "execution_count": 7,
   "metadata": {},
   "outputs": [],
   "source": [
    "class Parent:\n",
    "    def __init__(self):\n",
    "        self.__private_attribute = 42\n",
    "\n",
    "    def __private_method(self):\n",
    "        print(\"This is a private method.\")\n",
    "\n",
    "class Child(Parent):\n",
    "    def modify_attribute(self):\n",
    "        # This will result in an AttributeError\n",
    "        self.__private_attribute = 99\n",
    "\n",
    "# Example usage\n",
    "child_obj = Child()\n",
    "child_obj.modify_attribute()  # AttributeError"
   ]
  },
  {
   "cell_type": "code",
   "execution_count": 9,
   "metadata": {},
   "outputs": [
    {
     "name": "stdout",
     "output_type": "stream",
     "text": [
      "This method attempts to override the final method.\n"
     ]
    }
   ],
   "source": [
    "from typing import final\n",
    "\n",
    "class Parent:\n",
    "    @final\n",
    "    def final_method(self):\n",
    "        print(\"This method cannot be overridden.\")\n",
    "\n",
    "class Child(Parent):\n",
    "    def final_method(self):  # This would result in a TypeError\n",
    "        print(\"This method attempts to override the final method.\")\n",
    "        \n",
    "child_obj = Child()\n",
    "child_obj.final_method()"
   ]
  },
  {
   "attachments": {
    "image.png": {
     "image/png": "[encoded data removed]"
    }
   },
   "cell_type": "markdown",
   "metadata": {},
   "source": [
    "![image.png](attachment:image.png)"
   ]
  },
  {
   "cell_type": "markdown",
   "metadata": {},
   "source": [
    "### <span style=\"color: limegreen;\">14. Create a Python class called `Employee` with attributes `name` and `salary`. Then, create a child class `Manager` that inherits from `Employee` and adds an attribute `department`. Provide an example.</span>"
   ]
  },
  {
   "cell_type": "code",
   "execution_count": 10,
   "metadata": {},
   "outputs": [
    {
     "name": "stdout",
     "output_type": "stream",
     "text": [
      "Employee: John Doe Salary: 50000\n",
      "Manager: Alice Smith Salary: 70000 Department: HR\n"
     ]
    }
   ],
   "source": [
    "class Employee:\n",
    "    def __init__(self, name, salary):\n",
    "        self.name = name\n",
    "        self.salary = salary\n",
    "\n",
    "class Manager(Employee):\n",
    "    def __init__(self, name, salary, department):\n",
    "        # Calling the constructor of the base class (Employee) using super()\n",
    "        super().__init__(name, salary)\n",
    "        self.department = department\n",
    "\n",
    "# Creating objects of the classes\n",
    "employee_obj = Employee(name=\"John Doe\", salary=50000)\n",
    "manager_obj = Manager(name=\"Alice Smith\", salary=70000, department=\"HR\")\n",
    "\n",
    "# Accessing attributes of the objects\n",
    "print(\"Employee:\", employee_obj.name, \"Salary:\", employee_obj.salary)\n",
    "# Output: Employee: John Doe Salary: 50000\n",
    "\n",
    "print(\"Manager:\", manager_obj.name, \"Salary:\", manager_obj.salary, \"Department:\", manager_obj.department)\n",
    "# Output: Manager: Alice Smith Salary: 70000 Department: HR\n"
   ]
  },
  {
   "cell_type": "markdown",
   "metadata": {},
   "source": [
    "### <span style=\"color: limegreen;\">14. Create a Python class called `Employee` with attributes `name` and `salary`. Then, create a child class `Manager` that inherits from `Employee` and adds an attribute `department`. Provide an example.</span>"
   ]
  },
  {
   "cell_type": "code",
   "execution_count": 11,
   "metadata": {},
   "outputs": [
    {
     "name": "stdout",
     "output_type": "stream",
     "text": [
      "Employee: John Doe Salary: 50000\n",
      "Manager: Alice Smith Salary: 70000 Department: HR\n"
     ]
    }
   ],
   "source": [
    "class Employee:\n",
    "    def __init__(self, name, salary):\n",
    "        self.name = name\n",
    "        self.salary = salary\n",
    "\n",
    "class Manager(Employee):\n",
    "    def __init__(self, name, salary, department):\n",
    "        # Calling the constructor of the base class (Employee) using super()\n",
    "        super().__init__(name, salary)\n",
    "        self.department = department\n",
    "\n",
    "# Creating objects of the classes\n",
    "employee_obj = Employee(name=\"John Doe\", salary=50000)\n",
    "manager_obj = Manager(name=\"Alice Smith\", salary=70000, department=\"HR\")\n",
    "\n",
    "# Accessing attributes of the objects\n",
    "print(\"Employee:\", employee_obj.name, \"Salary:\", employee_obj.salary)\n",
    "# Output: Employee: John Doe Salary: 50000\n",
    "\n",
    "print(\"Manager:\", manager_obj.name, \"Salary:\", manager_obj.salary, \"Department:\", manager_obj.department)\n",
    "# Output: Manager: Alice Smith Salary: 70000 Department: HR\n"
   ]
  },
  {
   "cell_type": "markdown",
   "metadata": {},
   "source": [
    "### <span style=\"color: limegreen;\">15. Discuss the concept of method overloading in Python inheritance. How does it differ from method overriding?</span>\n"
   ]
  },
  {
   "cell_type": "markdown",
   "metadata": {},
   "source": [
    "- `Method overloading` \n",
    "-  - refers to the ability to define multiple methods in the same class with the same name but different signatures (different parameters)."
   ]
  },
  {
   "cell_type": "code",
   "execution_count": 12,
   "metadata": {},
   "outputs": [
    {
     "name": "stdout",
     "output_type": "stream",
     "text": [
      "2\n",
      "5\n",
      "9\n"
     ]
    }
   ],
   "source": [
    "class Calculator:\n",
    "    def add(self, a, b=0, c=0):\n",
    "        return a + b + c\n",
    "\n",
    "# Using method overloading\n",
    "calc = Calculator()\n",
    "print(calc.add(2))\n",
    "print(calc.add(2, 3))       \n",
    "print(calc.add(2, 3, 4))"
   ]
  },
  {
   "cell_type": "markdown",
   "metadata": {},
   "source": [
    "- `Method overriding` \n",
    "- - refers to the ability of a subclass to provide a specific implementation for a method that is already defined in its superclass."
   ]
  },
  {
   "cell_type": "code",
   "execution_count": 13,
   "metadata": {},
   "outputs": [
    {
     "name": "stdout",
     "output_type": "stream",
     "text": [
      "Dog barks\n"
     ]
    }
   ],
   "source": [
    "class Animal:\n",
    "    def speak(self):\n",
    "        print(\"Animal speaks\")\n",
    "\n",
    "class Dog(Animal):\n",
    "    def speak(self):\n",
    "        print(\"Dog barks\")\n",
    "\n",
    "# Using method overriding\n",
    "dog = Dog()\n",
    "dog.speak()"
   ]
  },
  {
   "cell_type": "markdown",
   "metadata": {},
   "source": [
    "<h3> <span style=\"color: limegreen;\">16. Explain the purpose of the `__init__()` method in Python inheritance and how it is utilized in child classes.</span>"
   ]
  },
  {
   "cell_type": "markdown",
   "metadata": {},
   "source": [
    "- Purpose of __init__() in Inheritance:"
   ]
  },
  {
   "cell_type": "markdown",
   "metadata": {},
   "source": [
    "- - Attribute Initialization:\n",
    "The primary purpose of the __init__() method is to initialize the attributes of an object. This includes assigning values to instance variables or attributes that characterize the object.\n",
    "- - Constructor Chaining:\n",
    "Inheritance involves creating a hierarchy of classes, with a parent class and one or more child classes. The __init__() method facilitates constructor chaining, allowing the child class to initialize its own attributes while also calling the constructor of the parent class to initialize its attributes.\n",
    "- - Ensuring Proper Initialization:\n",
    "The __init__() method helps ensure that objects are properly initialized with the necessary attributes. This promotes the concept of encapsulation, where the internal state of an object is set up correctly during its creation."
   ]
  },
  {
   "cell_type": "code",
   "execution_count": 15,
   "metadata": {},
   "outputs": [
    {
     "name": "stdout",
     "output_type": "stream",
     "text": [
      "Animal constructor called for Canine\n",
      "Dog constructor called for Labrador\n"
     ]
    }
   ],
   "source": [
    "class Animal:\n",
    "    def __init__(self, species):\n",
    "        self.species = species\n",
    "        print(f\"Animal constructor called for {self.species}\")\n",
    "\n",
    "class Dog(Animal):\n",
    "    def __init__(self, species, breed):\n",
    "        # Calling the constructor of the base class (Animal) using super()\n",
    "        super().__init__(species)\n",
    "        self.breed = breed\n",
    "        print(f\"Dog constructor called for {self.breed}\")\n",
    "\n",
    "# Creating an object of the derived class (Dog)\n",
    "dog_obj = Dog(species=\"Canine\", breed=\"Labrador\")\n"
   ]
  },
  {
   "cell_type": "markdown",
   "metadata": {},
   "source": [
    "### <span style=\"color: limegreen;\">17. Create a Python class called `Bird` with a method `fly()`. Then, create child classes `Eagle` and `Sparrow` that inherit from `Bird` and implement the `fly()` method differently. Provide an example of using these classes.</span>"
   ]
  },
  {
   "cell_type": "code",
   "execution_count": 16,
   "metadata": {},
   "outputs": [
    {
     "name": "stdout",
     "output_type": "stream",
     "text": [
      "Bird is flying\n",
      "Eagle soars high in the sky\n",
      "Sparrow flutters around the garden\n"
     ]
    }
   ],
   "source": [
    "class Bird:\n",
    "    def fly(self):\n",
    "        print(\"Bird is flying\")\n",
    "\n",
    "class Eagle(Bird):\n",
    "    def fly(self):\n",
    "        print(\"Eagle soars high in the sky\")\n",
    "\n",
    "class Sparrow(Bird):\n",
    "    def fly(self):\n",
    "        print(\"Sparrow flutters around the garden\")\n",
    "\n",
    "# Creating objects of the classes\n",
    "bird_obj = Bird()\n",
    "eagle_obj = Eagle()\n",
    "sparrow_obj = Sparrow()\n",
    "\n",
    "# Using the fly() method of each class\n",
    "bird_obj.fly()\n",
    "eagle_obj.fly()\n",
    "sparrow_obj.fly()"
   ]
  },
  {
   "cell_type": "markdown",
   "metadata": {},
   "source": [
    "### <span style=\"color: limegreen;\">18. What is the \"diamond problem\" in multiple inheritance, and how does Python address it?</span>\n"
   ]
  },
  {
   "cell_type": "markdown",
   "metadata": {},
   "source": [
    "- Method Resolution Order (MRO):\n",
    "- - The MRO defines the order in which base classes are searched when a method or attribute is not found in the current class. Python's super() function uses the MRO to delegate calls to the correct class in the inheritance hierarchy."
   ]
  },
  {
   "cell_type": "markdown",
   "metadata": {},
   "source": [
    "- Both classes B and C inherit from class A, and class D inherits from both classes B and C. If there's a method or attribute in class A, it is ambiguous for class D as to which implementation to use."
   ]
  },
  {
   "cell_type": "code",
   "execution_count": 17,
   "metadata": {},
   "outputs": [
    {
     "name": "stdout",
     "output_type": "stream",
     "text": [
      "Method in class B\n",
      "Method in class C\n",
      "Method in class A\n"
     ]
    }
   ],
   "source": [
    "class A:\n",
    "    def method(self):\n",
    "        print(\"Method in class A\")\n",
    "\n",
    "class B(A):\n",
    "    def method(self):\n",
    "        print(\"Method in class B\")\n",
    "        super().method()\n",
    "\n",
    "class C(A):\n",
    "    def method(self):\n",
    "        print(\"Method in class C\")\n",
    "        super().method()\n",
    "\n",
    "class D(B, C):\n",
    "    pass\n",
    "\n",
    "# Creating an object of class D\n",
    "obj_d = D()\n",
    "obj_d.method()"
   ]
  },
  {
   "cell_type": "markdown",
   "metadata": {},
   "source": [
    "- Classes B and C both inherit from class A.\n",
    "- Class D inherits from both classes B and C.\n",
    "- The method() in class D will follow the MRO and call the methods in the order D -> B -> C -> A."
   ]
  },
  {
   "cell_type": "markdown",
   "metadata": {},
   "source": [
    "### <span style=\"color: limegreen;\">19. Discuss the concept of \"is-a\" and \"has-a\" relationships in inheritance, and provide examples of each.</span>\n"
   ]
  },
  {
   "cell_type": "markdown",
   "metadata": {},
   "source": [
    "An `is-a` relationship, one class is considered a subtype or specialization of another. This implies an inheritance relationship where an object of the derived class is a specialized version of an object of the base class."
   ]
  },
  {
   "cell_type": "code",
   "execution_count": 18,
   "metadata": {},
   "outputs": [
    {
     "name": "stdout",
     "output_type": "stream",
     "text": [
      "Animal speaks\n"
     ]
    }
   ],
   "source": [
    "class Animal:\n",
    "    def speak(self):\n",
    "        print(\"Animal speaks\")\n",
    "\n",
    "class Dog(Animal):  # Dog is-a Animal\n",
    "    def bark(self):\n",
    "        print(\"Dog barks\")\n",
    "\n",
    "# Using \"is-a\" relationship\n",
    "dog_obj = Dog()\n",
    "dog_obj.speak()"
   ]
  },
  {
   "cell_type": "markdown",
   "metadata": {},
   "source": [
    "A `has-a` relationship, one class contains an object of another class as a part of its attributes. This implies composition or aggregation, where an object of one class has another class as a component."
   ]
  },
  {
   "cell_type": "code",
   "execution_count": 19,
   "metadata": {},
   "outputs": [
    {
     "name": "stdout",
     "output_type": "stream",
     "text": [
      "Car is driving\n",
      "Engine starts\n"
     ]
    }
   ],
   "source": [
    "class Engine:\n",
    "    def start(self):\n",
    "        print(\"Engine starts\")\n",
    "\n",
    "class Car:\n",
    "    def __init__(self):\n",
    "        self.engine = Engine()  # Car has-a Engine\n",
    "\n",
    "    def drive(self):\n",
    "        print(\"Car is driving\")\n",
    "\n",
    "# Using \"has-a\" relationship\n",
    "car_obj = Car()\n",
    "car_obj.drive()    \n",
    "car_obj.engine.start()  \n"
   ]
  },
  {
   "cell_type": "markdown",
   "metadata": {},
   "source": [
    "### <span style=\"color: limegreen;\">20. Create a Python class hierarchy for a university system. Start with a base class `Person` and create child</span>"
   ]
  },
  {
   "cell_type": "code",
   "execution_count": 20,
   "metadata": {},
   "outputs": [
    {
     "name": "stdout",
     "output_type": "stream",
     "text": [
      "Student Information:\n",
      "Name: Alice, Age: 20\n",
      "Student ID: S12345\n",
      "Alice is studying\n",
      "\n",
      "Professor Information:\n",
      "Name: Dr. Smith, Age: 45\n",
      "Employee ID: P9876\n",
      "Dr. Smith is teaching\n"
     ]
    }
   ],
   "source": [
    "class Person:\n",
    "    def __init__(self, name, age):\n",
    "        self.name = name\n",
    "        self.age = age\n",
    "\n",
    "    def display_info(self):\n",
    "        print(f\"Name: {self.name}, Age: {self.age}\")\n",
    "\n",
    "\n",
    "class Student(Person):\n",
    "    def __init__(self, name, age, student_id):\n",
    "        super().__init__(name, age)\n",
    "        self.student_id = student_id\n",
    "\n",
    "    def display_info(self):\n",
    "        super().display_info()\n",
    "        print(f\"Student ID: {self.student_id}\")\n",
    "\n",
    "    def study(self):\n",
    "        print(f\"{self.name} is studying\")\n",
    "\n",
    "\n",
    "class Professor(Person):\n",
    "    def __init__(self, name, age, employee_id):\n",
    "        super().__init__(name, age)\n",
    "        self.employee_id = employee_id\n",
    "\n",
    "    def display_info(self):\n",
    "        super().display_info()\n",
    "        print(f\"Employee ID: {self.employee_id}\")\n",
    "\n",
    "    def teach(self):\n",
    "        print(f\"{self.name} is teaching\")\n",
    "\n",
    "\n",
    "# Example usage\n",
    "student1 = Student(name=\"Alice\", age=20, student_id=\"S12345\")\n",
    "professor1 = Professor(name=\"Dr. Smith\", age=45, employee_id=\"P9876\")\n",
    "\n",
    "# Display information for student and professor\n",
    "print(\"Student Information:\")\n",
    "student1.display_info()\n",
    "student1.study()\n",
    "\n",
    "print(\"\\nProfessor Information:\")\n",
    "professor1.display_info()\n",
    "professor1.teach()"
   ]
  },
  {
   "cell_type": "markdown",
   "metadata": {},
   "source": [
    "### <span style=\"color: limegreen;\">Classes `Student` and `Professor`, each with their own attributes and methods. Provide an example of using these classes in a university context.</span>"
   ]
  },
  {
   "cell_type": "code",
   "execution_count": 21,
   "metadata": {},
   "outputs": [
    {
     "name": "stdout",
     "output_type": "stream",
     "text": [
      "Student Information:\n",
      "Name: Alice Johnson, Age: 20\n",
      "Student ID: S12345, Major: Computer Science\n",
      "Alice Johnson is studying for exams.\n",
      "\n",
      "Professor Information:\n",
      "Name: Dr. Smith, Age: 45\n",
      "Employee ID: P9876, Department: Engineering\n",
      "Dr. Smith is teaching Introduction to Computer Science in the Engineering department.\n"
     ]
    }
   ],
   "source": [
    "class Person:\n",
    "    def __init__(self, name, age):\n",
    "        self.name = name\n",
    "        self.age = age\n",
    "\n",
    "    def display_info(self):\n",
    "        print(f\"Name: {self.name}, Age: {self.age}\")\n",
    "\n",
    "\n",
    "class Student(Person):\n",
    "    def __init__(self, name, age, student_id, major):\n",
    "        super().__init__(name, age)\n",
    "        self.student_id = student_id\n",
    "        self.major = major\n",
    "\n",
    "    def display_info(self):\n",
    "        super().display_info()\n",
    "        print(f\"Student ID: {self.student_id}, Major: {self.major}\")\n",
    "\n",
    "    def study(self):\n",
    "        print(f\"{self.name} is studying for exams.\")\n",
    "\n",
    "\n",
    "class Professor(Person):\n",
    "    def __init__(self, name, age, employee_id, department):\n",
    "        super().__init__(name, age)\n",
    "        self.employee_id = employee_id\n",
    "        self.department = department\n",
    "\n",
    "    def display_info(self):\n",
    "        super().display_info()\n",
    "        print(f\"Employee ID: {self.employee_id}, Department: {self.department}\")\n",
    "\n",
    "    def teach(self, course):\n",
    "        print(f\"{self.name} is teaching {course} in the {self.department} department.\")\n",
    "\n",
    "\n",
    "# Example usage\n",
    "student1 = Student(name=\"Alice Johnson\", age=20, student_id=\"S12345\", major=\"Computer Science\")\n",
    "professor1 = Professor(name=\"Dr. Smith\", age=45, employee_id=\"P9876\", department=\"Engineering\")\n",
    "\n",
    "# Display information for student and professor\n",
    "print(\"Student Information:\")\n",
    "student1.display_info()\n",
    "student1.study()\n",
    "\n",
    "print(\"\\nProfessor Information:\")\n",
    "professor1.display_info()\n",
    "professor1.teach(course=\"Introduction to Computer Science\")\n"
   ]
  },
  {
   "cell_type": "markdown",
   "metadata": {},
   "source": [
    "# <span style=\"color: limegreen;\">Encapsulation:</span>"
   ]
  },
  {
   "cell_type": "markdown",
   "metadata": {},
   "source": [
    "### <span style=\"color: limegreen;\">1. Explain the concept of encapsulation in Python. What is its role in object-oriented programming?</span>"
   ]
  },
  {
   "cell_type": "markdown",
   "metadata": {},
   "source": [
    "- Data Hiding:\n",
    "- - Encapsulation allows the hiding of the internal state of an object. The attributes (data) of a class are often declared as private or protected, meaning that they can only be accessed and modified by methods within the class.\n",
    "- Access Control:\n",
    "- - Encapsulation enables the use of access specifiers (public, private, protected) to control the visibility and accessibility of attributes and methods. This helps in defining who can interact with the internal components of an object.\n",
    "- Abstraction:\n",
    "- - Abstraction is a key component of encapsulation. By exposing only essential features through well-defined interfaces (public methods), encapsulation allows users of a class to interact with the object without needing to understand its internal details."
   ]
  },
  {
   "cell_type": "code",
   "execution_count": 22,
   "metadata": {},
   "outputs": [
    {
     "name": "stdout",
     "output_type": "stream",
     "text": [
      "Account Holder: Alice, Balance: 1300\n"
     ]
    }
   ],
   "source": [
    "class BankAccount:\n",
    "    def __init__(self, account_holder, balance):\n",
    "        self.__account_holder = account_holder  # Private attribute\n",
    "        self.__balance = balance  # Private attribute\n",
    "\n",
    "    def get_balance(self):\n",
    "        return self.__balance\n",
    "\n",
    "    def deposit(self, amount):\n",
    "        if amount > 0:\n",
    "            self.__balance += amount\n",
    "\n",
    "    def withdraw(self, amount):\n",
    "        if 0 < amount <= self.__balance:\n",
    "            self.__balance -= amount\n",
    "\n",
    "    def display_info(self):\n",
    "        print(f\"Account Holder: {self.__account_holder}, Balance: {self.__balance}\")\n",
    "\n",
    "\n",
    "# Example usage\n",
    "account1 = BankAccount(account_holder=\"Alice\", balance=1000)\n",
    "\n",
    "# Accessing methods and attributes through encapsulation\n",
    "account1.deposit(500)\n",
    "account1.withdraw(200)\n",
    "account1.display_info()\n"
   ]
  },
  {
   "cell_type": "markdown",
   "metadata": {},
   "source": [
    "#### Role of Encapsulation in OOP\n",
    "- Security:\n",
    "- - By hiding the internal implementation details, encapsulation enhances security. Users can only interact with the object through well-defined interfaces, reducing the risk of unintended modifications.\n",
    "\n",
    "\n",
    "- Code Reusability:\n",
    "- - Encapsulation promotes code reusability. Once a class is defined with encapsulated features, it can be reused in different parts of a program or in different programs altogether."
   ]
  },
  {
   "cell_type": "markdown",
   "metadata": {},
   "source": [
    "### <span style=\"color: limegreen;\">2. Describe the key principles of encapsulation, including access control and data hiding.</span>"
   ]
  },
  {
   "cell_type": "code",
   "execution_count": null,
   "metadata": {},
   "outputs": [],
   "source": [
    "class EncapsulatedClass:\n",
    "    def __init__(self):\n",
    "        self._protected_attribute = 42  # Protected attribute\n",
    "        self.__private_attribute = \"secret\"  # Private attribute\n",
    "\n",
    "    def public_method(self):\n",
    "        print(\"This is a public method.\")\n",
    "\n",
    "    def _protected_method(self):\n",
    "        print(\"This is a protected method.\")\n",
    "\n",
    "    def __private_method(self):\n",
    "        print(\"This is a private method.\")\n"
   ]
  },
  {
   "cell_type": "markdown",
   "metadata": {},
   "source": [
    "- Data Hiding:\n",
    "- - Definition: Data hiding is the practice of making the internal state of an object (its attributes) not directly accessible to the outside world.\n",
    "- - Implementation: In many OOP languages, including Python, this is often achieved by marking attributes as private or protected. Private attributes are only accessible within the class, while protected attributes are also accessible to subclasses.\n",
    "- - Benefits:\n",
    "Reduces the risk of unintended external interference with the internal state of an object.\n",
    "Enhances security by restricting direct access to sensitive information.\n",
    "Promotes modular design by isolating implementation details.\n",
    "- Access Control:\n",
    "- - Definition: Access control involves regulating and restricting the visibility and accessibility of attributes and methods in a class.\n",
    "- - Access Specifiers:\n",
    "Public: Public members are accessible from outside the class. They form the class's interface, representing the operations that can be performed on the object.\n",
    "Private: Private members are only accessible within the class. They encapsulate the internal implementation details, providing data hiding.\n",
    "Protected: Protected members are accessible within the class and its subclasses. They strike a balance between public and private, allowing controlled access to subclasses.\n",
    "- - Benefits:\n",
    "Defines a clear interface for interacting with the object.\n",
    "Controls and restricts direct access to internal components.\n",
    "Facilitates modular design and maintenance."
   ]
  },
  {
   "cell_type": "markdown",
   "metadata": {},
   "source": [
    "<h3><span style=\"color: limegreen;\">3. How can you achieve encapsulation in Python classes? Provide an example.</span>"
   ]
  },
  {
   "cell_type": "code",
   "execution_count": null,
   "metadata": {},
   "outputs": [],
   "source": [
    "class EncapsulatedClass:\n",
    "    def __init__(self):\n",
    "        # Public attribute\n",
    "        self.public_attribute = \"I am public\"\n",
    "\n",
    "        # Protected attribute\n",
    "        self._protected_attribute = \"I am protected\"\n",
    "\n",
    "        # Private attribute (name-mangled)\n",
    "        self.__private_attribute = \"I am private\"\n",
    "\n",
    "    # Public method\n",
    "    def public_method(self):\n",
    "        return \"This is a public method.\"\n",
    "\n",
    "    # Protected method\n",
    "    def _protected_method(self):\n",
    "        return \"This is a protected method.\"\n",
    "\n",
    "    # Private method (name-mangled)\n",
    "    def __private_method(self):\n",
    "        return \"This is a private method.\"\n",
    "\n",
    "# Creating an object of the class\n",
    "obj = EncapsulatedClass()\n",
    "\n",
    "# Accessing public members\n",
    "print(obj.public_attribute)\n",
    "print(obj.public_method())\n",
    "\n",
    "# Accessing protected members (not recommended, but possible)\n",
    "print(obj._protected_attribute)\n",
    "print(obj._protected_method())\n",
    "\n",
    "# Accessing private members using name-mangling (not recommended)\n",
    "print(obj._EncapsulatedClass__private_attribute)\n",
    "print(obj._EncapsulatedClass__private_method())\n"
   ]
  },
  {
   "cell_type": "markdown",
   "metadata": {},
   "source": [
    "- Public Members: Members (attributes or methods) without any leading underscore are considered public and can be accessed from outside the class.\n",
    "- Protected Members: Members with a single leading underscore (e.g., _variable or _method()) are considered protected. They are intended for internal use but can still be accessed from outside the class.\n",
    "- Private Members: Members with a double leading underscore (e.g., __variable or __method()) are considered private. They are name-mangled to make them less accessible from outside the class."
   ]
  },
  {
   "cell_type": "markdown",
   "metadata": {},
   "source": [
    "<h3> <span style=\"color: limegreen;\">4. Discuss the difference between public, private, and protected access modifiers in Python.</span>"
   ]
  },
  {
   "cell_type": "markdown",
   "metadata": {},
   "source": [
    "- Public (No Modifier):\n",
    "- - Naming Convention: Members (attributes or methods) without any leading underscore are considered public.\n",
    "- - Accessibility: Public members can be accessed from outside the class."
   ]
  },
  {
   "cell_type": "code",
   "execution_count": 1,
   "metadata": {},
   "outputs": [
    {
     "name": "stdout",
     "output_type": "stream",
     "text": [
      "This is a public method.\n"
     ]
    }
   ],
   "source": [
    "class MyClass:\n",
    "    def public_method(self):\n",
    "        return \"This is a public method.\"\n",
    "\n",
    "obj = MyClass()\n",
    "print(obj.public_method())  # Accessing a public method\n"
   ]
  },
  {
   "cell_type": "markdown",
   "metadata": {},
   "source": [
    "- Potected (Single Leading Underscore):\n",
    "- - Naming Convention: Members with a single leading underscore (e.g., _variable or _method()) are considered protected.\n",
    "- - Accessibiity: Protected members are intended for internal use, and their use from outside the class is discouraged, though technically possible."
   ]
  },
  {
   "cell_type": "code",
   "execution_count": 2,
   "metadata": {},
   "outputs": [
    {
     "name": "stdout",
     "output_type": "stream",
     "text": [
      "I am protected\n",
      "This is a protected method.\n"
     ]
    }
   ],
   "source": [
    "class MyClass:\n",
    "    def __init__(self):\n",
    "        self._protected_variable = \"I am protected\"\n",
    "\n",
    "    def _protected_method(self):\n",
    "        return \"This is a protected method.\"\n",
    "\n",
    "obj = MyClass()\n",
    "print(obj._protected_variable)  # Accessing a protected variable (not recommended)\n",
    "print(obj._protected_method())   # Accessing a protected method (not recommended)\n"
   ]
  },
  {
   "cell_type": "markdown",
   "metadata": {},
   "source": [
    "- Private (Double Leading Underscore):\n",
    "- - Naming Convention: Members with a double leading underscore (e.g., __variable or __method()) are considered private.\n",
    "- - Accessing Private Members: Private members are name-mangled, which means their names are modified to make them less accessible from outside the class. However, they can still be accessed using the mangled name (e.g., _ClassName__variable)."
   ]
  },
  {
   "cell_type": "code",
   "execution_count": 3,
   "metadata": {},
   "outputs": [
    {
     "name": "stdout",
     "output_type": "stream",
     "text": [
      "I am private\n",
      "This is a private method.\n"
     ]
    }
   ],
   "source": [
    "class MyClass:\n",
    "    def __init__(self):\n",
    "        self.__private_variable = \"I am private\"\n",
    "\n",
    "    def __private_method(self):\n",
    "        return \"This is a private method.\"\n",
    "\n",
    "obj = MyClass()\n",
    "print(obj._MyClass__private_variable)  # Accessing a private variable using name-mangling\n",
    "print(obj._MyClass__private_method())   # Accessing a private method using name-mangling\n"
   ]
  },
  {
   "cell_type": "markdown",
   "metadata": {},
   "source": [
    "<h3> <span style=\"color: limegreen;\">5. Create a Python class called `Person` with a private attribute `__name`. Provide methods to get and set the name attribute.</span>"
   ]
  },
  {
   "cell_type": "code",
   "execution_count": 4,
   "metadata": {},
   "outputs": [
    {
     "name": "stdout",
     "output_type": "stream",
     "text": [
      "Current Name: John Doe\n",
      "Updated Name: Jane Doe\n"
     ]
    }
   ],
   "source": [
    "class Person:\n",
    "    def __init__(self, name):\n",
    "        self.__name = name  # Private attribute with name-mangling\n",
    "\n",
    "    def get_name(self):\n",
    "        return self.__name\n",
    "\n",
    "    def set_name(self, new_name):\n",
    "        self.__name = new_name\n",
    "\n",
    "# Example usage:\n",
    "person = Person(\"John Doe\")\n",
    "\n",
    "# Get the name\n",
    "current_name = person.get_name()\n",
    "print(f\"Current Name: {current_name}\")\n",
    "\n",
    "# Set a new name\n",
    "person.set_name(\"Jane Doe\")\n",
    "\n",
    "# Get the updated name\n",
    "updated_name = person.get_name()\n",
    "print(f\"Updated Name: {updated_name}\")\n"
   ]
  },
  {
   "cell_type": "markdown",
   "metadata": {},
   "source": [
    "<h3> <span style=\"color: limegreen;\">6. Explain the purpose of getter and setter methods in encapsulation. Provide examples.</span>\n"
   ]
  },
  {
   "cell_type": "markdown",
   "metadata": {},
   "source": [
    "##### Getter and setter methods play a crucial role in encapsulation by providing controlled access to the attributes of a class. They allow you to enforce validation, manage access, and encapsulate the internal representation of an object. Here's an explanation of the purpose of getter and setter methods along with examples:\n",
    "\n",
    "- Getter Methods:\n",
    "Purpose: Getter methods are used to retrieve the value of a private attribute. They provide read access to the encapsulated data.\n",
    "- - Benefits:\n",
    "- - - Control over how the attribute is accessed.\n",
    "- - - Allows for additional logic or validation during retrieval.\n",
    "\n",
    "##### Setter Methods:\n",
    "- Purpose: Setter methods are used to modify the value of a private attribute. They provide write access to the encapsulated data.\n",
    "- - Benefits:\n",
    "- - - Control over how the attribute is modified.\n",
    "- - - Allows for validation or additional logic before updating the attribute."
   ]
  },
  {
   "cell_type": "code",
   "execution_count": 1,
   "metadata": {},
   "outputs": [
    {
     "name": "stdout",
     "output_type": "stream",
     "text": [
      "John Doe\n"
     ]
    }
   ],
   "source": [
    "class Person:\n",
    "    def __init__(self, name):\n",
    "        self.__name = name\n",
    "\n",
    "    def get_name(self):\n",
    "        return self.__name\n",
    "\n",
    "    def set_name(self, new_name):\n",
    "        # Perform validation or additional logic if needed\n",
    "        self.__name = new_name\n",
    "\n",
    "# Example usage:\n",
    "person = Person(\"John Doe\")\n",
    "print(person.get_name())    \n",
    "person.set_name(\"Jane Doe\")"
   ]
  },
  {
   "cell_type": "markdown",
   "metadata": {},
   "source": [
    "<h3> <span style=\"color: limegreen;\">7. What is name mangling in Python, and how does it affect encapsulation?</span>\n"
   ]
  },
  {
   "cell_type": "markdown",
   "metadata": {},
   "source": [
    "`Name mangling` is a technique used in Python to make the names of attributes in a class more unique by adding a prefix to them. \n",
    "\n",
    "\n",
    "\n",
    "In Python, name mangling is achieved by adding a double underscore (__) as a prefix to an attribute's name. When a name is prefixed with double underscores (e.g., __attribute), Python internally modifies the name to include the class name as a prefix."
   ]
  },
  {
   "cell_type": "code",
   "execution_count": 6,
   "metadata": {},
   "outputs": [
    {
     "name": "stdout",
     "output_type": "stream",
     "text": [
      "42\n"
     ]
    }
   ],
   "source": [
    "class MyClass:\n",
    "    def __init__(self):\n",
    "        self.__private_attribute = 42\n",
    "\n",
    "    def get_private_attribute(self):\n",
    "        return self.__private_attribute\n",
    "\n",
    "# Example usage:\n",
    "obj = MyClass()\n",
    "\n",
    "# Accessing the private attribute directly (not recommended)\n",
    "print(obj.__private_attribute)  # This will result in an AttributeError\n",
    "\n",
    "# Accessing the private attribute using name mangling\n",
    "print(obj._MyClass__private_attribute)  # This works"
   ]
  },
  {
   "cell_type": "markdown",
   "metadata": {},
   "source": [
    "<h3> <span style=\"color: limegreen;\">8. Create a Python class called `BankAccount` with private attributes for the account balance (`__balance`) and account number (`__account_number`). Provide methods for depositing and withdrawing money.</span>"
   ]
  },
  {
   "cell_type": "code",
   "execution_count": 7,
   "metadata": {},
   "outputs": [
    {
     "name": "stdout",
     "output_type": "stream",
     "text": [
      "Initial Balance: $1000.0\n",
      "Deposited $500.0. New balance: $1500.0\n",
      "Withdrew $200.0. New balance: $1300.0\n",
      "Invalid withdrawal amount or insufficient funds.\n"
     ]
    }
   ],
   "source": [
    "class BankAccount:\n",
    "    def __init__(self, account_number, initial_balance=0.0):\n",
    "        self.__account_number = account_number\n",
    "        self.__balance = initial_balance\n",
    "\n",
    "    def get_balance(self):\n",
    "        return self.__balance\n",
    "\n",
    "    def deposit(self, amount):\n",
    "        if amount > 0:\n",
    "            self.__balance += amount\n",
    "            print(f\"Deposited ${amount}. New balance: ${self.__balance}\")\n",
    "        else:\n",
    "            print(\"Invalid deposit amount. Please deposit a positive amount.\")\n",
    "\n",
    "    def withdraw(self, amount):\n",
    "        if 0 < amount <= self.__balance:\n",
    "            self.__balance -= amount\n",
    "            print(f\"Withdrew ${amount}. New balance: ${self.__balance}\")\n",
    "        else:\n",
    "            print(\"Invalid withdrawal amount or insufficient funds.\")\n",
    "\n",
    "# Example usage:\n",
    "account = BankAccount(account_number=\"123456789\", initial_balance=1000.0)\n",
    "\n",
    "# Check initial balance\n",
    "print(f\"Initial Balance: ${account.get_balance()}\")\n",
    "\n",
    "# Deposit money\n",
    "account.deposit(500.0)\n",
    "\n",
    "# Withdraw money\n",
    "account.withdraw(200.0)\n",
    "\n",
    "# Attempt to withdraw more than the balance\n",
    "account.withdraw(10000.0)\n"
   ]
  },
  {
   "cell_type": "markdown",
   "metadata": {},
   "source": [
    "- The `__init__` method initializes the private attributes `__account_number` and `__balance` during object creation.\n",
    "- The get_balance method provides a way to retrieve the current account balance.\n",
    "- The deposit method allows depositing money into the account, and it performs validation to ensure the deposit amount is positive.\n",
    "- The withdraw method allows withdrawing money from the account, and it performs validation to ensure the withdrawal amount is valid and doesn't exceed the account balance."
   ]
  },
  {
   "cell_type": "markdown",
   "metadata": {},
   "source": [
    "<h3> <span style=\"color: limegreen;\">9. Discuss the advantages of encapsulation in terms of code maintainability and security.</span>\n"
   ]
  },
  {
   "cell_type": "markdown",
   "metadata": {},
   "source": [
    "- Code Maintainability:\n",
    "- - Modular Design:\n",
    "- - - Encapsulation enables the creation of modular and self-contained classes with well-defined interfaces, making it easier to understand, modify, and maintain specific components of the code.\n",
    "- - Implementation Flexibility:\n",
    "- - - Changes to the internal details of a class can be made without impacting other parts of the code, as long as the external interface remains consistent. This flexibility streamlines debugging, testing, and versioning processes.\n",
    "- Security:\n",
    "- - Access Control:\n",
    "- - - Encapsulation allows control over access to class members, limiting direct interactions and reducing the risk of unintended interference or manipulation by external code.\n",
    "- - Data Hiding:\n",
    "- - - Private attributes and encapsulated data hide the internal representation, promoting security by preventing unauthorized access and manipulation. This encapsulation ensures a more secure and stable system."
   ]
  },
  {
   "cell_type": "markdown",
   "metadata": {},
   "source": [
    "<h3> <span style=\"color: limegreen;\">10. How can you access private attributes in Python? Provide an example demonstrating the use of name mangling.</span>\n"
   ]
  },
  {
   "cell_type": "markdown",
   "metadata": {},
   "source": [
    "- Python provides a mechanism called name mangling that allows you to access private attributes in a roundabout way."
   ]
  },
  {
   "cell_type": "code",
   "execution_count": 8,
   "metadata": {},
   "outputs": [
    {
     "name": "stdout",
     "output_type": "stream",
     "text": [
      "I am private\n"
     ]
    }
   ],
   "source": [
    "class MyClass:\n",
    "    def __init__(self):\n",
    "        self.__private_attribute = \"I am private\"\n",
    "\n",
    "# Creating an object of the class\n",
    "obj = MyClass()\n",
    "\n",
    "# Accessing the private attribute using name mangling\n",
    "# The private attribute '__private_attribute' becomes '_MyClass__private_attribute'\n",
    "mangled_name = obj._MyClass__private_attribute\n",
    "\n",
    "print(mangled_name)  # Output: I am private\n"
   ]
  },
  {
   "cell_type": "markdown",
   "metadata": {},
   "source": [
    "<h3> <span style=\"color: limegreen;\">11. Create a Python class hierarchy for a school system, including classes for students, teachers, and courses,and implement encapsulation principles to protect sensitive information.</span>"
   ]
  },
  {
   "cell_type": "code",
   "execution_count": 10,
   "metadata": {},
   "outputs": [
    {
     "name": "stdout",
     "output_type": "stream",
     "text": [
      "School Name: XYZ low School\n",
      "\n",
      "Course Information:\n",
      "Course: Math 101, Teacher: Mr. Smith\n",
      "Students:\n",
      "- Alice\n",
      "- Bob\n",
      "Course: Science 201, Teacher: Ms. Johnson\n",
      "Students:\n",
      "- Bob\n",
      "\n",
      "Teacher Information:\n",
      "Teacher: Mr. Smith, Subject: Math\n",
      "Teacher: Ms. Johnson, Subject: Science\n",
      "\n",
      "Student Information:\n",
      "Student: Alice, Grade: 10\n",
      "Student: Bob, Grade: 11\n"
     ]
    }
   ],
   "source": [
    "class Student:\n",
    "    def __init__(self, student_id, name, age, grade):\n",
    "        self.__student_id = student_id\n",
    "        self.__name = name\n",
    "        self.__age = age\n",
    "        self.__grade = grade\n",
    "\n",
    "    def get_student_id(self):\n",
    "        return self.__student_id\n",
    "\n",
    "    def get_name(self):\n",
    "        return self.__name\n",
    "\n",
    "    def get_age(self):\n",
    "        return self.__age\n",
    "\n",
    "    def get_grade(self):\n",
    "        return self.__grade\n",
    "\n",
    "\n",
    "class Teacher:\n",
    "    def __init__(self, teacher_id, name, age, subject):\n",
    "        self.__teacher_id = teacher_id\n",
    "        self.__name = name\n",
    "        self.__age = age\n",
    "        self.__subject = subject\n",
    "\n",
    "    def get_teacher_id(self):\n",
    "        return self.__teacher_id\n",
    "\n",
    "    def get_name(self):\n",
    "        return self.__name\n",
    "\n",
    "    def get_age(self):\n",
    "        return self.__age\n",
    "\n",
    "    def get_subject(self):\n",
    "        return self.__subject\n",
    "\n",
    "\n",
    "class Course:\n",
    "    def __init__(self, course_id, name, teacher, students):\n",
    "        self.__course_id = course_id\n",
    "        self.__name = name\n",
    "        self.__teacher = teacher\n",
    "        self.__students = students\n",
    "\n",
    "    def get_course_id(self):\n",
    "        return self.__course_id\n",
    "\n",
    "    def get_name(self):\n",
    "        return self.__name\n",
    "\n",
    "    def get_teacher(self):\n",
    "        return self.__teacher\n",
    "\n",
    "    def get_students(self):\n",
    "        return self.__students\n",
    "\n",
    "\n",
    "class School:\n",
    "    def __init__(self, name, courses, teachers, students):\n",
    "        self.__name = name\n",
    "        self.__courses = courses\n",
    "        self.__teachers = teachers\n",
    "        self.__students = students\n",
    "\n",
    "    def get_name(self):\n",
    "        return self.__name\n",
    "\n",
    "    def get_courses(self):\n",
    "        return self.__courses\n",
    "\n",
    "    def get_teachers(self):\n",
    "        return self.__teachers\n",
    "\n",
    "    def get_students(self):\n",
    "        return self.__students\n",
    "\n",
    "\n",
    "# Example Usage:\n",
    "\n",
    "# Create students\n",
    "student1 = Student(student_id=\"S001\", name=\"Alice\", age=15, grade=10)\n",
    "student2 = Student(student_id=\"S002\", name=\"Bob\", age=16, grade=11)\n",
    "\n",
    "# Create teachers\n",
    "teacher1 = Teacher(teacher_id=\"T001\", name=\"Mr. Smith\", age=35, subject=\"Math\")\n",
    "teacher2 = Teacher(teacher_id=\"T002\", name=\"Ms. Johnson\", age=40, subject=\"Science\")\n",
    "\n",
    "# Create courses\n",
    "course1 = Course(course_id=\"C001\", name=\"Math 101\", teacher=teacher1, students=[student1, student2])\n",
    "course2 = Course(course_id=\"C002\", name=\"Science 201\", teacher=teacher2, students=[student2])\n",
    "\n",
    "# Create a school\n",
    "school = School(name=\"XYZ low School\", courses=[course1, course2], teachers=[teacher1, teacher2], students=[student1, student2])\n",
    "\n",
    "# Accessing information through getters\n",
    "print(\"School Name:\", school.get_name())\n",
    "print(\"\\nCourse Information:\")\n",
    "for course in school.get_courses():\n",
    "    print(f\"Course: {course.get_name()}, Teacher: {course.get_teacher().get_name()}\")\n",
    "    print(\"Students:\")\n",
    "    for student in course.get_students():\n",
    "        print(f\"- {student.get_name()}\")\n",
    "\n",
    "print(\"\\nTeacher Information:\")\n",
    "for teacher in school.get_teachers():\n",
    "    print(f\"Teacher: {teacher.get_name()}, Subject: {teacher.get_subject()}\")\n",
    "\n",
    "print(\"\\nStudent Information:\")\n",
    "for student in school.get_students():\n",
    "    print(f\"Student: {student.get_name()}, Grade: {student.get_grade()}\")\n"
   ]
  },
  {
   "cell_type": "markdown",
   "metadata": {},
   "source": [
    "<h3> <span style=\"color: limegreen;\">12. Explain the concept of property decorators in Python and how they relate to encapsulation.</span>\n"
   ]
  },
  {
   "cell_type": "code",
   "execution_count": 11,
   "metadata": {},
   "outputs": [
    {
     "name": "stdout",
     "output_type": "stream",
     "text": [
      "Name: John\n",
      "Age: 25\n",
      "Deleting age information\n"
     ]
    }
   ],
   "source": [
    "class Person:\n",
    "    def __init__(self, name, age):\n",
    "        self._name = name\n",
    "        self._age = age\n",
    "\n",
    "    @property\n",
    "    def name(self):\n",
    "        return self._name\n",
    "\n",
    "    @name.setter\n",
    "    def name(self, new_name):\n",
    "        self._name = new_name\n",
    "\n",
    "    @property\n",
    "    def age(self):\n",
    "        return self._age\n",
    "\n",
    "    @age.setter\n",
    "    def age(self, new_age):\n",
    "        self._age = new_age\n",
    "\n",
    "    @age.deleter\n",
    "    def age(self):\n",
    "        print(\"Deleting age information\")\n",
    "        del self._age\n",
    "\n",
    "# Example Usage:\n",
    "person = Person(name=\"John\", age=25)\n",
    "\n",
    "print(\"Name:\", person.name)   # Getter\n",
    "person.name = \"Jane\"          # Setter\n",
    "\n",
    "print(\"Age:\", person.age)     # Getter\n",
    "person.age = 30               # Setter\n",
    "\n",
    "del person.age                # Deleter\n"
   ]
  },
  {
   "cell_type": "markdown",
   "metadata": {},
   "source": [
    "<h3> <span style=\"color: limegreen;\">13. What is data hiding, and why is it important in encapsulation? Provide examples.</span>"
   ]
  },
  {
   "cell_type": "markdown",
   "metadata": {},
   "source": [
    "`Data hiding` is a fundamental concept in object-oriented programming that involves restricting direct access to the internal representation of an object's data. The idea is to encapsulate the data within the object and provide controlled access through well-defined interfaces, such as methods or properties. This prevents external code from directly manipulating or accessing the internal state of an object, promoting encapsulation and information hiding.\n",
    "\n",
    "\n",
    "- Preventing Unintended Modifications:\n",
    "By hiding the internal representation of data, you prevent external code from unintentionally modifying the object's state. This reduces the risk of bugs caused by unintended changes to the object's data.\n",
    "\n",
    "- Enhancing Security:\n",
    "Data hiding contributes to the security of the program by restricting direct access to sensitive or critical data. It allows controlled access through methods, allowing the implementation of additional logic or validation to ensure the integrity of the data.\n"
   ]
  },
  {
   "cell_type": "code",
   "execution_count": 12,
   "metadata": {},
   "outputs": [
    {
     "name": "stdout",
     "output_type": "stream",
     "text": [
      "78.5\n"
     ]
    }
   ],
   "source": [
    "class Circle:\n",
    "    def __init__(self, radius):\n",
    "        self.radius = radius  # Direct access to the attribute\n",
    "\n",
    "    def calculate_area(self):\n",
    "        return 3.14 * self.radius ** 2\n",
    "\n",
    "# External code\n",
    "circle = Circle(radius=5)\n",
    "print(circle.calculate_area())  # External code directly accesses the 'radius' attribute\n"
   ]
  },
  {
   "cell_type": "code",
   "execution_count": 13,
   "metadata": {},
   "outputs": [
    {
     "name": "stdout",
     "output_type": "stream",
     "text": [
      "78.5\n"
     ]
    }
   ],
   "source": [
    "class Circle:\n",
    "    def __init__(self, radius):\n",
    "        self.__radius = radius  # Data hiding with a private attribute\n",
    "\n",
    "    def get_radius(self):\n",
    "        return self.__radius\n",
    "\n",
    "    def set_radius(self, new_radius):\n",
    "        # Additional validation or logic can be added here\n",
    "        self.__radius = new_radius\n",
    "\n",
    "    def calculate_area(self):\n",
    "        return 3.14 * self.__radius ** 2\n",
    "\n",
    "# External code\n",
    "circle = Circle(radius=5)\n",
    "print(circle.calculate_area())  # External code accesses the 'radius' through getter method\n"
   ]
  },
  {
   "cell_type": "markdown",
   "metadata": {},
   "source": [
    "<h3> <span style=\"color: limegreen;\">14. Create a Python class called `Employee` with private attributes for salary (`__salary`) and employee ID (`__employee_id`). Provide a method to calculate yearly bonuses.</span>"
   ]
  },
  {
   "cell_type": "code",
   "execution_count": 14,
   "metadata": {},
   "outputs": [
    {
     "name": "stdout",
     "output_type": "stream",
     "text": [
      "Employee ID: E001\n",
      "Salary: 50000\n",
      "Updated Salary: 55000\n",
      "Yearly Bonus: $5500.0\n"
     ]
    }
   ],
   "source": [
    "class Employee:\n",
    "    def __init__(self, employee_id, salary):\n",
    "        self.__employee_id = employee_id\n",
    "        self.__salary = salary\n",
    "\n",
    "    def get_employee_id(self):\n",
    "        return self.__employee_id\n",
    "\n",
    "    def get_salary(self):\n",
    "        return self.__salary\n",
    "\n",
    "    def set_salary(self, new_salary):\n",
    "        # Additional validation or logic can be added here\n",
    "        self.__salary = new_salary\n",
    "\n",
    "    def calculate_yearly_bonus(self, bonus_percentage):\n",
    "        bonus_amount = (bonus_percentage / 100) * self.__salary\n",
    "        return bonus_amount\n",
    "\n",
    "# Example Usage:\n",
    "employee = Employee(employee_id=\"E001\", salary=50000)\n",
    "\n",
    "# Accessing attributes using getter methods\n",
    "print(\"Employee ID:\", employee.get_employee_id())\n",
    "print(\"Salary:\", employee.get_salary())\n",
    "\n",
    "# Modifying the salary using a setter method\n",
    "employee.set_salary(55000)\n",
    "print(\"Updated Salary:\", employee.get_salary())\n",
    "\n",
    "# Calculating yearly bonus\n",
    "bonus_percentage = 10  # 10% bonus\n",
    "yearly_bonus = employee.calculate_yearly_bonus(bonus_percentage)\n",
    "print(f\"Yearly Bonus: ${yearly_bonus}\")\n"
   ]
  },
  {
   "cell_type": "markdown",
   "metadata": {},
   "source": [
    "<h3> <span style=\"color: limegreen;\">15. Discuss the use of accessors and mutators in encapsulation. How do they help maintain control over attribute access?</span>\n"
   ]
  },
  {
   "cell_type": "markdown",
   "metadata": {},
   "source": [
    "- `Accessors` and `mutators` are methods used in encapsulation to control access to the attributes of a class. They are part of a design pattern that promotes information hiding and encapsulation in object-oriented programming."
   ]
  },
  {
   "cell_type": "markdown",
   "metadata": {},
   "source": [
    "- Accessors (Getters):\n",
    "- - Purpose: Accessors are methods used to retrieve the values of private attributes.\n",
    "- - Naming Convention: Typically named with a prefix like get_ followed by the attribute name."
   ]
  },
  {
   "cell_type": "code",
   "execution_count": null,
   "metadata": {},
   "outputs": [],
   "source": [
    "class Employee:\n",
    "    def __init__(self, name, salary):\n",
    "        self.__name = name\n",
    "        self.__salary = salary\n",
    "\n",
    "    def get_name(self):\n",
    "        return self.__name\n",
    "\n",
    "    def get_salary(self):\n",
    "        return self.__salary\n"
   ]
  },
  {
   "cell_type": "markdown",
   "metadata": {},
   "source": [
    "- Benefits:\n",
    "- - Provides read-only access to private attributes.\n",
    "- - Allows controlled and validated retrieval of attribute values."
   ]
  },
  {
   "cell_type": "markdown",
   "metadata": {},
   "source": [
    "- Mutators (Setters):\n",
    "- - Purpose: Mutators are methods used to modify the values of private attributes.\n",
    "- - Naming Convention: Typically named with a prefix like set_ followed by the attribute name."
   ]
  },
  {
   "cell_type": "code",
   "execution_count": 15,
   "metadata": {},
   "outputs": [],
   "source": [
    "class Employee:\n",
    "    def __init__(self, name, salary):\n",
    "        self.__name = name\n",
    "        self.__salary = salary\n",
    "\n",
    "    def set_name(self, new_name):\n",
    "        # Additional validation or logic can be added here\n",
    "        self.__name = new_name\n",
    "\n",
    "    def set_salary(self, new_salary):\n",
    "        # Additional validation or logic can be added here\n",
    "        self.__salary = new_salary\n"
   ]
  },
  {
   "cell_type": "markdown",
   "metadata": {},
   "source": [
    "- Benefits:\n",
    "- - Provides controlled modification of private attributes.\n",
    "- - Enables additional logic, such as validation or constraints, during attribute modification."
   ]
  },
  {
   "cell_type": "code",
   "execution_count": 16,
   "metadata": {},
   "outputs": [],
   "source": [
    "class Rectangle:\n",
    "    def __init__(self, length, width):\n",
    "        self.__length = length\n",
    "        self.__width = width\n",
    "\n",
    "    def get_length(self):\n",
    "        return self.__length\n",
    "\n",
    "    def set_length(self, new_length):\n",
    "        if new_length > 0:\n",
    "            self.__length = new_length\n",
    "\n",
    "    def get_width(self):\n",
    "        return self.__width\n",
    "\n",
    "    def set_width(self, new_width):\n",
    "        if new_width > 0:\n",
    "            self.__width = new_width\n"
   ]
  },
  {
   "cell_type": "markdown",
   "metadata": {},
   "source": [
    "<h3> <span style=\"color: limegreen;\">16. What are the potential drawbacks or disadvantages of using encapsulation in Python?</span>\n"
   ]
  },
  {
   "cell_type": "markdown",
   "metadata": {},
   "source": [
    "- Icreased Complexity and Overhead:\n",
    "- - Introduction of getter and setter methods adds code complexity.\n",
    "- - Maintenance becomes challenging due to the larger codebase.\n",
    "- Reduced Flexibility and Accessibility:\n",
    "- - Limited direct access to object attributes from outside the class.\n",
    "- - Indirection introduced by encapsulation may impact efficiency.\n",
    "- Potential Overuse and Rigidity:\n",
    "- - Overuse of encapsulation can lead to rigid and verbose code.\n",
    "- - Striking a balance is crucial to prevent unnecessary complexity."
   ]
  },
  {
   "cell_type": "markdown",
   "metadata": {},
   "source": []
  },
  {
   "cell_type": "markdown",
   "metadata": {},
   "source": [
    "<h3> <span style=\"color: limegreen;\">17. Create a Python class for a library system that encapsulates book information, including titles, authors,and availability status.</span>\n"
   ]
  },
  {
   "cell_type": "code",
   "execution_count": 17,
   "metadata": {},
   "outputs": [
    {
     "name": "stdout",
     "output_type": "stream",
     "text": [
      "Initial book information:\n",
      "Title: The Catcher in the Rye\n",
      "Author: J.D. Salinger\n",
      "Status: available\n",
      "\n",
      "\n",
      "Borrowing and returning books:\n",
      "The book 'The Catcher in the Rye' has been borrowed.\n",
      "Thank you for returning the book 'The Catcher in the Rye'.\n",
      "The book 'To Kill a Mockingbird' has been borrowed.\n",
      "Sorry, the book 'To Kill a Mockingbird' is not available for borrowing.\n",
      "Thank you for returning the book 'To Kill a Mockingbird'.\n",
      "\n",
      "Updated book information:\n",
      "Title: The Catcher in the Rye\n",
      "Author: J.D. Salinger\n",
      "Status: available\n",
      "\n",
      "\n",
      "Title: To Kill a Mockingbird\n",
      "Author: Harper Lee\n",
      "Status: available\n"
     ]
    }
   ],
   "source": [
    "class Book:\n",
    "    def __init__(self, title, author, available=True):\n",
    "        self.title = title\n",
    "        self.author = author\n",
    "        self.available = available\n",
    "\n",
    "    def __str__(self):\n",
    "        availability = \"available\" if self.available else \"not available\"\n",
    "        return f\"Title: {self.title}\\nAuthor: {self.author}\\nStatus: {availability}\"\n",
    "\n",
    "    def borrow_book(self):\n",
    "        if self.available:\n",
    "            print(f\"The book '{self.title}' has been borrowed.\")\n",
    "            self.available = False\n",
    "        else:\n",
    "            print(f\"Sorry, the book '{self.title}' is not available for borrowing.\")\n",
    "\n",
    "    def return_book(self):\n",
    "        if not self.available:\n",
    "            print(f\"Thank you for returning the book '{self.title}'.\")\n",
    "            self.available = True\n",
    "        else:\n",
    "            print(f\"Error: The book '{self.title}' is already marked as available.\")\n",
    "\n",
    "# Example usage:\n",
    "book1 = Book(\"The Catcher in the Rye\", \"J.D. Salinger\")\n",
    "book2 = Book(\"To Kill a Mockingbird\", \"Harper Lee\")\n",
    "\n",
    "print(\"Initial book information:\")\n",
    "print(book1)\n",
    "print(\"\\n\")\n",
    "\n",
    "print(\"Borrowing and returning books:\")\n",
    "book1.borrow_book()\n",
    "book1.return_book()\n",
    "book2.borrow_book()\n",
    "book2.borrow_book()\n",
    "book2.return_book()\n",
    "\n",
    "print(\"\\nUpdated book information:\")\n",
    "print(book1)\n",
    "print(\"\\n\")\n",
    "print(book2)\n"
   ]
  },
  {
   "cell_type": "code",
   "execution_count": 18,
   "metadata": {},
   "outputs": [
    {
     "name": "stdout",
     "output_type": "stream",
     "text": [
      "Customer Name: John Doe\n",
      "Customer Address: 123 Main St\n",
      "Customer Contact: 555-1234\n",
      "\n",
      "Updated Customer Information:\n",
      "Customer Name: Jane Doe\n",
      "Customer Address: 456 Oak St\n",
      "Customer Contact: 555-5678\n"
     ]
    }
   ],
   "source": [
    "class Customer:\n",
    "    def __init__(self, name, address, contact):\n",
    "        self._name = name  # Private attribute with a single leading underscore\n",
    "        self._address = address\n",
    "        self._contact = contact\n",
    "\n",
    "    def get_name(self):\n",
    "        return self._name\n",
    "\n",
    "    def get_address(self):\n",
    "        return self._address\n",
    "\n",
    "    def get_contact(self):\n",
    "        return self._contact\n",
    "\n",
    "    def set_name(self, new_name):\n",
    "        # Additional validation or logic can be added as needed\n",
    "        self._name = new_name\n",
    "\n",
    "    def set_address(self, new_address):\n",
    "        self._address = new_address\n",
    "\n",
    "    def set_contact(self, new_contact):\n",
    "        self._contact = new_contact\n",
    "\n",
    "# Example usage:\n",
    "customer1 = Customer(\"John Doe\", \"123 Main St\", \"555-1234\")\n",
    "\n",
    "# Accessing private attributes using getter methods\n",
    "print(\"Customer Name:\", customer1.get_name())\n",
    "print(\"Customer Address:\", customer1.get_address())\n",
    "print(\"Customer Contact:\", customer1.get_contact())\n",
    "\n",
    "# Modifying private attributes using setter methods\n",
    "customer1.set_name(\"Jane Doe\")\n",
    "customer1.set_address(\"456 Oak St\")\n",
    "customer1.set_contact(\"555-5678\")\n",
    "\n",
    "# Updated customer details\n",
    "print(\"\\nUpdated Customer Information:\")\n",
    "print(\"Customer Name:\", customer1.get_name())\n",
    "print(\"Customer Address:\", customer1.get_address())\n",
    "print(\"Customer Contact:\", customer1.get_contact())\n"
   ]
  },
  {
   "cell_type": "markdown",
   "metadata": {},
   "source": [
    "<h3> <span style=\"color: limegreen;\">18. Explain how encapsulation enhances code reusability and modularity in Python programs.</span>\n"
   ]
  },
  {
   "cell_type": "markdown",
   "metadata": {},
   "source": [
    "- `Organization`: Encapsulation helps organize code by grouping related data and functions into classes.\n",
    "\n",
    "- `Modularity`: Each class acts as a modular unit, making it easier to understand and maintain code.\n",
    "- `Information Hiding`: Encapsulation hides internal details, exposing only a well-defined interface, reducing complexity for users.\n",
    "- `Abstraction`: Users interact with classes at a higher level, focusing on what a class does rather than how it does it.\n",
    "- `Code Reusability`: Encapsulated classes can be reused in different parts of a program or in different projects without modification.\n",
    "- `Inheritance`: Encapsulation works well with inheritance, enabling the creation of specialized classes without duplicating code."
   ]
  },
  {
   "cell_type": "markdown",
   "metadata": {},
   "source": [
    "<h3> <span style=\"color: limegreen;\">19. Describe the concept of information hiding in encapsulation. Why is it essential in software development?</span>"
   ]
  },
  {
   "cell_type": "markdown",
   "metadata": {},
   "source": [
    "- Abstraction:\n",
    "- - Hides internal details, allowing developers to focus on essential features and a simplified interface.\n",
    "- Modularity:\n",
    "- - Encourages self-contained units (classes) with well-defined interfaces, easing updates without affecting the rest of the program.\n",
    "- Security and Integrity:\n",
    "- - Enhances security by restricting access to sensitive data and maintains data integrity through controlled manipulation.\n",
    "- Encapsulation:\n",
    "- - Integral to encapsulation, controls access to an object's internals through well-defined interfaces.\n",
    "- Ease of Maintenance:\n",
    "- - Separates interface from implementation, simplifying maintenance and updates.\n",
    "- Reduced Complexity:\n",
    "- - Reduces complexity for users by hiding unnecessary details, allowing them to focus on using provided methods."
   ]
  },
  {
   "cell_type": "markdown",
   "metadata": {},
   "source": [
    "\n",
    "<h3> <span style=\"color: limegreen;\">20. Create a Python class called `Customer` with private attributes for customer details like name, address,and contact information. Implement encapsulation to ensure data integrity and security.</span>\n",
    "\n"
   ]
  },
  {
   "cell_type": "code",
   "execution_count": 19,
   "metadata": {},
   "outputs": [
    {
     "name": "stdout",
     "output_type": "stream",
     "text": [
      "Customer Name: John Doe\n",
      "Customer Address: 123 Main St\n",
      "Customer Contact: 555-1234\n",
      "\n",
      "Updated Customer Information:\n",
      "Customer Name: Jane Doe\n",
      "Customer Address: 456 Oak St\n",
      "Customer Contact: 555-5678\n"
     ]
    }
   ],
   "source": [
    "class Customer:\n",
    "    def __init__(self, name, address, contact):\n",
    "        self._name = name  # Private attribute with a single leading underscore\n",
    "        self._address = address\n",
    "        self._contact = contact\n",
    "\n",
    "    def get_name(self):\n",
    "        return self._name\n",
    "\n",
    "    def get_address(self):\n",
    "        return self._address\n",
    "\n",
    "    def get_contact(self):\n",
    "        return self._contact\n",
    "\n",
    "    def set_name(self, new_name):\n",
    "        # Additional validation or logic can be added as needed\n",
    "        self._name = new_name\n",
    "\n",
    "    def set_address(self, new_address):\n",
    "        self._address = new_address\n",
    "\n",
    "    def set_contact(self, new_contact):\n",
    "        self._contact = new_contact\n",
    "\n",
    "# Example usage:\n",
    "customer1 = Customer(\"John Doe\", \"123 Main St\", \"555-1234\")\n",
    "\n",
    "# Accessing private attributes using getter methods\n",
    "print(\"Customer Name:\", customer1.get_name())\n",
    "print(\"Customer Address:\", customer1.get_address())\n",
    "print(\"Customer Contact:\", customer1.get_contact())\n",
    "\n",
    "# Modifying private attributes using setter methods\n",
    "customer1.set_name(\"Jane Doe\")\n",
    "customer1.set_address(\"456 Oak St\")\n",
    "customer1.set_contact(\"555-5678\")\n",
    "\n",
    "# Updated customer details\n",
    "print(\"\\nUpdated Customer Information:\")\n",
    "print(\"Customer Name:\", customer1.get_name())\n",
    "print(\"Customer Address:\", customer1.get_address())\n",
    "print(\"Customer Contact:\", customer1.get_contact())\n"
   ]
  },
  {
   "cell_type": "markdown",
   "metadata": {},
   "source": [
    "- The attributes (_name, _address, and _contact) are private, indicated by a single leading underscore. This convention signals to other developers that these attributes are intended for internal use within the class.\n",
    "- Getter methods (get_name, get_address, get_contact) are provided to access the private attributes from outside the class.\n",
    "- Setter methods (set_name, set_address, set_contact) are provided to modify the private attributes, allowing for additional validation or logic if needed."
   ]
  },
  {
   "cell_type": "markdown",
   "metadata": {},
   "source": [
    "<h3> <span style=\"color: limegreen;\">Composition:</span>"
   ]
  },
  {
   "cell_type": "markdown",
   "metadata": {},
   "source": [
    "<h3> <span style=\"color: limegreen;\">1. Explain the concept of composition in Python and how it is used to build complex objects from simpler ones.</span>\n"
   ]
  },
  {
   "cell_type": "markdown",
   "metadata": {},
   "source": [
    "- In Python, composition is a programming concept that involves creating complex objects by combining or composing simpler objects. It is a way to achieve code reuse and build more modular and maintainable code.\n",
    "- The basic idea behind composition is to create classes that are composed of other classes as components. Instead of inheriting behavior from a superclass, a class includes instances of other classes, which are used to provide specific functionalities. This promotes a \"has-a\" relationship, rather than an \"is-a\" relationship seen in inheritance."
   ]
  },
  {
   "cell_type": "code",
   "execution_count": null,
   "metadata": {},
   "outputs": [
    {
     "name": "stdout",
     "output_type": "stream",
     "text": [
      "Car is starting...\n",
      "Engine started\n"
     ]
    }
   ],
   "source": [
    "class Engine:\n",
    "    def start(self):\n",
    "        print(\"Engine started\")\n",
    "\n",
    "class Car:\n",
    "    def __init__(self):\n",
    "        self.engine = Engine()\n",
    "\n",
    "    def start(self):\n",
    "        print(\"Car is starting...\")\n",
    "        self.engine.start()\n",
    "\n",
    "# Example usage\n",
    "my_car = Car()\n",
    "my_car.start()\n"
   ]
  },
  {
   "cell_type": "markdown",
   "metadata": {},
   "source": [
    "<h3> <span style=\"color: limegreen;\">2. Describe the difference between composition and inheritance in object-oriented programming.</span>\n"
   ]
  },
  {
   "cell_type": "markdown",
   "metadata": {},
   "source": [
    "- Relationship Type:\n",
    "\n",
    "- - `Inheritance:` Inheritance establishes an \"is-a\" relationship between classes. A subclass is a specialized version of its superclass, inheriting its attributes and behaviors.\n",
    "- - `Composition:` Composition establishes a \"has-a\" relationship between classes. A class contains an instance of another class as a component or part.\n",
    "\n",
    "- Code Reusability:\n",
    "\n",
    "- - `Inheritance:` It promotes code reuse by allowing a subclass to inherit the properties and behaviors of its superclass. However, it can lead to issues like the diamond problem and a rigid class hierarchy.\n",
    "- - `Composition:` It promotes code reuse by creating smaller, independent components that can be combined to build more complex objects. This approach is often more flexible and avoids some of the problems associated with deep class hierarchies.\n",
    "\n",
    "- Encapsulation:\n",
    "\n",
    "- - `Inheritance:` The internal details of the superclass are often visible to its subclasses. Changes to the superclass can affect the behavior of its subclasses.\n",
    "- - `Composition:` It promotes encapsulation as the internal details of a class (its components) are hidden from the outside world. This helps in creating a clear and understandable interface for the class.\n",
    "\n",
    "- Diamond Problem:\n",
    "\n",
    "- - `Inheritance:` The diamond problem occurs in languages that support multiple inheritance when a class inherits from two classes that have a common ancestor. It can lead to ambiguity and complexity.\n",
    "- - `Composition:` Composition avoids the diamond problem because it doesn't involve creating deep class hierarchies. Classes are composed of independent components, reducing the likelihood of conflicts."
   ]
  },
  {
   "cell_type": "markdown",
   "metadata": {},
   "source": [
    "<h3> <span style=\"color: limegreen;\">3. Create a Python class called `Author` with attributes for name and birthdate. Then, create a `Book` class that contains an instance of `Author` as a composition. Provide an example of creating a `Book` object.</span>\n"
   ]
  },
  {
   "cell_type": "code",
   "execution_count": null,
   "metadata": {},
   "outputs": [
    {
     "name": "stdout",
     "output_type": "stream",
     "text": [
      "Title: Example Book\n",
      "Author: Jane Doe\n",
      "Birthdate: January 1, 1980\n",
      "Publication Year: 2022\n"
     ]
    }
   ],
   "source": [
    "class Author:\n",
    "    def __init__(self, name, birthdate):\n",
    "        self.name = name\n",
    "        self.birthdate = birthdate\n",
    "\n",
    "class Book:\n",
    "    def __init__(self, title, author, publication_year):\n",
    "        self.title = title\n",
    "        self.author = author  # Author instance as a component\n",
    "        self.publication_year = publication_year\n",
    "\n",
    "    def display_info(self):\n",
    "        print(f\"Title: {self.title}\")\n",
    "        print(f\"Author: {self.author.name}\")\n",
    "        print(f\"Birthdate: {self.author.birthdate}\")\n",
    "        print(f\"Publication Year: {self.publication_year}\")\n",
    "\n",
    "# Example usage\n",
    "author_jane_doe = Author(name=\"Jane Doe\", birthdate=\"January 1, 1980\")\n",
    "\n",
    "book_example = Book(title=\"Example Book\", author=author_jane_doe, publication_year=2022)\n",
    "\n",
    "# Display book information\n",
    "book_example.display_info()\n"
   ]
  },
  {
   "cell_type": "markdown",
   "metadata": {},
   "source": [
    "- The `Author` class has attributes for name and birthdate.\n",
    "- The `Book` class contains an instance of the Author class as an attribute (self.author). This is an example of composition, as the Book class \"has-a\" relationship with the Author class.\n",
    "- The `display_info` method in the Book class is used to print information about the book, including the title, author's name, author's birthdate, and the publication year."
   ]
  },
  {
   "cell_type": "markdown",
   "metadata": {},
   "source": [
    "<h3> <span style=\"color: limegreen;\">4. Discuss the benefits of using composition over inheritance in Python, especially in terms of code flexibility and reusability.</span>"
   ]
  },
  {
   "cell_type": "markdown",
   "metadata": {},
   "source": [
    "- Flexibility:\n",
    "\n",
    "- - Composition: Allows you to build objects by combining smaller, independent components. This approach provides greater flexibility compared to inheritance, as you can easily change or extend the behavior of a class by modifying or replacing its components without affecting the rest of the codebase.\n",
    "\n",
    "\n",
    "- Code Reusability:\n",
    "\n",
    "- - Composition: Promotes code reusability by creating small, specialized components that can be combined in various ways to build different objects. This approach allows you to assemble functionality as needed, fostering a more modular and reusable codebase."
   ]
  },
  {
   "cell_type": "markdown",
   "metadata": {},
   "source": [
    "<h3> <span style=\"color: limegreen;\">5. How can you implement composition in Python classes? Provide examples of using composition to create complex objects.</span>"
   ]
  },
  {
   "cell_type": "code",
   "execution_count": null,
   "metadata": {},
   "outputs": [
    {
     "name": "stdout",
     "output_type": "stream",
     "text": [
      "Car is starting...\n",
      "Engine started\n",
      "Title: Example Book\n",
      "Author: Jane Doe\n",
      "Birthdate: January 1, 1980\n"
     ]
    }
   ],
   "source": [
    "# Example 1: Basic Composition\n",
    "\n",
    "class Engine:\n",
    "    def start(self):\n",
    "        print(\"Engine started\")\n",
    "\n",
    "class Car:\n",
    "    def __init__(self, engine):\n",
    "        self.engine = engine\n",
    "\n",
    "    def start(self):\n",
    "        print(\"Car is starting...\")\n",
    "        self.engine.start()\n",
    "\n",
    "# Example usage\n",
    "my_engine = Engine()\n",
    "my_car = Car(engine=my_engine)\n",
    "my_car.start()\n",
    "\n",
    "\n",
    "# Example 2: Composition with Multiple Components\n",
    "\n",
    "class Author:\n",
    "    def __init__(self, name, birthdate):\n",
    "        self.name = name\n",
    "        self.birthdate = birthdate\n",
    "\n",
    "class Book:\n",
    "    def __init__(self, title, author):\n",
    "        self.title = title\n",
    "        self.author = author\n",
    "\n",
    "    def display_info(self):\n",
    "        print(f\"Title: {self.title}\")\n",
    "        print(f\"Author: {self.author.name}\")\n",
    "        print(f\"Birthdate: {self.author.birthdate}\")\n",
    "\n",
    "# Example usage\n",
    "author_jane_doe = Author(name=\"Jane Doe\", birthdate=\"January 1, 1980\")\n",
    "book_example = Book(title=\"Example Book\", author=author_jane_doe)\n",
    "book_example.display_info()\n"
   ]
  },
  {
   "cell_type": "markdown",
   "metadata": {},
   "source": [
    "<h3> <span style=\"color: limegreen;\">6. Create a Python class hierarchy for a music player system, using composition to represent playlists and songs.</span>"
   ]
  },
  {
   "cell_type": "code",
   "execution_count": null,
   "metadata": {},
   "outputs": [
    {
     "name": "stdout",
     "output_type": "stream",
     "text": [
      "Playing all songs in playlist 'My Playlist':\n",
      "Playing: Song 1 by Artist 1\n",
      "Playing: Song 2 by Artist 2\n",
      "Playlist finished.\n"
     ]
    }
   ],
   "source": [
    "class Song:\n",
    "    def __init__(self, title, artist, duration):\n",
    "        self.title = title\n",
    "        self.artist = artist\n",
    "        self.duration = duration\n",
    "\n",
    "    def play(self):\n",
    "        print(f\"Playing: {self.title} by {self.artist}\")\n",
    "\n",
    "\n",
    "class Playlist:\n",
    "    def __init__(self, name):\n",
    "        self.name = name\n",
    "        self.songs = []\n",
    "\n",
    "    def add_song(self, song):\n",
    "        self.songs.append(song)\n",
    "\n",
    "    def play_all(self):\n",
    "        print(f\"Playing all songs in playlist '{self.name}':\")\n",
    "        for song in self.songs:\n",
    "            song.play()\n",
    "        print(\"Playlist finished.\")\n",
    "\n",
    "\n",
    "class MusicPlayer:\n",
    "    def __init__(self):\n",
    "        self.playlists = []\n",
    "\n",
    "    def create_playlist(self, name):\n",
    "        playlist = Playlist(name)\n",
    "        self.playlists.append(playlist)\n",
    "        return playlist\n",
    "\n",
    "    def play_playlist(self, playlist_name):\n",
    "        playlist = next((p for p in self.playlists if p.name == playlist_name), None)\n",
    "        if playlist:\n",
    "            playlist.play_all()\n",
    "        else:\n",
    "            print(f\"Playlist '{playlist_name}' not found.\")\n",
    "\n",
    "\n",
    "# Example usage\n",
    "song1 = Song(title=\"Song 1\", artist=\"Artist 1\", duration=180)\n",
    "song2 = Song(title=\"Song 2\", artist=\"Artist 2\", duration=240)\n",
    "song3 = Song(title=\"Song 3\", artist=\"Artist 3\", duration=200)\n",
    "\n",
    "playlist1 = Playlist(name=\"My Playlist\")\n",
    "playlist1.add_song(song1)\n",
    "playlist1.add_song(song2)\n",
    "\n",
    "playlist2 = Playlist(name=\"Favorites\")\n",
    "playlist2.add_song(song2)\n",
    "playlist2.add_song(song3)\n",
    "\n",
    "music_player = MusicPlayer()\n",
    "music_player.create_playlist(\"Workout\")\n",
    "music_player.playlists.append(playlist1)\n",
    "music_player.playlists.append(playlist2)\n",
    "\n",
    "music_player.play_playlist(\"My Playlist\")\n"
   ]
  },
  {
   "cell_type": "markdown",
   "metadata": {},
   "source": [
    "<h3> <span style=\"color: limegreen;\">7. Explain the concept of \"has-a\" relationships in composition and how it helps design software systems.</span>"
   ]
  },
  {
   "cell_type": "markdown",
   "metadata": {},
   "source": [
    "- In object-oriented programming (OOP), the concept of `\"has-a\"` relationships is related to composition, which is one of the fundamental principles of OOP design. In a \"has-a\" relationship, one class has an instance of another class as a member, typically through the use of member variables or properties. This is in contrast to an \"is-a\" relationship, which is based on inheritance.\n",
    "\n",
    "\n",
    "- Composition:\n",
    "\n",
    "- - Composition is a way to combine simple or independent objects to create more complex ones.\n",
    "It involves designing classes in a manner that one class contains an object of another class, helping to build more modular and reusable code.\n",
    "\n",
    "\n",
    "- Example of `\"has-a\"` Relationship:\n",
    "\n",
    "- - Consider a class Car and a class Engine. A car \"has-a\" engine. Instead of making Car inherit from Engine, you would include an instance of Engine within the Car class."
   ]
  },
  {
   "cell_type": "code",
   "execution_count": null,
   "metadata": {},
   "outputs": [],
   "source": [
    "class Engine:\n",
    "    # Engine class code\n",
    "\n",
    "class Car:\n",
    "    def __init__(self):\n",
    "        self.engine = Engine()\n",
    "    # Car class code\n"
   ]
  },
  {
   "cell_type": "markdown",
   "metadata": {},
   "source": [
    "- Benefits of \"has-a\" Relationships:\n",
    "\n",
    "- - `Modularity`: Classes remain independent, making it easier to understand, modify, and extend the code. Changes to one class don't necessarily affect others.\n",
    "- - `Reuse`: You can reuse the individual classes in various contexts, promoting code reusability.\n",
    "- - `Flexibility`: It provides flexibility in choosing and changing components. You can easily switch the type of engine in the Car class without affecting the rest of the code."
   ]
  },
  {
   "cell_type": "markdown",
   "metadata": {},
   "source": [
    "\n",
    "<h3> <span style=\"color: limegreen;\">8. Create a Python class for a computer system, using composition to represent components like CPU, RAM,and storage devices.</span>\n"
   ]
  },
  {
   "cell_type": "code",
   "execution_count": null,
   "metadata": {},
   "outputs": [
    {
     "name": "stdout",
     "output_type": "stream",
     "text": [
      "Computer System Information:\n",
      "CPU: Intel Core i7 CPU (8 cores)\n",
      "RAM: 16GB RAM (2400MHz)\n",
      "Storage: 512GB SSD Storage\n"
     ]
    }
   ],
   "source": [
    "class CPU:\n",
    "    def __init__(self, brand, model, cores):\n",
    "        self.brand = brand\n",
    "        self.model = model\n",
    "        self.cores = cores\n",
    "\n",
    "    def __str__(self):\n",
    "        return f\"{self.brand} {self.model} CPU ({self.cores} cores)\"\n",
    "\n",
    "class RAM:\n",
    "    def __init__(self, capacity_GB, speed_MHz):\n",
    "        self.capacity_GB = capacity_GB\n",
    "        self.speed_MHz = speed_MHz\n",
    "\n",
    "    def __str__(self):\n",
    "        return f\"{self.capacity_GB}GB RAM ({self.speed_MHz}MHz)\"\n",
    "\n",
    "class Storage:\n",
    "    def __init__(self, type, capacity_GB):\n",
    "        self.type = type\n",
    "        self.capacity_GB = capacity_GB\n",
    "\n",
    "    def __str__(self):\n",
    "        return f\"{self.capacity_GB}GB {self.type} Storage\"\n",
    "\n",
    "class ComputerSystem:\n",
    "    def __init__(self, cpu, ram, storage):\n",
    "        self.cpu = cpu\n",
    "        self.ram = ram\n",
    "        self.storage = storage\n",
    "\n",
    "    def display_info(self):\n",
    "        print(\"Computer System Information:\")\n",
    "        print(f\"CPU: {self.cpu}\")\n",
    "        print(f\"RAM: {self.ram}\")\n",
    "        print(f\"Storage: {self.storage}\")\n",
    "\n",
    "# Example usage:\n",
    "cpu = CPU(\"Intel\", \"Core i7\", 8)\n",
    "ram = RAM(16, 2400)\n",
    "storage = Storage(\"SSD\", 512)\n",
    "\n",
    "computer = ComputerSystem(cpu, ram, storage)\n",
    "computer.display_info()\n"
   ]
  },
  {
   "cell_type": "markdown",
   "metadata": {},
   "source": [
    "<h3> <span style=\"color: limegreen;\">9. Describe the concept of \"delegation\" in composition and how it simplifies the design of complex systems.</span>"
   ]
  },
  {
   "cell_type": "markdown",
   "metadata": {},
   "source": [
    "- In the context of object-oriented programming and composition, delegation is a design pattern where one object passes off certain responsibilities or tasks to another object. Instead of inheriting behavior from a superclass, a class delegates specific tasks to instances of other classes. This is a form of code reuse that promotes modularity and flexibility in software design."
   ]
  },
  {
   "cell_type": "code",
   "execution_count": null,
   "metadata": {},
   "outputs": [
    {
     "name": "stdout",
     "output_type": "stream",
     "text": [
      "Printing: Processed Hello, World!\n"
     ]
    }
   ],
   "source": [
    "class Printer:\n",
    "    def print_info(self, data):\n",
    "        print(f\"Printing: {data}\")\n",
    "\n",
    "class DataManager:\n",
    "    def __init__(self, printer):\n",
    "        self.printer = printer\n",
    "\n",
    "    def process_data(self, data):\n",
    "        # Process data\n",
    "        processed_data = f\"Processed {data}\"\n",
    "        # Delegate printing responsibility to Printer class\n",
    "        self.printer.print_info(processed_data)\n",
    "\n",
    "# Example usage:\n",
    "printer = Printer()\n",
    "data_manager = DataManager(printer)\n",
    "data_manager.process_data(\"Hello, World!\")\n"
   ]
  },
  {
   "cell_type": "markdown",
   "metadata": {},
   "source": [
    "<h3> <span style=\"color: limegreen;\">10. Create a Python class for a car, using composition to represent components like the engine, wheels, and transmission.</span>"
   ]
  },
  {
   "cell_type": "code",
   "execution_count": null,
   "metadata": {},
   "outputs": [
    {
     "name": "stdout",
     "output_type": "stream",
     "text": [
      "Starting the car.\n",
      "Engine started.\n",
      "Driving the car.\n",
      "Gear shifted.\n",
      "Wheels are rotating.\n",
      "Stopping the car.\n",
      "Engine stopped.\n"
     ]
    }
   ],
   "source": [
    "class Engine:\n",
    "    def __init__(self, fuel_type, horsepower):\n",
    "        self.fuel_type = fuel_type\n",
    "        self.horsepower = horsepower\n",
    "\n",
    "    def start(self):\n",
    "        print(\"Engine started.\")\n",
    "\n",
    "    def stop(self):\n",
    "        print(\"Engine stopped.\")\n",
    "\n",
    "class Wheels:\n",
    "    def __init__(self, number_of_wheels):\n",
    "        self.number_of_wheels = number_of_wheels\n",
    "\n",
    "    def rotate(self):\n",
    "        print(\"Wheels are rotating.\")\n",
    "\n",
    "class Transmission:\n",
    "    def __init__(self, transmission_type):\n",
    "        self.transmission_type = transmission_type\n",
    "\n",
    "    def shift_gear(self):\n",
    "        print(\"Gear shifted.\")\n",
    "\n",
    "class Car:\n",
    "    def __init__(self, engine, wheels, transmission):\n",
    "        self.engine = engine\n",
    "        self.wheels = wheels\n",
    "        self.transmission = transmission\n",
    "\n",
    "    def start(self):\n",
    "        print(\"Starting the car.\")\n",
    "        self.engine.start()\n",
    "\n",
    "    def drive(self):\n",
    "        print(\"Driving the car.\")\n",
    "        self.transmission.shift_gear()\n",
    "        self.wheels.rotate()\n",
    "\n",
    "    def stop(self):\n",
    "        print(\"Stopping the car.\")\n",
    "        self.engine.stop()\n",
    "\n",
    "# Example usage:\n",
    "engine = Engine(fuel_type=\"Gasoline\", horsepower=200)\n",
    "wheels = Wheels(number_of_wheels=4)\n",
    "transmission = Transmission(transmission_type=\"Automatic\")\n",
    "\n",
    "car = Car(engine, wheels, transmission)\n",
    "\n",
    "# Interact with the car\n",
    "car.start()\n",
    "car.drive()\n",
    "car.stop()\n"
   ]
  },
  {
   "cell_type": "markdown",
   "metadata": {},
   "source": [
    "<h3> <span style=\"color: limegreen;\">11. How can you encapsulate and hide the details of composed objects in Python classes to maintain abstraction?</span>\n"
   ]
  },
  {
   "cell_type": "markdown",
   "metadata": {},
   "source": [
    "`Encapsulation` is a fundamental principle in object-oriented programming (OOP) that involves bundling the data (attributes) and methods (functions) that operate on the data into a single unit, known as a class. This concept helps in hiding the internal details of an object and exposing only what is necessary for the outside world to interact with it."
   ]
  },
  {
   "cell_type": "markdown",
   "metadata": {},
   "source": [
    "`Private Attributes`:\n",
    "\n",
    "Use private attributes by prefixing them with double underscores (__). This makes them not directly accessible from outside the class."
   ]
  },
  {
   "cell_type": "code",
   "execution_count": null,
   "metadata": {},
   "outputs": [],
   "source": [
    "class Car:\n",
    "    def __init__(self, engine, wheels, transmission):\n",
    "        self.__engine = engine\n",
    "        self.__wheels = wheels\n",
    "        self.__transmission = transmission\n",
    "\n",
    "    # Other methods...\n",
    "\n",
    "# Accessing __engine directly from outside the class will result in an AttributeError.\n"
   ]
  },
  {
   "cell_type": "markdown",
   "metadata": {},
   "source": [
    "`Public Methods`:\n",
    "\n",
    "Provide public methods that act as an interface for interacting with the composed objects. These methods should be the only way external code interacts with the internal components."
   ]
  },
  {
   "cell_type": "code",
   "execution_count": null,
   "metadata": {},
   "outputs": [],
   "source": [
    "class Car:\n",
    "    def __init__(self, engine, wheels, transmission):\n",
    "        self.__engine = engine\n",
    "        self.__wheels = wheels\n",
    "        self.__transmission = transmission\n",
    "\n",
    "    def start(self):\n",
    "        print(\"Starting the car.\")\n",
    "        self.__engine.start()\n",
    "\n",
    "    def drive(self):\n",
    "        print(\"Driving the car.\")\n",
    "        self.__transmission.shift_gear()\n",
    "        self.__wheels.rotate()\n",
    "\n",
    "    def stop(self):\n",
    "        print(\"Stopping the car.\")\n",
    "        self.__engine.stop()\n",
    "\n",
    "# External code interacts with the car through its public methods.\n"
   ]
  },
  {
   "cell_type": "markdown",
   "metadata": {},
   "source": [
    "`Getter and Setter Methods`:\n",
    "\n",
    "If you need external access to certain attributes, provide getter and setter methods to control how these attributes are accessed and modified."
   ]
  },
  {
   "cell_type": "code",
   "execution_count": null,
   "metadata": {},
   "outputs": [],
   "source": [
    "class Car:\n",
    "    def __init__(self, engine, wheels, transmission):\n",
    "        self.__engine = engine\n",
    "        self.__wheels = wheels\n",
    "        self.__transmission = transmission\n",
    "\n",
    "    def get_engine(self):\n",
    "        return self.__engine\n",
    "\n",
    "    def set_engine(self, new_engine):\n",
    "        # Add validation or logic if needed\n",
    "        self.__engine = new_engine\n",
    "\n",
    "    # Other getter and setter methods...\n",
    "\n",
    "# External code accesses the engine through getter and setter methods.\n"
   ]
  },
  {
   "cell_type": "markdown",
   "metadata": {},
   "source": [
    "`Property Decorators`:\n",
    "\n",
    "Use property decorators to create getter and setter methods in a more concise way. This is a Pythonic way of defining getters and setters."
   ]
  },
  {
   "cell_type": "code",
   "execution_count": null,
   "metadata": {},
   "outputs": [],
   "source": [
    "class Car:\n",
    "    def __init__(self, engine, wheels, transmission):\n",
    "        self.__engine = engine\n",
    "        self.__wheels = wheels\n",
    "        self.__transmission = transmission\n",
    "\n",
    "    @property\n",
    "    def engine(self):\n",
    "        return self.__engine\n",
    "\n",
    "    @engine.setter\n",
    "    def engine(self, new_engine):\n",
    "        # Add validation or logic if needed\n",
    "        self.__engine = new_engine\n",
    "\n",
    "    # Other property methods...\n",
    "\n",
    "# External code accesses the engine through the property methods.\n"
   ]
  },
  {
   "cell_type": "markdown",
   "metadata": {},
   "source": [
    "\n",
    "<h3> <span style=\"color: limegreen;\">12. Create a Python class for a university course, using composition to represent students, instructors, and course materials.</span>"
   ]
  },
  {
   "cell_type": "code",
   "execution_count": null,
   "metadata": {},
   "outputs": [
    {
     "name": "stdout",
     "output_type": "stream",
     "text": [
      "Course: CS101 - Introduction to Computer Science\n",
      "Instructor: Instructor Dr. Smith (ID: 101)\n",
      "Students:\n",
      "  - Student Alice (ID: 1)\n",
      "  - Student Bob (ID: 2)\n",
      "Course Material: Course Material: Introduction to Computer Science\n"
     ]
    }
   ],
   "source": [
    "class Student:\n",
    "    def __init__(self, student_id, name):\n",
    "        self.student_id = student_id\n",
    "        self.name = name\n",
    "\n",
    "    def __str__(self):\n",
    "        return f\"Student {self.name} (ID: {self.student_id})\"\n",
    "\n",
    "class Instructor:\n",
    "    def __init__(self, instructor_id, name):\n",
    "        self.instructor_id = instructor_id\n",
    "        self.name = name\n",
    "\n",
    "    def __str__(self):\n",
    "        return f\"Instructor {self.name} (ID: {self.instructor_id})\"\n",
    "\n",
    "class CourseMaterial:\n",
    "    def __init__(self, title, content):\n",
    "        self.title = title\n",
    "        self.content = content\n",
    "\n",
    "    def __str__(self):\n",
    "        return f\"Course Material: {self.title}\"\n",
    "\n",
    "class UniversityCourse:\n",
    "    def __init__(self, course_code, course_name, instructor, students, course_material):\n",
    "        self.course_code = course_code\n",
    "        self.course_name = course_name\n",
    "        self.instructor = instructor\n",
    "        self.students = students\n",
    "        self.course_material = course_material\n",
    "\n",
    "    def display_course_info(self):\n",
    "        print(f\"Course: {self.course_code} - {self.course_name}\")\n",
    "        print(f\"Instructor: {self.instructor}\")\n",
    "        print(\"Students:\")\n",
    "        for student in self.students:\n",
    "            print(f\"  - {student}\")\n",
    "        print(f\"Course Material: {self.course_material}\")\n",
    "\n",
    "# Example usage:\n",
    "student1 = Student(student_id=1, name=\"Alice\")\n",
    "student2 = Student(student_id=2, name=\"Bob\")\n",
    "\n",
    "instructor = Instructor(instructor_id=101, name=\"Dr. Smith\")\n",
    "\n",
    "course_material = CourseMaterial(title=\"Introduction to Computer Science\", content=\"...\")\n",
    "\n",
    "students = [student1, student2]\n",
    "\n",
    "computer_science_course = UniversityCourse(\n",
    "    course_code=\"CS101\",\n",
    "    course_name=\"Introduction to Computer Science\",\n",
    "    instructor=instructor,\n",
    "    students=students,\n",
    "    course_material=course_material\n",
    ")\n",
    "\n",
    "computer_science_course.display_course_info()\n"
   ]
  },
  {
   "cell_type": "markdown",
   "metadata": {},
   "source": [
    "<h3> <span style=\"color: limegreen;\">13. Discuss the challenges and drawbacks of composition, such as increased complexity and potential for tight coupling between objects.</span>"
   ]
  },
  {
   "cell_type": "markdown",
   "metadata": {},
   "source": [
    "- `Increased Complexity`:\n",
    "\n",
    "- - Composition can lead to increased complexity, especially when dealing with a large number of interconnected objects. As the number of components and their interactions grow, it can become challenging to understand and maintain the code.\n",
    "- `Boilerplate Code`:\n",
    "\n",
    "- - When using composition, you may find yourself writing additional boilerplate code to delegate method calls and manage the interactions between objects. This can lead to more verbose code and potentially introduce opportunities for errors.\n",
    "- `Runtime Overhead`:\n",
    "\n",
    " - - Delegating responsibilities through composition may introduce some runtime overhead, as each method call involves traversing through multiple layers of objects. While this overhead is often negligible, it might be a concern in performance-critical systems.\n",
    "- `Potential for Tight Coupling`:\n",
    "\n",
    "- - In some cases, composition can lead to tight coupling between objects. If a class tightly depends on the internal details of another class, changes to the implementation of one class may affect the dependent class, reducing the flexibility and maintainability of the code.\n",
    "- `Inconsistent Interfaces`:\n",
    "\n",
    "- - The use of composition can result in inconsistent interfaces across different classes. If each component has its own set of methods and behaviors, it can make the overall system less cohesive and harder to use consistently.\n",
    "- `Difficulty in Change Management`:\n",
    "\n",
    "- - If the internal structure of a composed object changes, it may impact all the classes that use that object. This can make it more challenging to manage changes and updates without affecting the rest of the system.\n",
    "- `Difficulty in Testing`:\n",
    "\n",
    "- Testing can become more complex in systems that heavily rely on composition. Since objects are interconnected, testing one component may require the creation of elaborate test setups, making it harder to isolate and verify the functionality of individual units.\n",
    "- `Overhead in Initialization`:\n",
    "\n",
    "- - Constructing objects with complex compositions might lead to increased overhead during initialization. Initializing all the components and establishing their relationships can be resource-intensive, impacting the startup time of an application.\n",
    "- `Learning Curve`:\n",
    "\n",
    "- - For developers who are not familiar with the composition-based design, there might be a learning curve in understanding the relationships between objects and how to properly use and extend them.\n",
    "- `Potential for Code Duplication`:\n",
    "\n",
    "- - In some scenarios, the use of composition might lead to code duplication, especially if multiple classes have similar delegations or interactions with their components. This can occur when developers replicate similar patterns across different classes."
   ]
  },
  {
   "cell_type": "markdown",
   "metadata": {},
   "source": [
    "<h3> <span style=\"color: limegreen;\">14. Create a Python class hierarchy for a restaurant system, using composition to represent menus, dishes,and ingredients.</span>"
   ]
  },
  {
   "cell_type": "code",
   "execution_count": null,
   "metadata": {},
   "outputs": [
    {
     "name": "stdout",
     "output_type": "stream",
     "text": [
      "Welcome to Fine Dining Restaurant!\n",
      "Lunch Menu Menu:\n",
      "  - Margherita Pizza - Classic Margherita pizza with tomato and cheese ($12.99)\n",
      "  - Grilled Cheese Sandwich - Toasted sandwich with melted cheese ($8.99)\n",
      "\n"
     ]
    }
   ],
   "source": [
    "class Ingredient:\n",
    "    def __init__(self, name, quantity, unit):\n",
    "        self.name = name\n",
    "        self.quantity = quantity\n",
    "        self.unit = unit\n",
    "\n",
    "    def __str__(self):\n",
    "        return f\"{self.quantity} {self.unit} of {self.name}\"\n",
    "\n",
    "class Dish:\n",
    "    def __init__(self, name, description, price, ingredients):\n",
    "        self.name = name\n",
    "        self.description = description\n",
    "        self.price = price\n",
    "        self.ingredients = ingredients\n",
    "\n",
    "    def __str__(self):\n",
    "        return f\"{self.name} - {self.description} (${self.price:.2f})\"\n",
    "\n",
    "class Menu:\n",
    "    def __init__(self, name, dishes):\n",
    "        self.name = name\n",
    "        self.dishes = dishes\n",
    "\n",
    "    def __str__(self):\n",
    "        menu_str = f\"{self.name} Menu:\\n\"\n",
    "        for dish in self.dishes:\n",
    "            menu_str += f\"  - {dish}\\n\"\n",
    "        return menu_str\n",
    "\n",
    "class Restaurant:\n",
    "    def __init__(self, name, menus):\n",
    "        self.name = name\n",
    "        self.menus = menus\n",
    "\n",
    "    def display_menus(self):\n",
    "        print(f\"Welcome to {self.name}!\")\n",
    "        for menu in self.menus:\n",
    "            print(menu)\n",
    "\n",
    "# Example usage:\n",
    "ingredient1 = Ingredient(name=\"Tomato\", quantity=2, unit=\"pieces\")\n",
    "ingredient2 = Ingredient(name=\"Cheese\", quantity=150, unit=\"grams\")\n",
    "ingredient3 = Ingredient(name=\"Bread\", quantity=2, unit=\"slices\")\n",
    "\n",
    "dish1 = Dish(name=\"Margherita Pizza\", description=\"Classic Margherita pizza with tomato and cheese\", price=12.99, ingredients=[ingredient1, ingredient2])\n",
    "dish2 = Dish(name=\"Grilled Cheese Sandwich\", description=\"Toasted sandwich with melted cheese\", price=8.99, ingredients=[ingredient2, ingredient3])\n",
    "\n",
    "menu1 = Menu(name=\"Lunch Menu\", dishes=[dish1, dish2])\n",
    "\n",
    "restaurant = Restaurant(name=\"Fine Dining Restaurant\", menus=[menu1])\n",
    "\n",
    "# Display restaurant menus\n",
    "restaurant.display_menus()\n"
   ]
  },
  {
   "cell_type": "markdown",
   "metadata": {},
   "source": [
    "<h3> <span style=\"color: limegreen;\">15. Explain how composition enhances code maintainability and modularity in Python programs.</span>\n"
   ]
  },
  {
   "cell_type": "markdown",
   "metadata": {},
   "source": [
    "`Modularity`:\n",
    "\n",
    "`Component Independence`: Composition allows you to create modular components that are independent of each other. Each class can focus on a specific responsibility or functionality without being tightly coupled to other classes.\n",
    "Code Organization: Components can be organized into separate modules or packages, making it easier to locate and manage related pieces of functionality. This separation of concerns enhances the overall structure of the codebase.\n",
    "`Code Reusability`:\n",
    "\n",
    "`Reusable Components`: Composed objects can be reused in different contexts, promoting code reusability. For example, a well-designed class representing a generic data structure or utility can be used in various parts of the program without modification.\n",
    "`Flexibility and Adaptability`:\n",
    "\n",
    "`Easier Modifications`: Components can be modified or replaced without affecting the entire system. This flexibility is crucial for adapting the code to changing requirements or accommodating new features.\n",
    "Dynamic Composition: The ability to dynamically compose objects during runtime provides a way to adapt the behavior of a system based on user input or configuration, enhancing adaptability.\n",
    "`Encapsulation`:\n",
    "\n",
    "`Information Hiding`: Composition supports encapsulation by allowing you to hide the internal details of objects. The implementation details of a class can be encapsulated, and only the necessary interfaces are exposed, reducing the likelihood of unintended interference with the object's state.\n",
    "`Testability`:\n",
    "\n",
    "`Isolation of Components`: Composed objects can be easily isolated for testing. Unit testing becomes more straightforward when individual components can be tested independently of the rest of the system. This isolation simplifies debugging and ensures that changes to one component don't break others.\n",
    "`Readability and Understandability`:\n",
    "\n",
    "`Clear Responsibilities`: Composition encourages the design of classes with clear responsibilities. When each class has a specific role or functionality, the code becomes more readable and easier to understand, both for the original developer and for others who may work on the code later.\n",
    "`Reduced Code Duplication`:\n",
    "\n",
    "`Avoidance of Monolithic Classes`: Composition helps prevent the creation of monolithic classes that try to do everything. Instead, functionality is distributed among smaller classes, reducing the chances of code duplication and making it easier to identify and eliminate redundancy.\n",
    "`Dependency Management`:\n",
    "\n",
    "`Loose Coupling`: Composition promotes loose coupling between components. This means that changes to one component are less likely to have cascading effects on other components. This loose coupling simplifies dependency management and reduces the risk of unintended side effects."
   ]
  },
  {
   "cell_type": "markdown",
   "metadata": {},
   "source": [
    "<h3> <span style=\"color: limegreen;\">16. Create a Python class for a computer game character, using composition to represent attributes like weapons, armor, and inventory.</span>\n"
   ]
  },
  {
   "cell_type": "code",
   "execution_count": null,
   "metadata": {},
   "outputs": [
    {
     "name": "stdout",
     "output_type": "stream",
     "text": [
      "Hero (Health: 100) equipped with:\n",
      "  - Weapon: Sword (Damage: 10)\n",
      "  - Armor: Shield (Defense: 5)\n",
      "\n",
      "After battle:\n",
      "Hero (Health: 90) equipped with:\n",
      "  - Weapon: Sword (Damage: 10)\n",
      "  - Armor: Shield (Defense: 5)\n",
      "Inventory:\n",
      "  - Health Potion\n",
      "  - Mana Potion\n"
     ]
    }
   ],
   "source": [
    "class Weapon:\n",
    "    def __init__(self, name, damage):\n",
    "        self.name = name\n",
    "        self.damage = damage\n",
    "\n",
    "    def __str__(self):\n",
    "        return f\"Weapon: {self.name} (Damage: {self.damage})\"\n",
    "\n",
    "class Armor:\n",
    "    def __init__(self, name, defense):\n",
    "        self.name = name\n",
    "        self.defense = defense\n",
    "\n",
    "    def __str__(self):\n",
    "        return f\"Armor: {self.name} (Defense: {self.defense})\"\n",
    "\n",
    "class Inventory:\n",
    "    def __init__(self):\n",
    "        self.items = []\n",
    "\n",
    "    def add_item(self, item):\n",
    "        self.items.append(item)\n",
    "\n",
    "    def remove_item(self, item):\n",
    "        self.items.remove(item)\n",
    "\n",
    "    def display_inventory(self):\n",
    "        print(\"Inventory:\")\n",
    "        for item in self.items:\n",
    "            print(f\"  - {item}\")\n",
    "\n",
    "class GameCharacter:\n",
    "    def __init__(self, name, health, weapon=None, armor=None):\n",
    "        self.name = name\n",
    "        self.health = health\n",
    "        self.weapon = weapon\n",
    "        self.armor = armor\n",
    "        self.inventory = Inventory()\n",
    "\n",
    "    def equip_weapon(self, weapon):\n",
    "        self.weapon = weapon\n",
    "\n",
    "    def equip_armor(self, armor):\n",
    "        self.armor = armor\n",
    "\n",
    "    def take_damage(self, damage):\n",
    "        if self.armor:\n",
    "            damage -= self.armor.defense\n",
    "            damage = max(0, damage)  # Ensure damage is non-negative\n",
    "        self.health -= damage\n",
    "\n",
    "    def __str__(self):\n",
    "        return f\"{self.name} (Health: {self.health}) equipped with:\\n\" \\\n",
    "               f\"  - {self.weapon}\\n\" \\\n",
    "               f\"  - {self.armor if self.armor else 'No Armor'}\"\n",
    "\n",
    "# Example usage:\n",
    "sword = Weapon(name=\"Sword\", damage=10)\n",
    "shield = Armor(name=\"Shield\", defense=5)\n",
    "\n",
    "character = GameCharacter(name=\"Hero\", health=100, weapon=sword, armor=shield)\n",
    "\n",
    "character.inventory.add_item(\"Health Potion\")\n",
    "character.inventory.add_item(\"Mana Potion\")\n",
    "\n",
    "print(character)\n",
    "\n",
    "# Simulate a battle\n",
    "enemy_damage = 15\n",
    "character.take_damage(enemy_damage)\n",
    "\n",
    "print(\"\\nAfter battle:\")\n",
    "print(character)\n",
    "character.inventory.display_inventory()\n"
   ]
  },
  {
   "cell_type": "markdown",
   "metadata": {},
   "source": [
    "<h3> <span style=\"color: limegreen;\">17. Describe the concept of \"aggregation\" in composition and how it differs from simple composition.</span>\n"
   ]
  },
  {
   "cell_type": "markdown",
   "metadata": {},
   "source": [
    "In object-oriented programming, \"`aggregation`\" is a form of composition where one class contains references to other classes as part of its own state. Aggregation is a more specific type of composition that represents a \"whole-part\" relationship between objects. It is characterized by a weaker association between the containing class (the \"whole\") and the contained class (the \"part\"), and the contained class can exist independently of the containing class.\n",
    "\n",
    "\n",
    "\n"
   ]
  },
  {
   "cell_type": "code",
   "execution_count": null,
   "metadata": {},
   "outputs": [],
   "source": [
    "class Author:\n",
    "    def __init__(self, name):\n",
    "        self.name = name\n",
    "\n",
    "class Book:\n",
    "    def __init__(self, title, author):\n",
    "        self.title = title\n",
    "        self.author = author\n",
    "\n",
    "class Library:\n",
    "    def __init__(self, name):\n",
    "        self.name = name\n",
    "        self.books = []\n",
    "\n",
    "    def add_book(self, book):\n",
    "        self.books.append(book)\n",
    "\n",
    "# Example usage:\n",
    "author1 = Author(\"John Doe\")\n",
    "book1 = Book(\"Python Programming\", author1)\n",
    "\n",
    "author2 = Author(\"Jane Smith\")\n",
    "book2 = Book(\"Data Science Essentials\", author2)\n",
    "\n",
    "library = Library(\"Public Library\")\n",
    "library.add_book(book1)\n",
    "library.add_book(book2)\n"
   ]
  },
  {
   "cell_type": "markdown",
   "metadata": {},
   "source": [
    "<h3> <span style=\"color: limegreen;\">18. Create a Python class for a house, using composition to represent rooms, furniture, and appliances.</span>\n"
   ]
  },
  {
   "cell_type": "code",
   "execution_count": null,
   "metadata": {},
   "outputs": [
    {
     "name": "stdout",
     "output_type": "stream",
     "text": [
      "My House:\n",
      "Living Room:\n",
      "  Furniture:\n",
      "    - Furniture: Sofa\n",
      "    - Furniture: Coffee Table\n",
      "  Appliances:\n",
      "    - Appliance: TV\n",
      "Kitchen Room:\n",
      "  Furniture:\n",
      "    - Furniture: Dining Table\n",
      "    - Furniture: Chairs\n",
      "  Appliances:\n",
      "    - Appliance: Oven\n",
      "    - Appliance: Refrigerator\n",
      "Bedroom Room:\n",
      "  Furniture:\n",
      "    - Furniture: Bed\n",
      "    - Furniture: Wardrobe\n",
      "  Appliances:\n",
      "    - Appliance: Lamp\n",
      "\n"
     ]
    }
   ],
   "source": [
    "class Furniture:\n",
    "    def __init__(self, name):\n",
    "        self.name = name\n",
    "\n",
    "    def __str__(self):\n",
    "        return f\"Furniture: {self.name}\"\n",
    "\n",
    "class Appliance:\n",
    "    def __init__(self, name):\n",
    "        self.name = name\n",
    "\n",
    "    def __str__(self):\n",
    "        return f\"Appliance: {self.name}\"\n",
    "\n",
    "class Room:\n",
    "    def __init__(self, name, furniture=None, appliances=None):\n",
    "        self.name = name\n",
    "        self.furniture = furniture or []\n",
    "        self.appliances = appliances or []\n",
    "\n",
    "    def add_furniture(self, furniture):\n",
    "        self.furniture.append(furniture)\n",
    "\n",
    "    def add_appliance(self, appliance):\n",
    "        self.appliances.append(appliance)\n",
    "\n",
    "    def __str__(self):\n",
    "        room_str = f\"{self.name} Room:\\n\"\n",
    "        room_str += \"  Furniture:\\n\"\n",
    "        for item in self.furniture:\n",
    "            room_str += f\"    - {item}\\n\"\n",
    "        room_str += \"  Appliances:\\n\"\n",
    "        for item in self.appliances:\n",
    "            room_str += f\"    - {item}\\n\"\n",
    "        return room_str\n",
    "\n",
    "class House:\n",
    "    def __init__(self, name, rooms=None):\n",
    "        self.name = name\n",
    "        self.rooms = rooms or []\n",
    "\n",
    "    def add_room(self, room):\n",
    "        self.rooms.append(room)\n",
    "\n",
    "    def __str__(self):\n",
    "        house_str = f\"{self.name} House:\\n\"\n",
    "        for room in self.rooms:\n",
    "            house_str += str(room)\n",
    "        return house_str\n",
    "\n",
    "# Example usage:\n",
    "living_room = Room(name=\"Living\", furniture=[Furniture(\"Sofa\"), Furniture(\"Coffee Table\")], appliances=[Appliance(\"TV\")])\n",
    "kitchen = Room(name=\"Kitchen\", furniture=[Furniture(\"Dining Table\"), Furniture(\"Chairs\")], appliances=[Appliance(\"Oven\"), Appliance(\"Refrigerator\")])\n",
    "bedroom = Room(name=\"Bedroom\", furniture=[Furniture(\"Bed\"), Furniture(\"Wardrobe\")], appliances=[Appliance(\"Lamp\")])\n",
    "\n",
    "my_house = House(name=\"My\", rooms=[living_room, kitchen, bedroom])\n",
    "\n",
    "print(my_house)\n"
   ]
  },
  {
   "cell_type": "markdown",
   "metadata": {},
   "source": [
    "<h3> <span style=\"color: limegreen;\">18. Create a Python class for a house, using composition to represent rooms, furniture, and appliances.</span>\n"
   ]
  },
  {
   "cell_type": "code",
   "execution_count": null,
   "metadata": {},
   "outputs": [
    {
     "name": "stdout",
     "output_type": "stream",
     "text": [
      "My House:\n",
      "Living Room:\n",
      "  Furniture:\n",
      "    - Furniture: Sofa\n",
      "    - Furniture: Coffee Table\n",
      "  Appliances:\n",
      "    - Appliance: TV\n",
      "Kitchen Room:\n",
      "  Furniture:\n",
      "    - Furniture: Dining Table\n",
      "    - Furniture: Chairs\n",
      "  Appliances:\n",
      "    - Appliance: Oven\n",
      "    - Appliance: Refrigerator\n",
      "Bedroom Room:\n",
      "  Furniture:\n",
      "    - Furniture: Bed\n",
      "    - Furniture: Wardrobe\n",
      "  Appliances:\n",
      "    - Appliance: Lamp\n",
      "\n"
     ]
    }
   ],
   "source": [
    "class Furniture:\n",
    "    def __init__(self, name):\n",
    "        self.name = name\n",
    "\n",
    "    def __str__(self):\n",
    "        return f\"Furniture: {self.name}\"\n",
    "\n",
    "class Appliance:\n",
    "    def __init__(self, name):\n",
    "        self.name = name\n",
    "\n",
    "    def __str__(self):\n",
    "        return f\"Appliance: {self.name}\"\n",
    "\n",
    "class Room:\n",
    "    def __init__(self, name):\n",
    "        self.name = name\n",
    "        self.furniture = []\n",
    "        self.appliances = []\n",
    "\n",
    "    def add_furniture(self, furniture):\n",
    "        self.furniture.append(furniture)\n",
    "\n",
    "    def add_appliance(self, appliance):\n",
    "        self.appliances.append(appliance)\n",
    "\n",
    "    def __str__(self):\n",
    "        room_str = f\"{self.name} Room:\\n\"\n",
    "        room_str += \"  Furniture:\\n\"\n",
    "        for item in self.furniture:\n",
    "            room_str += f\"    - {item}\\n\"\n",
    "        room_str += \"  Appliances:\\n\"\n",
    "        for item in self.appliances:\n",
    "            room_str += f\"    - {item}\\n\"\n",
    "        return room_str\n",
    "\n",
    "class House:\n",
    "    def __init__(self, name):\n",
    "        self.name = name\n",
    "        self.rooms = []\n",
    "\n",
    "    def add_room(self, room):\n",
    "        self.rooms.append(room)\n",
    "\n",
    "    def __str__(self):\n",
    "        house_str = f\"{self.name} House:\\n\"\n",
    "        for room in self.rooms:\n",
    "            house_str += str(room)\n",
    "        return house_str\n",
    "\n",
    "# Example usage:\n",
    "living_room = Room(name=\"Living\")\n",
    "living_room.add_furniture(Furniture(\"Sofa\"))\n",
    "living_room.add_furniture(Furniture(\"Coffee Table\"))\n",
    "living_room.add_appliance(Appliance(\"TV\"))\n",
    "\n",
    "kitchen = Room(name=\"Kitchen\")\n",
    "kitchen.add_furniture(Furniture(\"Dining Table\"))\n",
    "kitchen.add_furniture(Furniture(\"Chairs\"))\n",
    "kitchen.add_appliance(Appliance(\"Oven\"))\n",
    "kitchen.add_appliance(Appliance(\"Refrigerator\"))\n",
    "\n",
    "bedroom = Room(name=\"Bedroom\")\n",
    "bedroom.add_furniture(Furniture(\"Bed\"))\n",
    "bedroom.add_furniture(Furniture(\"Wardrobe\"))\n",
    "bedroom.add_appliance(Appliance(\"Lamp\"))\n",
    "\n",
    "my_house = House(name=\"My\")\n",
    "my_house.add_room(living_room)\n",
    "my_house.add_room(kitchen)\n",
    "my_house.add_room(bedroom)\n",
    "\n",
    "print(my_house)\n"
   ]
  },
  {
   "cell_type": "markdown",
   "metadata": {},
   "source": [
    "<h3> <span style=\"color: limegreen;\">18. Create a Python class for a house, using composition to represent rooms, furniture, and appliances.</span>\n"
   ]
  },
  {
   "cell_type": "code",
   "execution_count": null,
   "metadata": {},
   "outputs": [
    {
     "name": "stdout",
     "output_type": "stream",
     "text": [
      "My House:\n",
      "Living Room:\n",
      "  Furniture:\n",
      "    - Furniture: Sofa\n",
      "    - Furniture: Coffee Table\n",
      "  Appliances:\n",
      "    - Appliance: TV\n",
      "Kitchen Room:\n",
      "  Furniture:\n",
      "    - Furniture: Dining Table\n",
      "    - Furniture: Chairs\n",
      "  Appliances:\n",
      "    - Appliance: Oven\n",
      "    - Appliance: Refrigerator\n",
      "Bedroom Room:\n",
      "  Furniture:\n",
      "    - Furniture: Bed\n",
      "    - Furniture: Wardrobe\n",
      "  Appliances:\n",
      "    - Appliance: Lamp\n",
      "\n"
     ]
    }
   ],
   "source": [
    "class Furniture:\n",
    "    def __init__(self, name):\n",
    "        self.name = name\n",
    "\n",
    "    def __str__(self):\n",
    "        return f\"Furniture: {self.name}\"\n",
    "\n",
    "class Appliance:\n",
    "    def __init__(self, name):\n",
    "        self.name = name\n",
    "\n",
    "    def __str__(self):\n",
    "        return f\"Appliance: {self.name}\"\n",
    "\n",
    "class Room:\n",
    "    def __init__(self, name):\n",
    "        self.name = name\n",
    "        self.furniture = []\n",
    "        self.appliances = []\n",
    "\n",
    "    def add_furniture(self, furniture):\n",
    "        self.furniture.append(furniture)\n",
    "\n",
    "    def add_appliance(self, appliance):\n",
    "        self.appliances.append(appliance)\n",
    "\n",
    "    def __str__(self):\n",
    "        room_str = f\"{self.name} Room:\\n\"\n",
    "        room_str += \"  Furniture:\\n\"\n",
    "        for item in self.furniture:\n",
    "            room_str += f\"    - {item}\\n\"\n",
    "        room_str += \"  Appliances:\\n\"\n",
    "        for item in self.appliances:\n",
    "            room_str += f\"    - {item}\\n\"\n",
    "        return room_str\n",
    "\n",
    "class House:\n",
    "    def __init__(self, name):\n",
    "        self.name = name\n",
    "        self.rooms = []\n",
    "\n",
    "    def add_room(self, room):\n",
    "        self.rooms.append(room)\n",
    "\n",
    "    def __str__(self):\n",
    "        house_str = f\"{self.name} House:\\n\"\n",
    "        for room in self.rooms:\n",
    "            house_str += str(room)\n",
    "        return house_str\n",
    "\n",
    "# Example usage:\n",
    "living_room = Room(name=\"Living\")\n",
    "living_room.add_furniture(Furniture(name=\"Sofa\"))\n",
    "living_room.add_furniture(Furniture(name=\"Coffee Table\"))\n",
    "living_room.add_appliance(Appliance(name=\"TV\"))\n",
    "\n",
    "kitchen = Room(name=\"Kitchen\")\n",
    "kitchen.add_furniture(Furniture(name=\"Dining Table\"))\n",
    "kitchen.add_furniture(Furniture(name=\"Chairs\"))\n",
    "kitchen.add_appliance(Appliance(name=\"Oven\"))\n",
    "kitchen.add_appliance(Appliance(name=\"Refrigerator\"))\n",
    "\n",
    "bedroom = Room(name=\"Bedroom\")\n",
    "bedroom.add_furniture(Furniture(name=\"Bed\"))\n",
    "bedroom.add_furniture(Furniture(name=\"Wardrobe\"))\n",
    "bedroom.add_appliance(Appliance(name=\"Lamp\"))\n",
    "\n",
    "my_house = House(name=\"My\")\n",
    "my_house.add_room(living_room)\n",
    "my_house.add_room(kitchen)\n",
    "my_house.add_room(bedroom)\n",
    "\n",
    "print(my_house)\n"
   ]
  },
  {
   "cell_type": "markdown",
   "metadata": {},
   "source": [
    "<h3> <span style=\"color: limegreen;\">19. How can you achieve flexibility in composed objects by allowing them to be replaced or modified dynamically at runtime?</span>"
   ]
  },
  {
   "cell_type": "code",
   "execution_count": null,
   "metadata": {},
   "outputs": [
    {
     "name": "stdout",
     "output_type": "stream",
     "text": [
      "Slashing with a sword\n",
      "Shooting with a bow\n"
     ]
    }
   ],
   "source": [
    "from abc import ABC, abstractmethod\n",
    "\n",
    "class Weapon(ABC):\n",
    "    @abstractmethod\n",
    "    def attack(self):\n",
    "        pass\n",
    "\n",
    "class Sword(Weapon):\n",
    "    def attack(self):\n",
    "        print(\"Slashing with a sword\")\n",
    "\n",
    "class Bow(Weapon):\n",
    "    def attack(self):\n",
    "        print(\"Shooting with a bow\")\n",
    "\n",
    "\n",
    "class Character:\n",
    "    def __init__(self, weapon):\n",
    "        self.weapon = weapon\n",
    "\n",
    "    def attack(self):\n",
    "        self.weapon.attack()\n",
    "\n",
    "# Example usage\n",
    "sword = Sword()\n",
    "bow = Bow()\n",
    "\n",
    "character1 = Character(weapon=sword)\n",
    "character1.attack()  # Outputs: Slashing with a sword\n",
    "\n",
    "character2 = Character(weapon=bow)\n",
    "character2.attack()  # Outputs: Shooting with a bow\n"
   ]
  },
  {
   "cell_type": "code",
   "execution_count": null,
   "metadata": {},
   "outputs": [],
   "source": [
    "class WeaponFactory:\n",
    "    def create_weapon(self, weapon_type):\n",
    "        if weapon_type == \"sword\":\n",
    "            return Sword()\n",
    "        elif weapon_type == \"bow\":\n",
    "            return Bow()\n",
    "        else:\n",
    "            raise ValueError(\"Invalid weapon type\")\n",
    "\n",
    "# Example usage\n",
    "weapon_factory = WeaponFactory()\n",
    "character = Character(weapon=weapon_factory.create_weapon(\"sword\"))\n"
   ]
  },
  {
   "cell_type": "code",
   "execution_count": null,
   "metadata": {},
   "outputs": [
    {
     "name": "stdout",
     "output_type": "stream",
     "text": [
      "Casting a spell\n",
      "Slashing with a sword\n"
     ]
    }
   ],
   "source": [
    "class Wizard:\n",
    "    def cast_spell(self):\n",
    "        print(\"Casting a spell\")\n",
    "\n",
    "class Warrior:\n",
    "    def use_weapon(self, weapon):\n",
    "        weapon.attack()\n",
    "\n",
    "# Example usage\n",
    "character = Wizard()\n",
    "character.cast_spell()\n",
    "\n",
    "character = Warrior()\n",
    "character.use_weapon(Sword())\n"
   ]
  },
  {
   "cell_type": "code",
   "execution_count": null,
   "metadata": {},
   "outputs": [
    {
     "name": "stdout",
     "output_type": "stream",
     "text": [
      "Enhanced spell casting\n",
      "Casting a spell\n"
     ]
    }
   ],
   "source": [
    "class MagicEnhancement:\n",
    "    def __init__(self, character):\n",
    "        self.character = character\n",
    "\n",
    "    def cast_spell(self):\n",
    "        print(\"Enhanced spell casting\")\n",
    "        self.character.cast_spell()\n",
    "\n",
    "wizard = Wizard()\n",
    "enhanced_wizard = MagicEnhancement(wizard)\n",
    "enhanced_wizard.cast_spell()\n"
   ]
  },
  {
   "cell_type": "markdown",
   "metadata": {},
   "source": [
    "<h3> <span style=\"color: limegreen;\">20. Create a Python class for a social media application, using composition to represent users, posts, and comments.</span>"
   ]
  },
  {
   "cell_type": "code",
   "execution_count": null,
   "metadata": {},
   "outputs": [
    {
     "name": "stdout",
     "output_type": "stream",
     "text": [
      "Timeline for User: Alice on MySocialApp:\n",
      "\n",
      "Alice posted:\n",
      "  Hello, everyone!\n",
      "  Comments:\n",
      "    Bob: Hi, Alice!\n",
      "\n",
      "\n",
      "Timeline for User: Bob on MySocialApp:\n",
      "\n",
      "Bob posted:\n",
      "  Good morning!\n",
      "  Comments:\n",
      "    Alice: Morning, Bob!\n",
      "\n",
      "\n"
     ]
    }
   ],
   "source": [
    "class Comment:\n",
    "    def __init__(self, user, content):\n",
    "        self.user = user\n",
    "        self.content = content\n",
    "\n",
    "    def __str__(self):\n",
    "        return f\"{self.user}: {self.content}\"\n",
    "\n",
    "class Post:\n",
    "    def __init__(self, user, content):\n",
    "        self.user = user\n",
    "        self.content = content\n",
    "        self.comments = []\n",
    "\n",
    "    def add_comment(self, user, content):\n",
    "        comment = Comment(user, content)\n",
    "        self.comments.append(comment)\n",
    "\n",
    "    def __str__(self):\n",
    "        post_str = f\"{self.user} posted:\\n\"\n",
    "        post_str += f\"  {self.content}\\n\"\n",
    "        post_str += \"  Comments:\\n\"\n",
    "        for comment in self.comments:\n",
    "            post_str += f\"    {comment}\\n\"\n",
    "        return post_str\n",
    "\n",
    "class User:\n",
    "    def __init__(self, username):\n",
    "        self.username = username\n",
    "        self.posts = []\n",
    "\n",
    "    def create_post(self, content):\n",
    "        post = Post(self.username, content)\n",
    "        self.posts.append(post)\n",
    "        return post\n",
    "\n",
    "    def __str__(self):\n",
    "        return f\"User: {self.username}\"\n",
    "\n",
    "class SocialMediaApp:\n",
    "    def __init__(self, name):\n",
    "        self.name = name\n",
    "        self.users = []\n",
    "\n",
    "    def add_user(self, username):\n",
    "        user = User(username)\n",
    "        self.users.append(user)\n",
    "        return user\n",
    "\n",
    "    def display_timeline(self, user):\n",
    "        print(f\"Timeline for {user} on {self.name}:\\n\")\n",
    "        for post in user.posts:\n",
    "            print(post)\n",
    "            print()\n",
    "\n",
    "# Example usage:\n",
    "social_media_app = SocialMediaApp(name=\"MySocialApp\")\n",
    "\n",
    "user1 = social_media_app.add_user(username=\"Alice\")\n",
    "user2 = social_media_app.add_user(username=\"Bob\")\n",
    "\n",
    "post1 = user1.create_post(content=\"Hello, everyone!\")\n",
    "post2 = user2.create_post(content=\"Good morning!\")\n",
    "\n",
    "post1.add_comment(user=user2.username, content=\"Hi, Alice!\")\n",
    "post2.add_comment(user=user1.username, content=\"Morning, Bob!\")\n",
    "\n",
    "social_media_app.display_timeline(user=user1)\n",
    "social_media_app.display_timeline(user=user2)\n"
   ]
  },
  {
   "cell_type": "markdown",
   "metadata": {},
   "source": [
    "<h3> <span style=\"color: limegreen;\">Abstraction:</span>"
   ]
  },
  {
   "cell_type": "markdown",
   "metadata": {},
   "source": [
    "<h3> <span style=\"color: limegreen;\">1. What is abstraction in Python, and how does it relate to object-oriented programming?</span>"
   ]
  },
  {
   "cell_type": "markdown",
   "metadata": {},
   "source": [
    "- Abstraction is a fundamental concept in object-oriented programming (OOP) and refers to the process of simplifying complex systems by modeling classes based on the essential properties and behaviors they share. It involves hiding the implementation details of an object and exposing only the relevant features in a way that makes it easier to understand and work with.\n",
    "\n",
    "\n",
    "- Classes and Objects:\n",
    "\n",
    "- - Abstraction in Python involves creating classes to encapsulate data and behaviors, allowing for a simplified and organized representation of complex systems.\n",
    "- Encapsulation:\n",
    "\n",
    "- - Encapsulation bundles data and methods into a single unit (class), controlling access to internal details and exposing only necessary features.\n",
    "- Abstract Classes:\n",
    "\n",
    "- - Abstract classes in Python, created using the ABC module, define a common interface for related classes, ensuring the implementation of specific methods in subclasses.\n",
    "- Interfaces:\n",
    "\n",
    "- - Python achieves interfaces through abstract classes and the ABC module, providing a contract for classes to adhere to by implementing required methods.\n",
    "- Polymorphism:\n",
    "\n",
    "- - Polymorphism in Python allows objects of different classes to be treated as objects of a common base class, promoting flexibility and code consistency."
   ]
  },
  {
   "cell_type": "markdown",
   "metadata": {},
   "source": [
    "<h3> <span style=\"color: limegreen;\">2. Describe the benefits of abstraction in terms of code organization and complexity reduction.</span>"
   ]
  },
  {
   "cell_type": "markdown",
   "metadata": {},
   "source": [
    "- Simplified Interface:\n",
    "\n",
    "- - Abstraction provides a simplified and consistent interface for interacting with complex systems. Users can focus on high-level functionalities without being overwhelmed by implementation details.\n",
    "- Code Readability:\n",
    "\n",
    "- - By encapsulating details within classes and exposing only essential features, abstraction enhances code readability. Developers can easily understand and work with abstracted components without delving into unnecessary complexities.\n",
    "- Modularity:\n",
    "\n",
    "- - Abstraction promotes modularity by organizing code into separate, self-contained units (classes). Each class encapsulates a specific set of functionalities, making it easier to manage, maintain, and extend the codebase.\n",
    "- Ease of Maintenance:\n",
    "\n",
    "- - Abstracting away implementation details reduces dependencies between different parts of the code. This separation of concerns makes it easier to modify or update one part of the system without affecting others, improving the overall maintainability of the code.\n",
    "- Reusability:\n",
    "\n",
    "- - Abstraction facilitates code reuse through the creation of classes and interfaces. Once a well-abstracted component is designed, it can be reused in different parts of the program or even in other projects, saving development time and effort.\n",
    "- Scalability:\n",
    "\n",
    "- - As the complexity of a system grows, abstraction allows for scalable development. New features or functionalities can be added by extending or implementing new classes without disrupting the existing codebase.\n",
    "- Encapsulation of Complexity:\n",
    "\n",
    "- - Abstraction encapsulates the complexity of the underlying system, providing a high-level view of components. This reduces cognitive load on developers, allowing them to focus on specific tasks without getting bogged down by irrelevant details.\n",
    "- Improved Collaboration:\n",
    "\n",
    "- - Abstracted code with well-defined interfaces promotes collaboration among team members. Different developers can work on distinct components without interfering with each other, as long as they adhere to the specified interfaces.\n",
    "- Adaptability to Change:\n",
    "\n",
    "- - Abstraction makes the codebase more adaptable to changes in requirements or technology. Modifications can be made within the boundaries of classes and interfaces, ensuring that the rest of the system remains unaffected.\n",
    "- Debugging and Testing:\n",
    "\n",
    "- -Abstraction simplifies debugging and testing processes. With well-defined interfaces, it becomes easier to isolate and test individual components, leading to more effective bug detection and maintenance of code quality."
   ]
  },
  {
   "cell_type": "markdown",
   "metadata": {},
   "source": [
    "<h3> <span style=\"color: limegreen;\">3. Create a Python class called `Shape` with an abstract method `calculate_area()`. Then, create child classes (e.g., `Circle`, `Rectangle`) that implement the `calculate_area()` method. Provide an example of using these classes.</span>"
   ]
  },
  {
   "cell_type": "code",
   "execution_count": null,
   "metadata": {},
   "outputs": [
    {
     "name": "stdout",
     "output_type": "stream",
     "text": [
      "Area of the Circle: 78.53981633974483\n",
      "Area of the Rectangle: 24\n"
     ]
    }
   ],
   "source": [
    "from abc import ABC, abstractmethod\n",
    "from math import pi\n",
    "\n",
    "class Shape(ABC):\n",
    "    @abstractmethod\n",
    "    def calculate_area(self):\n",
    "        pass\n",
    "\n",
    "class Circle(Shape):\n",
    "    def __init__(self, radius):\n",
    "        self.radius = radius\n",
    "\n",
    "    def calculate_area(self):\n",
    "        return pi * self.radius**2\n",
    "\n",
    "class Rectangle(Shape):\n",
    "    def __init__(self, length, width):\n",
    "        self.length = length\n",
    "        self.width = width\n",
    "\n",
    "    def calculate_area(self):\n",
    "        return self.length * self.width\n",
    "\n",
    "# Example usage\n",
    "circle = Circle(radius=5)\n",
    "rectangle = Rectangle(length=4, width=6)\n",
    "\n",
    "print(\"Area of the Circle:\", circle.calculate_area())\n",
    "print(\"Area of the Rectangle:\", rectangle.calculate_area())\n"
   ]
  },
  {
   "cell_type": "markdown",
   "metadata": {},
   "source": [
    "<h3> <span style=\"color: limegreen;\">4. Explain the concept of abstract classes in Python and how they are defined using the `abc` module. Provide an example.</span>"
   ]
  },
  {
   "cell_type": "markdown",
   "metadata": {},
   "source": [
    "- Abstract classes in Python are classes that cannot be instantiated on their own and are meant to be subclassed by concrete classes. They often contain abstract methods, which are methods without a defined implementation in the abstract class itself. Subclasses are required to provide implementations for these abstract methods. The abc module in Python provides the ABC (Abstract Base Class) mechanism for creating abstract classes."
   ]
  },
  {
   "cell_type": "code",
   "execution_count": null,
   "metadata": {},
   "outputs": [
    {
     "name": "stdout",
     "output_type": "stream",
     "text": [
      "Area of the Circle: 78.5\n",
      "Area of the Rectangle: 24\n"
     ]
    }
   ],
   "source": [
    "from abc import ABC, abstractmethod\n",
    "\n",
    "class Shape(ABC):\n",
    "    @abstractmethod\n",
    "    def calculate_area(self):\n",
    "        pass\n",
    "\n",
    "class Circle(Shape):\n",
    "    def __init__(self, radius):\n",
    "        self.radius = radius\n",
    "\n",
    "    def calculate_area(self):\n",
    "        return 3.14 * self.radius**2\n",
    "\n",
    "class Rectangle(Shape):\n",
    "    def __init__(self, length, width):\n",
    "        self.length = length\n",
    "        self.width = width\n",
    "\n",
    "    def calculate_area(self):\n",
    "        return self.length * self.width\n",
    "\n",
    "# Attempting to create an instance of the abstract class will raise an error\n",
    "# shape = Shape()  # This line would result in a TypeError\n",
    "\n",
    "# Creating instances of concrete subclasses\n",
    "circle = Circle(radius=5)\n",
    "rectangle = Rectangle(length=4, width=6)\n",
    "\n",
    "# Calling the calculate_area method on instances of concrete subclasses\n",
    "print(\"Area of the Circle:\", circle.calculate_area())\n",
    "print(\"Area of the Rectangle:\", rectangle.calculate_area())\n"
   ]
  },
  {
   "cell_type": "markdown",
   "metadata": {},
   "source": [
    "<h3> <span style=\"color: limegreen;\">5. How do abstract classes differ from regular classes in Python? Discuss their use cases.</span>"
   ]
  },
  {
   "cell_type": "markdown",
   "metadata": {},
   "source": [
    "Abstract Classes:\n",
    "- Cannot Be Instantiated:\n",
    "\n",
    "- - Abstract classes cannot be instantiated on their own. They serve as blueprints for other classes and are meant to be subclassed.\n",
    "- May Contain Abstract Methods:\n",
    "\n",
    "- - Abstract classes often include abstract methods, which are methods without a defined implementation in the abstract class itself. Subclasses must provide concrete implementations for these abstract methods.\n",
    "- Defined Using the abc Module:\n",
    "\n",
    "- - Abstract classes are typically defined using the abc module in Python, specifically by inheriting from the ABC (Abstract Base Class) and using the @abstractmethod decorator to mark abstract methods.\n",
    "- Provide a Common Interface:\n",
    "\n",
    "- - Abstract classes are used to define a common interface for a group of related classes. They enforce a contract that concrete subclasses must adhere to, ensuring a consistent structure and behavior.\n",
    "- Encourage Polymorphism:\n",
    "\n",
    "- - Abstract classes facilitate polymorphism, allowing objects of different concrete subclasses to be treated as objects of the abstract base class. This promotes flexibility and code consistency.\n",
    "- Useful for Frameworks and APIs:\n",
    "\n",
    "- - Abstract classes are often employed in frameworks and APIs where a generic structure needs to be defined, but the specific implementations are left to the subclasses. This allows for extensibility and customization."
   ]
  },
  {
   "cell_type": "markdown",
   "metadata": {},
   "source": [
    "<h3> <span style=\"color: limegreen;\">6. Create a Python class for a bank account and demonstrate abstraction by hiding the account balance and providing methods to deposit and withdraw funds.</span>"
   ]
  },
  {
   "cell_type": "code",
   "execution_count": null,
   "metadata": {},
   "outputs": [
    {
     "name": "stdout",
     "output_type": "stream",
     "text": [
      "Account holder: John Doe\n",
      "Initial balance: $1000\n",
      "Deposit of $500 successful. New balance: $1500\n",
      "Withdrawal of $200 successful. New balance: $1300\n",
      "Withdrawal of $900 successful. New balance: $400\n",
      "Invalid deposit amount. Please deposit a positive amount.\n",
      "Final balance: $400\n"
     ]
    }
   ],
   "source": [
    "class BankAccount:\n",
    "    def __init__(self, account_holder, initial_balance=0):\n",
    "        self._account_holder = account_holder\n",
    "        self._balance = initial_balance\n",
    "\n",
    "    def deposit(self, amount):\n",
    "        \"\"\"Deposit funds into the account.\"\"\"\n",
    "        if amount > 0:\n",
    "            self._balance += amount\n",
    "            print(f\"Deposit of ${amount} successful. New balance: ${self._balance}\")\n",
    "        else:\n",
    "            print(\"Invalid deposit amount. Please deposit a positive amount.\")\n",
    "\n",
    "    def withdraw(self, amount):\n",
    "        \"\"\"Withdraw funds from the account.\"\"\"\n",
    "        if 0 < amount <= self._balance:\n",
    "            self._balance -= amount\n",
    "            print(f\"Withdrawal of ${amount} successful. New balance: ${self._balance}\")\n",
    "        elif amount > self._balance:\n",
    "            print(\"Insufficient funds. Withdrawal unsuccessful.\")\n",
    "        else:\n",
    "            print(\"Invalid withdrawal amount. Please withdraw a positive amount.\")\n",
    "\n",
    "    def get_balance(self):\n",
    "        \"\"\"Get the current balance of the account (hidden from external access).\"\"\"\n",
    "        return self._balance\n",
    "\n",
    "    def get_account_holder(self):\n",
    "        \"\"\"Get the account holder's name.\"\"\"\n",
    "        return self._account_holder\n",
    "\n",
    "# Example usage\n",
    "account = BankAccount(account_holder=\"John Doe\", initial_balance=1000)\n",
    "\n",
    "print(f\"Account holder: {account.get_account_holder()}\")\n",
    "print(f\"Initial balance: ${account.get_balance()}\")\n",
    "\n",
    "account.deposit(500)\n",
    "account.withdraw(200)\n",
    "account.withdraw(900)  # Attempting to withdraw more than the balance\n",
    "account.deposit(-100)  # Attempting to deposit a negative amount\n",
    "\n",
    "print(f\"Final balance: ${account.get_balance()}\")\n"
   ]
  },
  {
   "cell_type": "markdown",
   "metadata": {},
   "source": [
    "<h3> <span style=\"color: limegreen;\">7. Discuss the concept of interface classes in Python and their role in achieving abstraction.</span>"
   ]
  },
  {
   "cell_type": "code",
   "execution_count": null,
   "metadata": {},
   "outputs": [
    {
     "name": "stdout",
     "output_type": "stream",
     "text": [
      "Drawing a circle\n",
      "Drawing a rectangle\n"
     ]
    }
   ],
   "source": [
    "from abc import ABC, abstractmethod\n",
    "\n",
    "class Drawable(ABC):\n",
    "    @abstractmethod\n",
    "    def draw(self):\n",
    "        pass\n",
    "\n",
    "class Circle(Drawable):\n",
    "    def draw(self):\n",
    "        print(\"Drawing a circle\")\n",
    "\n",
    "class Rectangle(Drawable):\n",
    "    def draw(self):\n",
    "        print(\"Drawing a rectangle\")\n",
    "\n",
    "# Example usage\n",
    "circle = Circle()\n",
    "rectangle = Rectangle()\n",
    "\n",
    "shapes = [circle, rectangle]\n",
    "\n",
    "for shape in shapes:\n",
    "    shape.draw()\n"
   ]
  },
  {
   "cell_type": "markdown",
   "metadata": {},
   "source": [
    "<h3> <span style=\"color: limegreen;\">8. Create a Python class hierarchy for animals and implement abstraction by defining common methods (e.g., `eat()`, `sleep()`) in an abstract base class.</span>"
   ]
  },
  {
   "cell_type": "code",
   "execution_count": null,
   "metadata": {},
   "outputs": [
    {
     "name": "stdout",
     "output_type": "stream",
     "text": [
      "\n",
      "Details of Buddy:\n",
      "Woof! Woof!\n",
      "Buddy is walking on four legs.\n",
      "Buddy is eating.\n",
      "Buddy is sleeping.\n",
      "\n",
      "Details of Whiskers:\n",
      "Meow!\n",
      "Whiskers is prowling quietly.\n",
      "Whiskers is eating.\n",
      "Whiskers is sleeping.\n",
      "\n",
      "Details of Thunder:\n",
      "Screech!\n",
      "Thunder is soaring through the sky.\n",
      "Thunder is eating.\n",
      "Thunder is sleeping.\n"
     ]
    }
   ],
   "source": [
    "from abc import ABC, abstractmethod\n",
    "\n",
    "class Animal(ABC):\n",
    "    def __init__(self, name, age):\n",
    "        self.name = name\n",
    "        self.age = age\n",
    "\n",
    "    @abstractmethod\n",
    "    def make_sound(self):\n",
    "        pass\n",
    "\n",
    "    @abstractmethod\n",
    "    def move(self):\n",
    "        pass\n",
    "\n",
    "    def eat(self):\n",
    "        print(f\"{self.name} is eating.\")\n",
    "\n",
    "    def sleep(self):\n",
    "        print(f\"{self.name} is sleeping.\")\n",
    "\n",
    "class Mammal(Animal):\n",
    "    def give_birth(self):\n",
    "        print(f\"{self.name} is giving birth to live young.\")\n",
    "\n",
    "class Bird(Animal):\n",
    "    def lay_eggs(self):\n",
    "        print(f\"{self.name} is laying eggs.\")\n",
    "\n",
    "class Dog(Mammal):\n",
    "    def make_sound(self):\n",
    "        print(\"Woof! Woof!\")\n",
    "\n",
    "    def move(self):\n",
    "        print(f\"{self.name} is walking on four legs.\")\n",
    "\n",
    "class Cat(Mammal):\n",
    "    def make_sound(self):\n",
    "        print(\"Meow!\")\n",
    "\n",
    "    def move(self):\n",
    "        print(f\"{self.name} is prowling quietly.\")\n",
    "\n",
    "class Eagle(Bird):\n",
    "    def make_sound(self):\n",
    "        print(\"Screech!\")\n",
    "\n",
    "    def move(self):\n",
    "        print(f\"{self.name} is soaring through the sky.\")\n",
    "\n",
    "# Example usage\n",
    "dog = Dog(name=\"Buddy\", age=3)\n",
    "cat = Cat(name=\"Whiskers\", age=2)\n",
    "eagle = Eagle(name=\"Thunder\", age=5)\n",
    "\n",
    "animals = [dog, cat, eagle]\n",
    "\n",
    "for animal in animals:\n",
    "    print(f\"\\nDetails of {animal.name}:\")\n",
    "    animal.make_sound()\n",
    "    animal.move()\n",
    "    animal.eat()\n",
    "    animal.sleep()\n",
    "\n",
    "# Output will show the details of each animal including sound, movement, eating, and sleeping.\n"
   ]
  },
  {
   "cell_type": "markdown",
   "metadata": {},
   "source": [
    "<h3> <span style=\"color: limegreen;\">9. Explain the significance of encapsulation in achieving abstraction. Provide examples.</span>\n"
   ]
  },
  {
   "cell_type": "markdown",
   "metadata": {},
   "source": [
    "- Definition:\n",
    "\n",
    "- - Encapsulation is one of the four fundamental Object-Oriented Programming (OOP) concepts and involves bundling data (attributes) and the methods (functions) that operate on the data into a single unit, i.e., a class. It restricts direct access to some of an object's components, emphasizing the idea of hiding the internal implementation details.\n",
    "- Achieving Abstraction:\n",
    "\n",
    "- - Encapsulation is closely tied to the concept of abstraction. By encapsulating the internal details of an object, you hide the complexity from the outside world, providing a simplified and well-defined interface. This allows users to interact with the object at a higher level, focusing on what an object does rather than how it achieves it.\n",
    "- Preventing Direct Access:\n",
    "\n",
    "- - Encapsulation prevents direct access to an object's internal state (attributes) from outside the class. This restriction helps maintain the integrity of the object's data and ensures that modifications occur through controlled methods, promoting a more reliable and predictable behavior.\n",
    "- Data Hiding:\n",
    "\n",
    "- - Encapsulation facilitates data hiding, as the internal state of an object is not directly exposed. Private or protected attributes can be used to control access, and accessors (getter methods) and mutators (setter methods) can be employed to provide controlled access and modification.\n",
    "- Enhancing Security:\n",
    "\n",
    "- - By hiding the implementation details and controlling access to the internal state, encapsulation enhances the security of an object. Users are less likely to unintentionally modify the internal state in an undesirable way, reducing the risk of unintended side effects.\n",
    "- Improving Maintainability:\n",
    "\n",
    "- - Encapsulation contributes to code maintainability by localizing the implementation details within the class. If changes are required in the future, they can be made within the class without affecting the external code that interacts with the object. This reduces the likelihood of breaking existing code."
   ]
  },
  {
   "cell_type": "code",
   "execution_count": null,
   "metadata": {},
   "outputs": [
    {
     "name": "stdout",
     "output_type": "stream",
     "text": [
      "Make: Toyota\n",
      "Model: Camry\n",
      "Updated Make: Honda\n",
      "Updated Model: Accord\n"
     ]
    }
   ],
   "source": [
    "class Car:\n",
    "    def __init__(self, make, model):\n",
    "        self._make = make  # Protected attribute\n",
    "        self.__model = model  # Private attribute\n",
    "\n",
    "    def get_make(self):\n",
    "        return self._make\n",
    "\n",
    "    def set_make(self, make):\n",
    "        self._make = make\n",
    "\n",
    "    def get_model(self):\n",
    "        return self.__model\n",
    "\n",
    "    def set_model(self, model):\n",
    "        self.__model = model\n",
    "\n",
    "# Example usage\n",
    "car = Car(make=\"Toyota\", model=\"Camry\")\n",
    "\n",
    "print(\"Make:\", car.get_make())  # Accessing through getter method\n",
    "print(\"Model:\", car.get_model())  # Accessing through getter method\n",
    "\n",
    "car.set_make(\"Honda\")  # Modifying through setter method\n",
    "car.set_model(\"Accord\")  # Modifying through setter method\n",
    "\n",
    "print(\"Updated Make:\", car.get_make())\n",
    "print(\"Updated Model:\", car.get_model())\n"
   ]
  },
  {
   "cell_type": "code",
   "execution_count": null,
   "metadata": {},
   "outputs": [
    {
     "name": "stdout",
     "output_type": "stream",
     "text": [
      "Result: 12\n"
     ]
    }
   ],
   "source": [
    "class Calculator:\n",
    "    def __init__(self):\n",
    "        self._result = 0  # Protected attribute\n",
    "\n",
    "    def add(self, num):\n",
    "        self._result += num\n",
    "\n",
    "    def subtract(self, num):\n",
    "        self._result -= num\n",
    "\n",
    "    def get_result(self):\n",
    "        return self._result\n",
    "\n",
    "# Example usage\n",
    "calc = Calculator()\n",
    "\n",
    "calc.add(5)\n",
    "calc.subtract(3)\n",
    "calc.add(10)\n",
    "\n",
    "print(\"Result:\", calc.get_result())\n"
   ]
  },
  {
   "cell_type": "markdown",
   "metadata": {},
   "source": [
    "<h3> <span style=\"color: limegreen;\">10. What is the purpose of abstract methods, and how do they enforce abstraction in Python classes?</span>"
   ]
  },
  {
   "cell_type": "markdown",
   "metadata": {},
   "source": [
    "- Definition:\n",
    "\n",
    "- - Abstract methods in Python are methods declared in an abstract base class (ABC) that do not have an implementation in the base class itself. Instead, concrete subclasses are required to provide implementations for these methods. Abstract methods are declared using the @abstractmethod decorator.\n",
    "- Purpose:\n",
    "\n",
    "- - The primary purpose of abstract methods is to define a common interface or set of behaviors that concrete subclasses must adhere to. They serve as a contract, ensuring that every concrete subclass provides its own implementation for the specified methods.\n",
    "- Enforcing Abstraction:\n",
    "\n",
    "- - Abstract methods play a crucial role in enforcing abstraction in the following ways:\n",
    "\n",
    "- Defining a Blueprint:\n",
    "\n",
    "- - Abstract methods define a blueprint or a template for the expected behaviors of subclasses. They establish what methods must be present in any concrete implementation, setting a standard for how objects of different classes within the same hierarchy should behave.\n",
    "- Forcing Implementation:\n",
    "\n",
    "- - Concrete subclasses must provide concrete implementations for abstract methods. If a subclass fails to implement an abstract method, a TypeError will be raised, indicating that the subclass does not fully comply with the contract specified by the abstract base class.\n",
    "- Promoting Consistency:\n",
    "\n",
    "- - By requiring concrete subclasses to implement specific methods, abstract methods promote consistency across different classes. This ensures that related classes share a common set of behaviors, making it easier to work with objects in a uniform way.\n",
    "- Facilitating Polymorphism:\n",
    "\n",
    "- - Abstract methods, when implemented in different subclasses, facilitate polymorphism. Objects of different classes can be treated interchangeably if they adhere to the common interface defined by the abstract methods. This allows for flexibility and code reusability."
   ]
  },
  {
   "cell_type": "code",
   "execution_count": null,
   "metadata": {},
   "outputs": [
    {
     "name": "stdout",
     "output_type": "stream",
     "text": [
      "Area of the Circle: 78.5\n",
      "Area of the Rectangle: 24\n"
     ]
    }
   ],
   "source": [
    "from abc import ABC, abstractmethod\n",
    "\n",
    "class Shape(ABC):\n",
    "    @abstractmethod\n",
    "    def calculate_area(self):\n",
    "        pass\n",
    "\n",
    "class Circle(Shape):\n",
    "    def __init__(self, radius):\n",
    "        self.radius = radius\n",
    "\n",
    "    def calculate_area(self):\n",
    "        return 3.14 * self.radius**2\n",
    "\n",
    "class Rectangle(Shape):\n",
    "    def __init__(self, length, width):\n",
    "        self.length = length\n",
    "        self.width = width\n",
    "\n",
    "    def calculate_area(self):\n",
    "        return self.length * self.width\n",
    "\n",
    "# Example usage\n",
    "circle = Circle(radius=5)\n",
    "rectangle = Rectangle(length=4, width=6)\n",
    "\n",
    "print(\"Area of the Circle:\", circle.calculate_area())\n",
    "print(\"Area of the Rectangle:\", rectangle.calculate_area())\n"
   ]
  },
  {
   "cell_type": "markdown",
   "metadata": {},
   "source": [
    "<h3> <span style=\"color: limegreen;\">11. Create a Python class for a vehicle system and demonstrate abstraction by defining common methods (e.g., `start()`, `stop()`) in an abstract base class.</span>"
   ]
  },
  {
   "cell_type": "code",
   "execution_count": null,
   "metadata": {},
   "outputs": [
    {
     "name": "stdout",
     "output_type": "stream",
     "text": [
      "Toyota Camry engine started.\n",
      "Toyota Camry engine stopped.\n",
      "Toyota Camry engine started.\n",
      "Honda CBR600RR engine started.\n",
      "Honda CBR600RR engine stopped.\n",
      "Honda CBR600RR engine is already off.\n"
     ]
    }
   ],
   "source": [
    "from abc import ABC, abstractmethod\n",
    "\n",
    "class Vehicle(ABC):\n",
    "    def __init__(self, brand, model):\n",
    "        self.brand = brand\n",
    "        self.model = model\n",
    "        self.engine_status = False\n",
    "\n",
    "    @abstractmethod\n",
    "    def start(self):\n",
    "        pass\n",
    "\n",
    "    @abstractmethod\n",
    "    def stop(self):\n",
    "        pass\n",
    "\n",
    "    def get_info(self):\n",
    "        return f\"{self.brand} {self.model}\"\n",
    "\n",
    "class Car(Vehicle):\n",
    "    def start(self):\n",
    "        if not self.engine_status:\n",
    "            print(f\"{self.get_info()} engine started.\")\n",
    "            self.engine_status = True\n",
    "        else:\n",
    "            print(f\"{self.get_info()} engine is already running.\")\n",
    "\n",
    "    def stop(self):\n",
    "        if self.engine_status:\n",
    "            print(f\"{self.get_info()} engine stopped.\")\n",
    "            self.engine_status = False\n",
    "        else:\n",
    "            print(f\"{self.get_info()} engine is already off.\")\n",
    "\n",
    "class Motorcycle(Vehicle):\n",
    "    def start(self):\n",
    "        if not self.engine_status:\n",
    "            print(f\"{self.get_info()} engine started.\")\n",
    "            self.engine_status = True\n",
    "        else:\n",
    "            print(f\"{self.get_info()} engine is already running.\")\n",
    "\n",
    "    def stop(self):\n",
    "        if self.engine_status:\n",
    "            print(f\"{self.get_info()} engine stopped.\")\n",
    "            self.engine_status = False\n",
    "        else:\n",
    "            print(f\"{self.get_info()} engine is already off.\")\n",
    "\n",
    "# Example usage\n",
    "car = Car(brand=\"Toyota\", model=\"Camry\")\n",
    "motorcycle = Motorcycle(brand=\"Honda\", model=\"CBR600RR\")\n",
    "\n",
    "car.start()\n",
    "car.stop()\n",
    "car.start()\n",
    "\n",
    "motorcycle.start()\n",
    "motorcycle.stop()\n",
    "motorcycle.stop()\n"
   ]
  },
  {
   "cell_type": "markdown",
   "metadata": {},
   "source": [
    "<h3> <span style=\"color: limegreen;\">12. Describe the use of abstract properties in Python and how they can be employed in abstract classes.</span>\n"
   ]
  },
  {
   "cell_type": "markdown",
   "metadata": {},
   "source": [
    "- Overview:\n",
    "\n",
    "- - Abstract properties in Python are properties defined in an abstract base class (ABC) without providing an implementation. Subclasses are required to provide concrete implementations for these properties. Abstract properties are created using the @property decorator along with the @abstractmethod decorator.\n",
    "- Purpose:\n",
    "\n",
    "- - Abstract properties allow you to define a contract for attributes that must be present in concrete subclasses, similar to how abstract methods define a contract for methods. They provide a way to enforce the presence of specific attributes in subclasses while leaving the actual implementation details to the subclasses.\n",
    "- Syntax:\n",
    "\n",
    "- - To create an abstract property, use the @property decorator in combination with the @abstractmethod decorator."
   ]
  },
  {
   "cell_type": "code",
   "execution_count": null,
   "metadata": {},
   "outputs": [
    {
     "name": "stdout",
     "output_type": "stream",
     "text": [
      "Area of the Circle: 78.5\n",
      "Area of the Rectangle: 24\n"
     ]
    }
   ],
   "source": [
    "from abc import ABC, abstractmethod, abstractproperty\n",
    "\n",
    "class Shape(ABC):\n",
    "    @abstractproperty\n",
    "    def area(self):\n",
    "        pass\n",
    "\n",
    "class Circle(Shape):\n",
    "    def __init__(self, radius):\n",
    "        self.radius = radius\n",
    "\n",
    "    @property\n",
    "    def area(self):\n",
    "        return 3.14 * self.radius**2\n",
    "\n",
    "class Rectangle(Shape):\n",
    "    def __init__(self, length, width):\n",
    "        self.length = length\n",
    "        self.width = width\n",
    "\n",
    "    @property\n",
    "    def area(self):\n",
    "        return self.length * self.width\n",
    "\n",
    "# Example usage\n",
    "circle = Circle(radius=5)\n",
    "rectangle = Rectangle(length=4, width=6)\n",
    "\n",
    "print(\"Area of the Circle:\", circle.area)\n",
    "print(\"Area of the Rectangle:\", rectangle.area)\n"
   ]
  },
  {
   "cell_type": "markdown",
   "metadata": {},
   "source": [
    "<h3> <span style=\"color: limegreen;\">13. Create a Python class hierarchy for employees in a company (e.g., manager, developer, designer) and implement abstraction by defining a common `get_salary()` method.</span>"
   ]
  },
  {
   "cell_type": "code",
   "execution_count": null,
   "metadata": {},
   "outputs": [
    {
     "name": "stdout",
     "output_type": "stream",
     "text": [
      "Manager - ID: 101, Name: Alice\n",
      "Salary: 66000.0\n",
      "\n",
      "\n",
      "Developer - ID: 102, Name: Bob\n",
      "Salary: 6400\n",
      "\n",
      "\n",
      "Designer - ID: 103, Name: Charlie\n",
      "Salary: 60000\n",
      "\n",
      "\n"
     ]
    }
   ],
   "source": [
    "from abc import ABC, abstractmethod\n",
    "\n",
    "class Employee(ABC):\n",
    "    def __init__(self, name, employee_id):\n",
    "        self.name = name\n",
    "        self.employee_id = employee_id\n",
    "\n",
    "    @abstractmethod\n",
    "    def get_salary(self):\n",
    "        pass\n",
    "\n",
    "    def display_info(self):\n",
    "        return f\"{self.__class__.__name__} - ID: {self.employee_id}, Name: {self.name}\"\n",
    "\n",
    "class Manager(Employee):\n",
    "    def __init__(self, name, employee_id, bonus_percentage):\n",
    "        super().__init__(name, employee_id)\n",
    "        self.bonus_percentage = bonus_percentage\n",
    "\n",
    "    def get_salary(self):\n",
    "        base_salary = 60000  # Base salary for all managers\n",
    "        bonus_amount = base_salary * (self.bonus_percentage / 100)\n",
    "        return base_salary + bonus_amount\n",
    "\n",
    "class Developer(Employee):\n",
    "    def __init__(self, name, employee_id, programming_language, hours_worked):\n",
    "        super().__init__(name, employee_id)\n",
    "        self.programming_language = programming_language\n",
    "        self.hours_worked = hours_worked\n",
    "\n",
    "    def get_salary(self):\n",
    "        hourly_rate = 40  # Assume an hourly rate for developers\n",
    "        return hourly_rate * self.hours_worked\n",
    "\n",
    "class Designer(Employee):\n",
    "    def __init__(self, name, employee_id, project_completed):\n",
    "        super().__init__(name, employee_id)\n",
    "        self.project_completed = project_completed\n",
    "\n",
    "    def get_salary(self):\n",
    "        base_salary = 50000  # Base salary for all designers\n",
    "        bonus_per_project = 2000\n",
    "        bonus_amount = self.project_completed * bonus_per_project\n",
    "        return base_salary + bonus_amount\n",
    "\n",
    "# Example usage\n",
    "manager = Manager(name=\"Alice\", employee_id=101, bonus_percentage=10)\n",
    "developer = Developer(name=\"Bob\", employee_id=102, programming_language=\"Python\", hours_worked=160)\n",
    "designer = Designer(name=\"Charlie\", employee_id=103, project_completed=5)\n",
    "\n",
    "employees = [manager, developer, designer]\n",
    "\n",
    "for employee in employees:\n",
    "    print(employee.display_info())\n",
    "    print(\"Salary:\", employee.get_salary())\n",
    "    print(\"\\n\")\n"
   ]
  },
  {
   "cell_type": "markdown",
   "metadata": {},
   "source": [
    "<h3> <span style=\"color: limegreen;\">14. Discuss the differences between abstract classes and concrete classes in Python, including their instantiation.</span>"
   ]
  },
  {
   "cell_type": "markdown",
   "metadata": {},
   "source": [
    "- Definition:\n",
    "\n",
    "- - Abstract classes are classes in Python that cannot be instantiated on their own. They are meant to be subclassed by concrete classes, providing a common interface or set of methods that must be implemented by their subclasses."
   ]
  },
  {
   "cell_type": "code",
   "execution_count": null,
   "metadata": {},
   "outputs": [],
   "source": [
    "from abc import ABC, abstractmethod\n",
    "\n",
    "class MyAbstractClass(ABC):\n",
    "    @abstractmethod\n",
    "    def my_method(self):\n",
    "        pass\n",
    "\n",
    "# Attempting to create an instance of the abstract class\n",
    "# obj = MyAbstractClass()  # This line would result in a TypeError\n"
   ]
  },
  {
   "cell_type": "markdown",
   "metadata": {},
   "source": [
    "- Abstract Methods:\n",
    "\n",
    "- - Abstract classes often contain abstract methods, marked with the @abstractmethod decorator. These methods have no implementation in the abstract class and must be implemented by concrete subclasses.\n",
    "python\n"
   ]
  },
  {
   "cell_type": "code",
   "execution_count": null,
   "metadata": {},
   "outputs": [],
   "source": [
    "from abc import ABC, abstractmethod\n",
    "\n",
    "class MyAbstractClass(ABC):\n",
    "    @abstractmethod\n",
    "    def my_method(self):\n",
    "        pass"
   ]
  },
  {
   "cell_type": "markdown",
   "metadata": {},
   "source": [
    "- Inheritance:\n",
    "\n",
    "- - Abstract classes are typically used as base classes for other classes. Concrete subclasses inherit from abstract classes and provide implementations for the abstract methods."
   ]
  },
  {
   "cell_type": "code",
   "execution_count": null,
   "metadata": {},
   "outputs": [
    {
     "name": "stdout",
     "output_type": "stream",
     "text": [
      "Concrete implementation of my_method.\n"
     ]
    }
   ],
   "source": [
    "class MyConcreteClass(MyAbstractClass):\n",
    "    def my_method(self):\n",
    "        print(\"Concrete implementation of my_method.\")\n",
    "\n",
    "obj = MyConcreteClass()\n",
    "obj.my_method()  # This is valid\n"
   ]
  },
  {
   "cell_type": "markdown",
   "metadata": {},
   "source": [
    "- Concrete Classes:\n",
    "- Definition:\n",
    "\n",
    "- - Concrete classes are classes that can be instantiated directly using the ClassName() syntax. They may or may not have abstract methods, and they provide concrete implementations for all their methods.\n",
    "- Instantiation:\n",
    "\n",
    "- - Concrete classes can be instantiated using the ClassName() syntax. Instances of concrete classes are created, and their methods can be called directly."
   ]
  },
  {
   "cell_type": "code",
   "execution_count": null,
   "metadata": {},
   "outputs": [
    {
     "name": "stdout",
     "output_type": "stream",
     "text": [
      "Concrete implementation of my_method.\n"
     ]
    }
   ],
   "source": [
    "class MyConcreteClass:\n",
    "    def my_method(self):\n",
    "        print(\"Concrete implementation of my_method.\")\n",
    "\n",
    "obj = MyConcreteClass()\n",
    "obj.my_method()  # This is valid\n"
   ]
  },
  {
   "cell_type": "markdown",
   "metadata": {},
   "source": [
    "- Abstract Methods (Optional):\n",
    "\n",
    "- - Concrete classes may or may not contain abstract methods. If a concrete class contains abstract methods, it must provide concrete implementations for those methods."
   ]
  },
  {
   "cell_type": "code",
   "execution_count": null,
   "metadata": {},
   "outputs": [
    {
     "name": "stdout",
     "output_type": "stream",
     "text": [
      "Concrete implementation of my_method.\n"
     ]
    }
   ],
   "source": [
    "from abc import ABC, abstractmethod\n",
    "\n",
    "class MyConcreteClass(ABC):\n",
    "    @abstractmethod\n",
    "    def my_method(self):\n",
    "        pass\n",
    "\n",
    "class MyConcreteSubclass(MyConcreteClass):\n",
    "    def my_method(self):\n",
    "        print(\"Concrete implementation of my_method.\")\n",
    "\n",
    "obj = MyConcreteSubclass()\n",
    "obj.my_method()  # This is valid\n"
   ]
  },
  {
   "cell_type": "markdown",
   "metadata": {},
   "source": [
    "<h3> <span style=\"color: limegreen;\">15. Explain the concept of abstract data types (ADTs) and their role in achieving abstraction in Python.</span>"
   ]
  },
  {
   "cell_type": "markdown",
   "metadata": {},
   "source": [
    "- Definition:\n",
    "\n",
    "- An Abstract Data Type (ADT) is a high-level description of a set of operations and the behaviors associated with them, rather than a detailed implementation. It defines a data structure in terms of the operations that can be performed on it and the properties these operations must satisfy, without specifying how these operations are implemented."
   ]
  },
  {
   "cell_type": "code",
   "execution_count": null,
   "metadata": {},
   "outputs": [
    {
     "name": "stdout",
     "output_type": "stream",
     "text": [
      "1\n"
     ]
    }
   ],
   "source": [
    "from abc import ABC, abstractmethod\n",
    "\n",
    "class Queue(ABC):\n",
    "    @abstractmethod\n",
    "    def enqueue(self, item):\n",
    "        pass\n",
    "\n",
    "    @abstractmethod\n",
    "    def dequeue(self):\n",
    "        pass\n",
    "\n",
    "class ArrayQueue(Queue):\n",
    "    def __init__(self):\n",
    "        self.items = []\n",
    "\n",
    "    def enqueue(self, item):\n",
    "        self.items.append(item)\n",
    "\n",
    "    def dequeue(self):\n",
    "        if not self.is_empty():\n",
    "            return self.items.pop(0)\n",
    "        else:\n",
    "            raise IndexError(\"Queue is empty\")\n",
    "\n",
    "    def is_empty(self):\n",
    "        return len(self.items) == 0\n",
    "\n",
    "class LinkedListQueue(Queue):\n",
    "    # Implementation of Queue using a linked list\n",
    "    # ...\n",
    "    pass\n",
    "# Example usage\n",
    "array_queue = ArrayQueue()\n",
    "array_queue.enqueue(1)\n",
    "array_queue.enqueue(2)\n",
    "print(array_queue.dequeue())  # Outputs: 1\n"
   ]
  },
  {
   "cell_type": "markdown",
   "metadata": {},
   "source": [
    "<h3> <span style=\"color: limegreen;\">16. Create a Python class for a computer system, demonstrating abstraction by defining common methods (e.g., `power_on()`, `shutdown()`) in an abstract base class.</span>"
   ]
  },
  {
   "cell_type": "code",
   "execution_count": null,
   "metadata": {},
   "outputs": [
    {
     "name": "stdout",
     "output_type": "stream",
     "text": [
      "Dell OptiPlex is powering on.\n",
      "Dell OptiPlex is shutting down.\n",
      "Dell OptiPlex is already powered off.\n",
      "HP EliteBook is powering on. Battery level: 100%\n",
      "HP EliteBook is shutting down.\n",
      "HP EliteBook is powering on. Battery level: 100%\n"
     ]
    }
   ],
   "source": [
    "from abc import ABC, abstractmethod\n",
    "\n",
    "class ComputerSystem(ABC):\n",
    "    def __init__(self, brand, model):\n",
    "        self.brand = brand\n",
    "        self.model = model\n",
    "        self.powered_on = False\n",
    "\n",
    "    @abstractmethod\n",
    "    def power_on(self):\n",
    "        pass\n",
    "\n",
    "    @abstractmethod\n",
    "    def shutdown(self):\n",
    "        pass\n",
    "\n",
    "    def get_info(self):\n",
    "        return f\"{self.brand} {self.model}\"\n",
    "\n",
    "class Desktop(ComputerSystem):\n",
    "    def power_on(self):\n",
    "        if not self.powered_on:\n",
    "            print(f\"{self.get_info()} is powering on.\")\n",
    "            self.powered_on = True\n",
    "        else:\n",
    "            print(f\"{self.get_info()} is already powered on.\")\n",
    "\n",
    "    def shutdown(self):\n",
    "        if self.powered_on:\n",
    "            print(f\"{self.get_info()} is shutting down.\")\n",
    "            self.powered_on = False\n",
    "        else:\n",
    "            print(f\"{self.get_info()} is already powered off.\")\n",
    "\n",
    "class Laptop(ComputerSystem):\n",
    "    def power_on(self):\n",
    "        if not self.powered_on:\n",
    "            print(f\"{self.get_info()} is powering on. Battery level: 100%\")\n",
    "            self.powered_on = True\n",
    "        else:\n",
    "            print(f\"{self.get_info()} is already powered on.\")\n",
    "\n",
    "    def shutdown(self):\n",
    "        if self.powered_on:\n",
    "            print(f\"{self.get_info()} is shutting down.\")\n",
    "            self.powered_on = False\n",
    "        else:\n",
    "            print(f\"{self.get_info()} is already powered off.\")\n",
    "\n",
    "# Example usage\n",
    "desktop = Desktop(brand=\"Dell\", model=\"OptiPlex\")\n",
    "laptop = Laptop(brand=\"HP\", model=\"EliteBook\")\n",
    "\n",
    "desktop.power_on()\n",
    "desktop.shutdown()\n",
    "desktop.shutdown()\n",
    "\n",
    "laptop.power_on()\n",
    "laptop.shutdown()\n",
    "laptop.power_on()\n"
   ]
  },
  {
   "cell_type": "markdown",
   "metadata": {},
   "source": [
    "<h3> <span style=\"color: limegreen;\">17. Discuss the benefits of using abstraction in large-scale software development projects.</span>\n"
   ]
  },
  {
   "cell_type": "markdown",
   "metadata": {},
   "source": [
    "- Modularity and Maintainability:\n",
    "\n",
    "- - Abstraction allows for modular design, breaking down complex systems into manageable, independent modules. Each module represents a well-defined functionality or component, making the system easier to understand, modify, and maintain. Changes in one module are less likely to impact others, promoting code isolation.\n",
    "- Reduced Complexity:\n",
    "\n",
    "- - Abstraction hides unnecessary details, presenting a simplified view of a system's components. Developers can focus on high-level functionalities without getting bogged down by low-level implementation details. This reduction in complexity makes the codebase more comprehensible and less error-prone.\n",
    "- Code Reusability:\n",
    "\n",
    "- - Abstracting common functionalities into reusable components allows developers to leverage existing code for similar tasks. This reduces redundancy, promotes a consistent implementation across the project, and accelerates development by building upon proven solutions.\n",
    "- Ease of Collaboration:\n",
    "\n",
    "- - Abstraction provides a clear and agreed-upon interface, allowing teams to collaborate more effectively. Different teams or team members can work on isolated components without needing to understand the entire system intricacies. This facilitates parallel development and enhances overall project productivity.\n",
    "- Scalability:\n",
    "\n",
    "- - Well-defined abstractions enable scalability, allowing the system to grow and adapt to changing requirements. New functionalities or features can be added without extensively modifying existing code, reducing the risk of introducing errors in the existing functionality.\n",
    "- Adaptability to Change:\n",
    "\n",
    "- - Abstraction decouples components, making it easier to adapt to changes in requirements or technologies. As long as the interface remains consistent, modifications to the internal workings of a module or class can be made without affecting the rest of the system. This flexibility is crucial in dynamic and evolving software projects.\n",
    "- Encapsulation and Security:\n",
    "\n",
    "- - Encapsulation, a form of abstraction, restricts access to internal details, enhancing security. Abstraction ensures that sensitive information is hidden, reducing the likelihood of unintended interference or manipulation. This is especially important for protecting critical components and data.\n",
    "- Polymorphism and Flexibility:\n",
    "\n",
    "- - Abstraction facilitates polymorphism, allowing objects to be treated interchangeably based on their common interface. This flexibility enables the use of generic algorithms and promotes a more extensible and adaptable system design.\n",
    "- Documentation and Understanding:\n",
    "\n",
    "- - Abstraction serves as a form of documentation, providing a high-level overview of a system's structure and functionality. Developers can understand the system without delving into the implementation details of every component, making it easier to onboard new team members and maintain knowledge continuity.\n",
    "- Testing and Debugging:\n",
    "\n",
    "- - Abstraction allows for easier testing and debugging. Components with well-defined interfaces can be tested in isolation, and issues can be pinpointed more efficiently. Debugging efforts can be focused on specific modules without the need to understand the entire system.\n",
    "- Time and Cost Efficiency:\n",
    "\n",
    "- - Abstraction contributes to time and cost efficiency, as it streamlines development, reduces the likelihood of errors, and accelerates the debugging and testing processes. By promoting code reuse and minimizing redundancy, abstraction allows teams to deliver projects more quickly and cost-effectively.\n",
    "- Quality and Consistency:\n",
    "\n",
    "- - Abstraction promotes a consistent design approach, ensuring that similar functionalities are implemented uniformly across the codebase. This consistency enhances the overall quality of the software and reduces the likelihood of inconsistencies or discrepancies."
   ]
  },
  {
   "cell_type": "markdown",
   "metadata": {},
   "source": [
    "<h3> <span style=\"color: limegreen;\">18. Explain how abstraction enhances code reusability and modularity in Python programs.</span>\n"
   ]
  },
  {
   "cell_type": "markdown",
   "metadata": {},
   "source": [
    "- Clear Separation of Concerns:\n",
    "\n",
    "- - Abstraction encourages a clear separation of concerns by dividing a program into independent modules or components. Each module focuses on a specific functionality, and its implementation details are encapsulated. This separation facilitates modularity and reduces the interdependencies between different parts of the code.\n",
    "- Encapsulation of Implementation:\n",
    "\n",
    "- - Abstraction involves encapsulating the implementation details within classes or functions, exposing only the essential features through well-defined interfaces. This encapsulation shields the internal workings of a module, promoting a black-box approach. Users interact with the module based on its public interface, not needing to understand its internal complexities.\n",
    "- Defined Interfaces:\n",
    "\n",
    "- - Abstraction provides well-defined interfaces for modules, specifying how they can be used and interacted with. These interfaces serve as contracts, ensuring that modules adhere to a common set of rules. This consistency makes it easier to understand, use, and reuse modules in different parts of the program or in other projects.\n",
    "- Code Reusability:\n",
    "\n",
    "- - Abstraction promotes code reusability by encapsulating common functionalities within reusable components. These components, such as classes or functions, can be easily integrated into different parts of the program or reused in other projects. Developers can leverage existing, well-tested abstractions instead of reinventing the wheel, saving time and effort.\n",
    "- Polymorphism and Inheritance:\n",
    "\n",
    "- - Abstraction supports polymorphism and inheritance, enabling the creation of abstract classes or interfaces that define common behaviors. Concrete implementations can then inherit from these abstract structures. This approach facilitates the reuse of code through inheritance, where subclasses inherit and extend the functionality of their parent classes.\n",
    "- Library and Module Usage:\n",
    "\n",
    "- - Python's standard library and external packages exemplify the benefits of abstraction. Developers can use pre-built modules and libraries without needing to understand their internal implementations. By interacting with well-defined APIs, developers can integrate powerful functionalities into their projects, enhancing code reusability.\n",
    "- Ease of Maintenance:\n",
    "\n",
    "- - Abstraction contributes to ease of maintenance by localizing changes within modules. If modifications are needed, developers can focus on the relevant module without affecting the rest of the program. This localized approach to maintenance enhances the modularity of the codebase and reduces the risk of unintended side effects.\n",
    "- Parallel Development:\n",
    "\n",
    "- - With well-defined interfaces and encapsulated implementations, multiple developers or teams can work on different modules simultaneously. This parallel development is possible because changes in one module are less likely to impact others, as long as the interface remains consistent. This collaborative approach enhances modularity and accelerates development.\n",
    "- Testing Isolation:\n",
    "\n",
    "- - Abstraction facilitates testing isolation. Modules with well-defined interfaces can be tested independently, verifying their functionalities without considering the entire program. This modular testing approach simplifies the identification of issues, streamlines debugging, and ensures that changes to one module do not adversely affect others.\n",
    "- Enhanced Scalability:\n",
    "\n",
    "- - Abstraction enhances scalability by allowing developers to add new functionalities or features through the integration of new modules. As long as the new modules adhere to the existing interfaces, they can seamlessly extend the capabilities of the program without requiring extensive modifications to the existing codebase.\n",
    "- Consistent Design Patterns:\n",
    "\n",
    "- - Abstraction encourages the use of consistent design patterns across modules. When developers follow established design principles, such as object-oriented design patterns or functional programming paradigms, the resulting code is more modular and reusable. This consistency contributes to the overall quality of the program."
   ]
  },
  {
   "cell_type": "markdown",
   "metadata": {},
   "source": [
    "<h3> <span style=\"color: limegreen;\">19. Create a Python class for a library system, implementing abstraction by defining common methods (e.g., `add_book()`, `borrow_book()`) in an abstract base class.</span>"
   ]
  },
  {
   "cell_type": "code",
   "execution_count": null,
   "metadata": {},
   "outputs": [
    {
     "name": "stdout",
     "output_type": "stream",
     "text": [
      "The Great Gatsby by F. Scott Fitzgerald added to City Public Library\n",
      "To Kill a Mockingbird by Harper Lee added to City Public Library\n",
      "Books available in City Public Library:\n",
      "The Great Gatsby by F. Scott Fitzgerald\n",
      "To Kill a Mockingbird by Harper Lee\n",
      "Introduction to Python by John Doe added to Central School Library (Subject: Computer Science)\n",
      "Chemistry Essentials by Jane Smith added to Central School Library (Subject: Chemistry)\n",
      "Books available in Central School Library:\n",
      "Introduction to Python by ('John Doe', 'Computer Science')\n",
      "Chemistry Essentials by ('Jane Smith', 'Chemistry')\n",
      "You have borrowed The Great Gatsby from City Public Library\n",
      "The Catcher in the Rye is not available in City Public Library\n",
      "You have borrowed Introduction to Python from Central School Library (Subject: Computer Science)\n",
      "Physics Fundamentals is not available in Central School Library\n",
      "Books available in City Public Library:\n",
      "To Kill a Mockingbird by Harper Lee\n",
      "Books available in Central School Library:\n",
      "Chemistry Essentials by ('Jane Smith', 'Chemistry')\n"
     ]
    }
   ],
   "source": [
    "from abc import ABC, abstractmethod\n",
    "\n",
    "class LibrarySystem(ABC):\n",
    "    def __init__(self, library_name):\n",
    "        self.library_name = library_name\n",
    "        self.books = {}\n",
    "\n",
    "    @abstractmethod\n",
    "    def add_book(self, book_title, author):\n",
    "        pass\n",
    "\n",
    "    @abstractmethod\n",
    "    def borrow_book(self, book_title):\n",
    "        pass\n",
    "\n",
    "    def display_books(self):\n",
    "        print(f\"Books available in {self.library_name}:\")\n",
    "        for title, author in self.books.items():\n",
    "            print(f\"{title} by {author}\")\n",
    "\n",
    "class PublicLibrary(LibrarySystem):\n",
    "    def add_book(self, book_title, author):\n",
    "        if book_title not in self.books:\n",
    "            self.books[book_title] = author\n",
    "            print(f\"{book_title} by {author} added to {self.library_name}\")\n",
    "        else:\n",
    "            print(f\"{book_title} is already in the {self.library_name}\")\n",
    "\n",
    "    def borrow_book(self, book_title):\n",
    "        if book_title in self.books:\n",
    "            print(f\"You have borrowed {book_title} from {self.library_name}\")\n",
    "            del self.books[book_title]\n",
    "        else:\n",
    "            print(f\"{book_title} is not available in {self.library_name}\")\n",
    "\n",
    "class SchoolLibrary(LibrarySystem):\n",
    "    def add_book(self, book_title, author, subject):\n",
    "        if book_title not in self.books:\n",
    "            self.books[book_title] = (author, subject)\n",
    "            print(f\"{book_title} by {author} added to {self.library_name} (Subject: {subject})\")\n",
    "        else:\n",
    "            print(f\"{book_title} is already in the {self.library_name}\")\n",
    "\n",
    "    def borrow_book(self, book_title):\n",
    "        if book_title in self.books:\n",
    "            author, subject = self.books[book_title]\n",
    "            print(f\"You have borrowed {book_title} from {self.library_name} (Subject: {subject})\")\n",
    "            del self.books[book_title]\n",
    "        else:\n",
    "            print(f\"{book_title} is not available in {self.library_name}\")\n",
    "\n",
    "# Example usage\n",
    "public_library = PublicLibrary(library_name=\"City Public Library\")\n",
    "school_library = SchoolLibrary(library_name=\"Central School Library\")\n",
    "\n",
    "public_library.add_book(\"The Great Gatsby\", \"F. Scott Fitzgerald\")\n",
    "public_library.add_book(\"To Kill a Mockingbird\", \"Harper Lee\")\n",
    "public_library.display_books()\n",
    "\n",
    "school_library.add_book(\"Introduction to Python\", \"John Doe\", \"Computer Science\")\n",
    "school_library.add_book(\"Chemistry Essentials\", \"Jane Smith\", \"Chemistry\")\n",
    "school_library.display_books()\n",
    "\n",
    "public_library.borrow_book(\"The Great Gatsby\")\n",
    "public_library.borrow_book(\"The Catcher in the Rye\")\n",
    "\n",
    "school_library.borrow_book(\"Introduction to Python\")\n",
    "school_library.borrow_book(\"Physics Fundamentals\")\n",
    "\n",
    "public_library.display_books()\n",
    "school_library.display_books()\n"
   ]
  },
  {
   "cell_type": "markdown",
   "metadata": {},
   "source": [
    "<h3> <span style=\"color: limegreen;\">20. Describe the concept of method abstraction in Python and how it relates to polymorphism.</span>"
   ]
  },
  {
   "cell_type": "markdown",
   "metadata": {},
   "source": [
    "- Method Abstraction:\n",
    "\n",
    "- - Method abstraction in Python involves defining methods in a way that focuses on their high-level functionality and behavior, while hiding the underlying implementation details. It allows developers to interact with objects or classes through well-defined interfaces without needing to understand the specific implementation of each method.\n",
    "- Key Components of Method Abstraction:\n",
    "\n",
    "- Method Signature:\n",
    "\n",
    "- - The method signature includes the method's name, parameters, and return type. It serves as the external interface, providing information on how to interact with the method.\n",
    "- Purpose and Behavior:\n",
    "\n",
    "- - Method abstraction emphasizes the purpose and behavior of a method rather than its internal workings. Developers using the method should be concerned with what the method does, not how it achieves its functionality.\n",
    "- Encapsulation:\n",
    "\n",
    "- - Encapsulation, a fundamental principle of object-oriented programming, is closely related to method abstraction. It involves bundling the method's implementation details and data within a class, exposing only the essential functionalities through public methods.\n",
    "- Relation to Polymorphism:\n",
    "\n",
    "Polymorphism is the ability of objects of different classes to be treated as objects of a common base class. It allows objects to be used interchangeably based on their shared interfaces or behaviors.\n",
    "\n",
    "- - Method abstraction contributes to polymorphism by defining common interfaces through abstract methods or shared method signatures. When multiple classes implement the same method signature, they can be used interchangeably in situations that expect that common interface.\n",
    "\n",
    "- Example:\n",
    "\n",
    "- - Consider a scenario where multiple classes represent different geometric shapes, and each class has a calculate_area() method. The method abstraction here lies in the common interface provided by the calculate_area() method signature, abstracting away the specific implementation details."
   ]
  },
  {
   "cell_type": "code",
   "execution_count": null,
   "metadata": {},
   "outputs": [
    {
     "name": "stdout",
     "output_type": "stream",
     "text": [
      "Area: 78.5\n",
      "Area: 24\n"
     ]
    }
   ],
   "source": [
    "from abc import ABC, abstractmethod\n",
    "\n",
    "class Shape(ABC):\n",
    "    @abstractmethod\n",
    "    def calculate_area(self):\n",
    "        pass\n",
    "\n",
    "class Circle(Shape):\n",
    "    def __init__(self, radius):\n",
    "        self.radius = radius\n",
    "\n",
    "    def calculate_area(self):\n",
    "        return 3.14 * self.radius**2\n",
    "\n",
    "class Rectangle(Shape):\n",
    "    def __init__(self, length, width):\n",
    "        self.length = length\n",
    "        self.width = width\n",
    "\n",
    "    def calculate_area(self):\n",
    "        return self.length * self.width\n",
    "\n",
    "# Example usage demonstrating polymorphism\n",
    "def print_area(shape):\n",
    "    print(f\"Area: {shape.calculate_area()}\")\n",
    "\n",
    "circle = Circle(radius=5)\n",
    "rectangle = Rectangle(length=4, width=6)\n",
    "\n",
    "print_area(circle)     # Outputs: Area: 78.5\n",
    "print_area(rectangle)  # Outputs: Area: 24\n"
   ]
  },
  {
   "cell_type": "markdown",
   "metadata": {},
   "source": [
    "<h1> <h3> <span style=\"color: limegreen;\">Polymorphism:</span></h1>"
   ]
  },
  {
   "cell_type": "markdown",
   "metadata": {},
   "source": [
    "<h3> <span style=\"color: limegreen;\">1. What is polymorphism in Python? Explain how it is related to object-oriented programming.</span>"
   ]
  },
  {
   "cell_type": "markdown",
   "metadata": {},
   "source": [
    "- Definition of Polymorphism:\n",
    "\n",
    "- - Polymorphism is a fundamental concept in object-oriented programming (OOP) that allows objects of different types to be treated as objects of a common type. It enables a single interface to represent multiple underlying data types or classes. In Python, polymorphism is often expressed through method overriding and inheritance.\n",
    "- Forms of Polymorphism:\n",
    "\n",
    "- Compile-Time (Static) Polymorphism:\n",
    "\n",
    "- - Also known as method overloading or function overloading, this form of polymorphism occurs at compile time. It involves defining multiple functions or methods with the same name but different parameter types or a different number of parameters. The correct function or method is selected based on the context during compilation.\n",
    "- Run-Time (Dynamic) Polymorphism:\n",
    "\n",
    "- - Also known as method overriding or late binding, this form of polymorphism occurs at runtime. It involves creating a common interface in a base class (e.g., an abstract class or interface) and providing different implementations in the derived classes. The correct method is determined dynamically during runtime based on the actual type of the object."
   ]
  },
  {
   "cell_type": "markdown",
   "metadata": {},
   "source": [
    "<h3> <span style=\"color: limegreen;\">2. Describe the difference between compile-time polymorphism and runtime polymorphism in Python.</span>"
   ]
  },
  {
   "cell_type": "code",
   "execution_count": null,
   "metadata": {},
   "outputs": [],
   "source": [
    "class Animal:\n",
    "    def speak(self):\n",
    "        pass\n",
    "\n",
    "class Dog(Animal):\n",
    "    def speak(self):\n",
    "        return \"Woof!\"\n",
    "\n",
    "class Cat(Animal):\n",
    "    def speak(self):\n",
    "        return \"Meow!\"\n",
    "\n",
    "def animal_sound(animal_obj):\n",
    "    return animal_obj.speak()\n",
    "\n",
    "dog = Dog()\n",
    "cat = Cat()\n",
    "\n",
    "print(animal_sound(dog))  # Outputs: Woof!\n",
    "print(animal_sound(cat))  # Outputs: Meow!\n"
   ]
  },
  {
   "cell_type": "markdown",
   "metadata": {},
   "source": [
    "<h3> <span style=\"color: limegreen;\">3. Create a Python class hierarchy for shapes (e.g., circle, square, triangle) and demonstrate polymorphism through a common method, such as `calculate_area()`.</span>"
   ]
  },
  {
   "cell_type": "code",
   "execution_count": null,
   "metadata": {},
   "outputs": [
    {
     "name": "stdout",
     "output_type": "stream",
     "text": [
      "Area: 78.53981633974483\n",
      "Area: 16\n",
      "Area: 9.0\n"
     ]
    }
   ],
   "source": [
    "from abc import ABC, abstractmethod\n",
    "import math\n",
    "\n",
    "class Shape(ABC):\n",
    "    @abstractmethod\n",
    "    def calculate_area(self):\n",
    "        pass\n",
    "\n",
    "class Circle(Shape):\n",
    "    def __init__(self, radius):\n",
    "        self.radius = radius\n",
    "\n",
    "    def calculate_area(self):\n",
    "        return math.pi * self.radius**2\n",
    "\n",
    "class Square(Shape):\n",
    "    def __init__(self, side_length):\n",
    "        self.side_length = side_length\n",
    "\n",
    "    def calculate_area(self):\n",
    "        return self.side_length**2\n",
    "\n",
    "class Triangle(Shape):\n",
    "    def __init__(self, base, height):\n",
    "        self.base = base\n",
    "        self.height = height\n",
    "\n",
    "    def calculate_area(self):\n",
    "        return 0.5 * self.base * self.height\n",
    "\n",
    "# Example usage demonstrating polymorphism\n",
    "def print_area(shape):\n",
    "    print(f\"Area: {shape.calculate_area()}\")\n",
    "\n",
    "# Create instances of different shapes\n",
    "circle = Circle(radius=5)\n",
    "square = Square(side_length=4)\n",
    "triangle = Triangle(base=3, height=6)\n",
    "\n",
    "# Use the print_area function with different shapes\n",
    "print_area(circle)    # Outputs: Area: 78.53981633974483\n",
    "print_area(square)    # Outputs: Area: 16\n",
    "print_area(triangle)  # Outputs: Area: 9.0\n"
   ]
  },
  {
   "cell_type": "markdown",
   "metadata": {},
   "source": [
    "<h3> <span style=\"color: limegreen;\">4. Explain the concept of method overriding in polymorphism. Provide an example.</span>"
   ]
  },
  {
   "cell_type": "markdown",
   "metadata": {},
   "source": [
    "- Method Overriding:\n",
    "\n",
    "- - Method overriding is a mechanism in object-oriented programming (OOP) where a subclass provides a specific implementation for a method that is already defined in its superclass. This allows a subclass to tailor or extend the behavior of the inherited method without modifying its signature. Method overriding is a key aspect of achieving run-time polymorphism."
   ]
  },
  {
   "cell_type": "code",
   "execution_count": null,
   "metadata": {},
   "outputs": [
    {
     "name": "stdout",
     "output_type": "stream",
     "text": [
      "Generic animal sound\n",
      "Woof!\n",
      "Meow!\n"
     ]
    }
   ],
   "source": [
    "class Animal:\n",
    "    def make_sound(self):\n",
    "        return \"Generic animal sound\"\n",
    "\n",
    "class Dog(Animal):\n",
    "    def make_sound(self):\n",
    "        return \"Woof!\"\n",
    "\n",
    "class Cat(Animal):\n",
    "    def make_sound(self):\n",
    "        return \"Meow!\"\n",
    "\n",
    "# Example usage demonstrating method overriding and polymorphism\n",
    "def animal_sound(animal_obj):\n",
    "    return animal_obj.make_sound()\n",
    "\n",
    "# Creating instances of different classes\n",
    "generic_animal = Animal()\n",
    "dog = Dog()\n",
    "cat = Cat()\n",
    "\n",
    "# Using the animal_sound function with different objects\n",
    "print(animal_sound(generic_animal))  # Outputs: Generic animal sound\n",
    "print(animal_sound(dog))             # Outputs: Woof!\n",
    "print(animal_sound(cat))             # Outputs: Meow!\n"
   ]
  },
  {
   "cell_type": "markdown",
   "metadata": {},
   "source": [
    "<h3> <span style=\"color: limegreen;\">5. How is polymorphism different from method overloading in Python? Provide examples for both.</span>"
   ]
  },
  {
   "cell_type": "markdown",
   "metadata": {},
   "source": [
    "- Polymorphism is a concept in object-oriented programming where objects of different types can be treated as objects of a common type. It allows a single interface (method or function) to represent multiple underlying types, and the correct implementation is determined at runtime."
   ]
  },
  {
   "cell_type": "code",
   "execution_count": null,
   "metadata": {},
   "outputs": [
    {
     "name": "stdout",
     "output_type": "stream",
     "text": [
      "Generic animal sound\n",
      "Woof!\n",
      "Meow!\n"
     ]
    }
   ],
   "source": [
    "class Animal:\n",
    "    def make_sound(self):\n",
    "        return \"Generic animal sound\"\n",
    "\n",
    "class Dog(Animal):\n",
    "    def make_sound(self):\n",
    "        return \"Woof!\"\n",
    "\n",
    "class Cat(Animal):\n",
    "    def make_sound(self):\n",
    "        return \"Meow!\"\n",
    "\n",
    "# Example usage demonstrating polymorphism\n",
    "def animal_sound(animal_obj):\n",
    "    return animal_obj.make_sound()\n",
    "\n",
    "# Creating instances of different classes\n",
    "generic_animal = Animal()\n",
    "dog = Dog()\n",
    "cat = Cat()\n",
    "\n",
    "# Using the animal_sound function with different objects\n",
    "print(animal_sound(generic_animal))  # Outputs: Generic animal sound\n",
    "print(animal_sound(dog))             # Outputs: Woof!\n",
    "print(animal_sound(cat))             # Outputs: Meow!\n"
   ]
  },
  {
   "cell_type": "code",
   "execution_count": null,
   "metadata": {},
   "outputs": [
    {
     "name": "stdout",
     "output_type": "stream",
     "text": [
      "2\n",
      "5\n",
      "9\n"
     ]
    }
   ],
   "source": [
    "class Calculator:\n",
    "    def add(self, a, b=0, c=0):\n",
    "        return a + b + c\n",
    "\n",
    "# Example usage demonstrating method overloading (simulated)\n",
    "calculator = Calculator()\n",
    "\n",
    "print(calculator.add(2))          # Outputs: 2\n",
    "print(calculator.add(2, 3))       # Outputs: 5\n",
    "print(calculator.add(2, 3, 4))    # Outputs: 9\n"
   ]
  },
  {
   "cell_type": "markdown",
   "metadata": {},
   "source": [
    "- Differences:\n",
    "\n",
    "- Definition:\n",
    "\n",
    "- Polymorphism: Involves using a single interface to represent multiple types. It often manifests through method overriding in the context of inheritance.\n",
    "- - Method Overloading (Python): Involves defining multiple methods with the same name but different parameter types or a different number of parameters.\n",
    "- Usage:\n",
    "\n",
    "- Polymorphism: Objects of different types can be used interchangeably based on a common interface, allowing for flexibility and adaptability.\n",
    "- - Method Overloading (Python): Allows a class to define multiple methods with the same name to handle different argument scenarios.\n",
    "- Determination at Runtime:\n",
    "\n",
    "- Polymorphism: The correct method is determined dynamically at runtime based on the actual type of the object.\n",
    "- - Method Overloading (Python): The correct method is determined at compile-time based on the number and types of arguments provided.\n",
    "- Example Scenarios:\n",
    "\n",
    "- Polymorphism: Different classes providing specific implementations for a common method, allowing for varied behavior based on the actual type of an object.\n",
    "- - Method Overloading (Python): Providing flexibility in method calls by handling different argument combinations within the same method name.\n",
    "- Syntax:\n",
    "\n",
    "- Polymorphism: Involves method overriding within classes and invoking methods on objects with a common interface.\n",
    "- - Method Overloading (Python): Involves defining multiple methods with the same name within a class, often using default values or variable-length argument lists."
   ]
  },
  {
   "cell_type": "markdown",
   "metadata": {},
   "source": [
    "<h3> <span style=\"color: limegreen;\">6. Create a Python class called `Animal` with a method `speak()`. Then, create child classes like `Dog`, `Cat`, and `Bird`, each with their own `speak()` method. Demonstrate polymorphism by calling the `speak()` method on objects of different subclasses.</span>"
   ]
  },
  {
   "cell_type": "code",
   "execution_count": null,
   "metadata": {},
   "outputs": [
    {
     "name": "stdout",
     "output_type": "stream",
     "text": [
      "Generic animal sound\n",
      "Woof!\n",
      "Meow!\n",
      "Chirp!\n"
     ]
    }
   ],
   "source": [
    "class Animal:\n",
    "    def speak(self):\n",
    "        return \"Generic animal sound\"\n",
    "\n",
    "class Dog(Animal):\n",
    "    def speak(self):\n",
    "        return \"Woof!\"\n",
    "\n",
    "class Cat(Animal):\n",
    "    def speak(self):\n",
    "        return \"Meow!\"\n",
    "\n",
    "class Bird(Animal):\n",
    "    def speak(self):\n",
    "        return \"Chirp!\"\n",
    "\n",
    "# Example usage demonstrating polymorphism\n",
    "def animal_sounds(animal_obj):\n",
    "    return animal_obj.speak()\n",
    "\n",
    "# Creating instances of different classes\n",
    "generic_animal = Animal()\n",
    "dog = Dog()\n",
    "cat = Cat()\n",
    "bird = Bird()\n",
    "\n",
    "# Using the animal_sounds function with objects of different classes\n",
    "print(animal_sounds(generic_animal))  # Outputs: Generic animal sound\n",
    "print(animal_sounds(dog))             # Outputs: Woof!\n",
    "print(animal_sounds(cat))             # Outputs: Meow!\n",
    "print(animal_sounds(bird))            # Outputs: Chirp!\n"
   ]
  },
  {
   "cell_type": "markdown",
   "metadata": {},
   "source": [
    "<h3> <span style=\"color: limegreen;\">7. Discuss the use of abstract methods and classes in achieving polymorphism in Python. Provide an example using the `abc` module.</span>"
   ]
  },
  {
   "cell_type": "markdown",
   "metadata": {},
   "source": [
    "- Abstract Methods and Classes:\n",
    "\n",
    "- - Abstract methods are methods declared in an abstract class but have no implementation in that class. Abstract classes are classes that may contain abstract methods and cannot be instantiated directly. They serve as blueprints for concrete classes that inherit from them.\n",
    "\n",
    "- - The abc module in Python provides the tools for working with abstract classes and abstract methods. Abstract classes can be created using the ABC (Abstract Base Class) metaclass, and abstract methods can be defined using the @abstractmethod decorator."
   ]
  },
  {
   "cell_type": "code",
   "execution_count": null,
   "metadata": {},
   "outputs": [
    {
     "name": "stdout",
     "output_type": "stream",
     "text": [
      "Area: 78.5\n",
      "Area: 16\n"
     ]
    }
   ],
   "source": [
    "from abc import ABC, abstractmethod\n",
    "\n",
    "class Shape(ABC):\n",
    "    @abstractmethod\n",
    "    def calculate_area(self):\n",
    "        pass\n",
    "\n",
    "class Circle(Shape):\n",
    "    def __init__(self, radius):\n",
    "        self.radius = radius\n",
    "\n",
    "    def calculate_area(self):\n",
    "        return 3.14 * self.radius**2\n",
    "\n",
    "class Square(Shape):\n",
    "    def __init__(self, side_length):\n",
    "        self.side_length = side_length\n",
    "\n",
    "    def calculate_area(self):\n",
    "        return self.side_length**2\n",
    "\n",
    "# Example usage demonstrating polymorphism\n",
    "def print_area(shape):\n",
    "    if isinstance(shape, Shape):\n",
    "        print(f\"Area: {shape.calculate_area()}\")\n",
    "    else:\n",
    "        print(\"Invalid shape object\")\n",
    "\n",
    "# Creating instances of different classes\n",
    "circle = Circle(radius=5)\n",
    "square = Square(side_length=4)\n",
    "\n",
    "# Using the print_area function with different shapes\n",
    "print_area(circle)    # Outputs: Area: 78.5\n",
    "print_area(square)    # Outputs: Area: 16\n",
    "\n",
    "# Attempting to create an instance of the abstract class (will raise TypeError)\n",
    "# abstract_shape = Shape()  # Uncommenting this line will result in a TypeError\n"
   ]
  },
  {
   "cell_type": "markdown",
   "metadata": {},
   "source": [
    "<h3> <span style=\"color: limegreen;\">8. Create a Python class hierarchy for a vehicle system (e.g., car, bicycle, boat) and implement a polymorphic `start()` method that prints a message specific to each vehicle type.</span>"
   ]
  },
  {
   "cell_type": "code",
   "execution_count": null,
   "metadata": {},
   "outputs": [
    {
     "name": "stdout",
     "output_type": "stream",
     "text": [
      "Toyota Camry engine started. Ready to drive!\n",
      "Schwinn Mountain Bike is ready to pedal. Let's go!\n",
      "Yamaha Speedboat engine started. Setting sail!\n"
     ]
    }
   ],
   "source": [
    "from abc import ABC, abstractmethod\n",
    "\n",
    "class Vehicle(ABC):\n",
    "    def __init__(self, brand, model):\n",
    "        self.brand = brand\n",
    "        self.model = model\n",
    "\n",
    "    @abstractmethod\n",
    "    def start(self):\n",
    "        pass\n",
    "\n",
    "class Car(Vehicle):\n",
    "    def start(self):\n",
    "        return f\"{self.brand} {self.model} engine started. Ready to drive!\"\n",
    "\n",
    "class Bicycle(Vehicle):\n",
    "    def start(self):\n",
    "        return f\"{self.brand} {self.model} is ready to pedal. Let's go!\"\n",
    "\n",
    "class Boat(Vehicle):\n",
    "    def start(self):\n",
    "        return f\"{self.brand} {self.model} engine started. Setting sail!\"\n",
    "\n",
    "# Example usage demonstrating polymorphism\n",
    "def start_vehicle(vehicle):\n",
    "    if isinstance(vehicle, Vehicle):\n",
    "        return vehicle.start()\n",
    "    else:\n",
    "        return \"Invalid vehicle object\"\n",
    "\n",
    "# Creating instances of different vehicle classes\n",
    "car = Car(brand=\"Toyota\", model=\"Camry\")\n",
    "bicycle = Bicycle(brand=\"Schwinn\", model=\"Mountain Bike\")\n",
    "boat = Boat(brand=\"Yamaha\", model=\"Speedboat\")\n",
    "\n",
    "# Using the start_vehicle function with different vehicles\n",
    "print(start_vehicle(car))      # Outputs: Toyota Camry engine started. Ready to drive!\n",
    "print(start_vehicle(bicycle))  # Outputs: Schwinn Mountain Bike is ready to pedal. Let's go!\n",
    "print(start_vehicle(boat))     # Outputs: Yamaha Speedboat engine started. Setting sail!\n",
    "\n",
    "# Attempting to create an instance of the abstract class (will raise TypeError)\n",
    "# generic_vehicle = Vehicle(brand=\"Generic\", model=\"Vehicle\")  # Uncommenting this line will result in a TypeError\n"
   ]
  },
  {
   "cell_type": "markdown",
   "metadata": {},
   "source": [
    "<h3> <span style=\"color: limegreen;\">9. Explain the significance of the `isinstance()` and `issubclass()` functions in Python polymorphism.</span>\n"
   ]
  },
  {
   "cell_type": "markdown",
   "metadata": {},
   "source": [
    "`isinstance()` Function:\n",
    "\n",
    "The isinstance() function is used to check if an object is an instance of a particular class or a tuple of classes. It plays a crucial role in polymorphism by allowing developers to determine whether an object conforms to a specific type or interface.\n",
    "\n",
    "- Significance:\n",
    "\n",
    "- Polymorphic Object Handling:\n",
    "\n",
    "- - isinstance() facilitates polymorphic behavior by allowing code to handle objects based on their shared interfaces rather than their specific types. This is essential for writing generic and adaptable code.\n",
    "- Dynamic Type Checking:\n",
    "\n",
    "- - In polymorphic scenarios, it's common to dynamically check the type of an object before invoking specific methods or behaviors. isinstance() helps in making runtime decisions based on the actual type of an object."
   ]
  },
  {
   "cell_type": "code",
   "execution_count": null,
   "metadata": {},
   "outputs": [
    {
     "name": "stdout",
     "output_type": "stream",
     "text": [
      "Generic animal sound\n",
      "Generic animal sound\n"
     ]
    }
   ],
   "source": [
    "class Animal:\n",
    "    pass\n",
    "\n",
    "class Dog(Animal):\n",
    "    pass\n",
    "\n",
    "class Cat(Animal):\n",
    "    pass\n",
    "\n",
    "def animal_sound(animal_obj):\n",
    "    if isinstance(animal_obj, Animal):\n",
    "        return \"Generic animal sound\"\n",
    "    else:\n",
    "        return \"Not a valid animal\"\n",
    "\n",
    "dog = Dog()\n",
    "cat = Cat()\n",
    "\n",
    "print(animal_sound(dog))  # Outputs: Generic animal sound\n",
    "print(animal_sound(cat))  # Outputs: Generic animal sound\n"
   ]
  },
  {
   "cell_type": "markdown",
   "metadata": {},
   "source": [
    "<h3> <span style=\"color: limegreen;\">10. What is the role of the `@abstractmethod` decorator in achieving polymorphism in Python? Provide an example.</span>"
   ]
  },
  {
   "cell_type": "code",
   "execution_count": null,
   "metadata": {},
   "outputs": [
    {
     "name": "stdout",
     "output_type": "stream",
     "text": [
      "Area: 78.5\n",
      "Area: 16\n"
     ]
    }
   ],
   "source": [
    "from abc import ABC, abstractmethod\n",
    "\n",
    "class Shape(ABC):\n",
    "    @abstractmethod\n",
    "    def calculate_area(self):\n",
    "        pass\n",
    "\n",
    "class Circle(Shape):\n",
    "    def __init__(self, radius):\n",
    "        self.radius = radius\n",
    "\n",
    "    def calculate_area(self):\n",
    "        return 3.14 * self.radius**2\n",
    "\n",
    "class Square(Shape):\n",
    "    def __init__(self, side_length):\n",
    "        self.side_length = side_length\n",
    "\n",
    "    def calculate_area(self):\n",
    "        return self.side_length**2\n",
    "\n",
    "# Example usage demonstrating polymorphism\n",
    "def print_area(shape):\n",
    "    if isinstance(shape, Shape):\n",
    "        print(f\"Area: {shape.calculate_area()}\")\n",
    "    else:\n",
    "        print(\"Invalid shape object\")\n",
    "\n",
    "# Creating instances of different shape classes\n",
    "circle = Circle(radius=5)\n",
    "square = Square(side_length=4)\n",
    "\n",
    "# Using the print_area function with different shapes\n",
    "print_area(circle)    # Outputs: Area: 78.5\n",
    "print_area(square)    # Outputs: Area: 16\n"
   ]
  },
  {
   "cell_type": "markdown",
   "metadata": {},
   "source": [
    "<h3> <span style=\"color: limegreen;\">11. Create a Python class called `Shape` with a polymorphic method `area()` that calculates the area of different shapes (e.g., circle, rectangle, triangle).</span>"
   ]
  },
  {
   "cell_type": "code",
   "execution_count": null,
   "metadata": {},
   "outputs": [
    {
     "name": "stdout",
     "output_type": "stream",
     "text": [
      "Area: 78.53981633974483\n",
      "Area: 24\n",
      "Area: 12.0\n"
     ]
    }
   ],
   "source": [
    "import math\n",
    "\n",
    "class Shape:\n",
    "    def area(self):\n",
    "        pass  # This method will be overridden by subclasses\n",
    "\n",
    "class Circle(Shape):\n",
    "    def __init__(self, radius):\n",
    "        self.radius = radius\n",
    "\n",
    "    def area(self):\n",
    "        return math.pi * self.radius**2\n",
    "\n",
    "class Rectangle(Shape):\n",
    "    def __init__(self, length, width):\n",
    "        self.length = length\n",
    "        self.width = width\n",
    "\n",
    "    def area(self):\n",
    "        return self.length * self.width\n",
    "\n",
    "class Triangle(Shape):\n",
    "    def __init__(self, base, height):\n",
    "        self.base = base\n",
    "        self.height = height\n",
    "\n",
    "    def area(self):\n",
    "        return 0.5 * self.base * self.height\n",
    "\n",
    "# Example usage demonstrating polymorphism\n",
    "def print_area(shape):\n",
    "    if isinstance(shape, Shape):\n",
    "        print(f\"Area: {shape.area()}\")\n",
    "    else:\n",
    "        print(\"Invalid shape object\")\n",
    "\n",
    "# Creating instances of different shape classes\n",
    "circle = Circle(radius=5)\n",
    "rectangle = Rectangle(length=4, width=6)\n",
    "triangle = Triangle(base=3, height=8)\n",
    "\n",
    "# Using the print_area function with different shapes\n",
    "print_area(circle)      # Outputs: Area: 78.53981633974483\n",
    "print_area(rectangle)   # Outputs: Area: 24\n",
    "print_area(triangle)    # Outputs: Area: 12.0\n"
   ]
  },
  {
   "cell_type": "markdown",
   "metadata": {},
   "source": [
    "<h3> <span style=\"color: limegreen;\">12. Discuss the benefits of polymorphism in terms of code reusability and flexibility in Python programs.</span>"
   ]
  },
  {
   "cell_type": "markdown",
   "metadata": {},
   "source": [
    "- 1. Code Reusability:\n",
    "\n",
    "- Definition:\n",
    "\n",
    "- - Polymorphism allows the same interface (method or function) to be used for different types of objects. This promotes code reusability by enabling the implementation of generic algorithms that work with a variety of object types.\n",
    "- Benefits:\n",
    "\n",
    "- - Developers can write generic code that operates on a common interface without having to know the specific types of objects at compile-time. This reduces the need for redundant code and promotes a more modular and maintainable codebase.\n",
    "- 2. Flexibility and Adaptability:\n",
    "\n",
    "- Definition:\n",
    "\n",
    "- - Polymorphism enhances the flexibility and adaptability of code. It allows objects of different types to be treated interchangeably based on shared interfaces, providing a high degree of flexibility in code design.\n",
    "- Benefits:\n",
    "\n",
    "- - Changes to the code, such as adding new types of objects or modifying existing ones, can be accommodated without extensive modifications to the existing codebase. This flexibility is especially valuable in dynamic and evolving software projects.\n",
    "- 3. Abstraction and Encapsulation:\n",
    "\n",
    "- Definition:\n",
    "\n",
    "- - Polymorphism supports abstraction by allowing the use of abstract classes and interfaces. It enables encapsulation of behavior within classes, hiding the implementation details and exposing only the necessary interface.\n",
    "- Benefits:\n",
    "\n",
    "- - Abstraction and encapsulation make the code more modular and easier to understand. Polymorphic interfaces provide a clear contract for how objects should behave, promoting a higher level of abstraction that simplifies code comprehension.\n",
    "- 4. Reduced Code Redundancy:\n",
    "\n",
    "- Definition:\n",
    "\n",
    "- - Polymorphism enables the creation of generic algorithms that can work with objects of various types. This reduces the need for writing redundant code for each specific type, leading to a more concise and maintainable codebase.\n",
    "- Benefits:\n",
    "\n",
    "- - Code redundancy is minimized, as generic functions or methods can be reused for different types of objects. This results in a more efficient and cleaner code structure, making it easier to manage and extend.\n",
    "- 5. Easier Maintenance and Extensibility:\n",
    "\n",
    "- Definition:\n",
    "\n",
    "- - Polymorphism contributes to easier maintenance and extensibility by allowing changes and additions to the codebase without affecting existing functionalities. New types of objects can be seamlessly integrated without modifying existing code.\n",
    "- Benefits:\n",
    "\n",
    "- - Developers can extend the functionality of a system by adding new classes that adhere to existing interfaces. Since polymorphism allows objects to be used based on their interfaces, the existing code does not need to be altered, making the system more modular and maintainable.\n",
    "- 6. Dynamic Binding and Late Binding:\n",
    "\n",
    "- Definition:\n",
    "\n",
    "- - Polymorphism in Python involves dynamic binding, where the determination of the actual method or function to be executed happens at runtime. This is also known as late binding.\n",
    "- Benefits:\n",
    "\n",
    "- - Dynamic binding allows for more flexibility at runtime, as the correct method is chosen based on the actual type of the object. This dynamic behavior is especially valuable in scenarios where the types of objects are not known until runtime.\n",
    "- 7. Improved Readability and Understandability:\n",
    "\n",
    "- Definition:\n",
    "\n",
    "- - Polymorphism contributes to improved readability and understandability of code by providing a common interface for related objects.\n",
    "- Benefits:\n",
    "\n",
    "- Code that relies on polymorphic interfaces is often more expressive and self-explanatory. It follows a clear and consistent structure, making it easier for developers to understand the relationships and interactions between different components."
   ]
  },
  {
   "cell_type": "markdown",
   "metadata": {},
   "source": [
    "<h3> <span style=\"color: limegreen;\">13. Explain the use of the `super()` function in Python polymorphism. How does it help call methods of parent classes?</span>"
   ]
  },
  {
   "cell_type": "markdown",
   "metadata": {},
   "source": [
    "- 1. Definition:\n",
    "\n",
    "- - The super() function in Python is used to call methods from a parent class. It is commonly used within the methods of a subclass to invoke the corresponding method in the parent class, enabling the reuse of code and supporting polymorphic behavior.\n",
    "- 2. Role in Polymorphism:\n",
    "\n",
    "- - The super() function plays a crucial role in achieving polymorphism by allowing a subclass to call methods of its parent class dynamically. This enables the implementation of overridden methods in a way that incorporates the behavior of the parent class while adding or modifying specific functionalities in the subclass."
   ]
  },
  {
   "cell_type": "code",
   "execution_count": null,
   "metadata": {},
   "outputs": [
    {
     "name": "stdout",
     "output_type": "stream",
     "text": [
      "Car engine started. Vehicle engine started.\n"
     ]
    }
   ],
   "source": [
    "class Vehicle:\n",
    "    def start(self):\n",
    "        return \"Vehicle engine started.\"\n",
    "\n",
    "class Car(Vehicle):\n",
    "    def start(self):\n",
    "        # Calling the start() method of the parent class (Vehicle)\n",
    "        parent_result = super().start()\n",
    "        return f\"Car engine started. {parent_result}\"\n",
    "\n",
    "# Example usage demonstrating polymorphism with super()\n",
    "car = Car()\n",
    "result = car.start()\n",
    "print(result)\n"
   ]
  },
  {
   "cell_type": "markdown",
   "metadata": {},
   "source": [
    "<h3> <span style=\"color: limegreen;\">14. Create a Python class hierarchy for a banking system with various account types (e.g., savings, checking, credit card) and demonstrate polymorphism by implementing a common `withdraw()` method.</span>"
   ]
  },
  {
   "cell_type": "code",
   "execution_count": null,
   "metadata": {},
   "outputs": [
    {
     "name": "stdout",
     "output_type": "stream",
     "text": [
      "Withdrawal of 200 from savings account successful. Remaining balance: 798\n",
      "Withdrawal of 1800 from checking account successful. Remaining balance: -300\n",
      "Withdrawal of 300 from credit card account successful. Remaining balance: -500\n"
     ]
    }
   ],
   "source": [
    "class BankAccount:\n",
    "    def __init__(self, account_number, balance):\n",
    "        self.account_number = account_number\n",
    "        self.balance = balance\n",
    "\n",
    "    def withdraw(self, amount):\n",
    "        if amount > 0 and amount <= self.balance:\n",
    "            self.balance -= amount\n",
    "            return f\"Withdrawal of {amount} successful. Remaining balance: {self.balance}\"\n",
    "        else:\n",
    "            return \"Invalid withdrawal amount or insufficient funds.\"\n",
    "\n",
    "class SavingsAccount(BankAccount):\n",
    "    def __init__(self, account_number, balance, interest_rate):\n",
    "        super().__init__(account_number, balance)\n",
    "        self.interest_rate = interest_rate\n",
    "\n",
    "    def withdraw(self, amount):\n",
    "        # Implementing specific logic for withdrawing from savings account\n",
    "        withdrawal_fee = 2  # Example withdrawal fee for savings account\n",
    "        total_withdrawal_amount = amount + withdrawal_fee\n",
    "\n",
    "        if total_withdrawal_amount > 0 and total_withdrawal_amount <= self.balance:\n",
    "            self.balance -= total_withdrawal_amount\n",
    "            return f\"Withdrawal of {amount} from savings account successful. Remaining balance: {self.balance}\"\n",
    "        else:\n",
    "            return \"Invalid withdrawal amount or insufficient funds in savings account.\"\n",
    "\n",
    "class CheckingAccount(BankAccount):\n",
    "    def __init__(self, account_number, balance, overdraft_limit):\n",
    "        super().__init__(account_number, balance)\n",
    "        self.overdraft_limit = overdraft_limit\n",
    "\n",
    "    def withdraw(self, amount):\n",
    "        # Implementing specific logic for withdrawing from checking account with overdraft protection\n",
    "        overdraft_fee = 10  # Example overdraft fee for checking account\n",
    "        total_withdrawal_amount = amount + overdraft_fee\n",
    "\n",
    "        if total_withdrawal_amount > 0 and total_withdrawal_amount <= (self.balance + self.overdraft_limit):\n",
    "            self.balance -= amount\n",
    "            return f\"Withdrawal of {amount} from checking account successful. Remaining balance: {self.balance}\"\n",
    "        else:\n",
    "            return \"Invalid withdrawal amount or overdraft limit exceeded in checking account.\"\n",
    "\n",
    "class CreditCardAccount(BankAccount):\n",
    "    def __init__(self, account_number, balance, credit_limit):\n",
    "        super().__init__(account_number, balance)\n",
    "        self.credit_limit = credit_limit\n",
    "\n",
    "    def withdraw(self, amount):\n",
    "        # Implementing specific logic for withdrawing from credit card account\n",
    "        if amount > 0 and amount <= (self.balance + self.credit_limit):\n",
    "            self.balance -= amount\n",
    "            return f\"Withdrawal of {amount} from credit card account successful. Remaining balance: {self.balance}\"\n",
    "        else:\n",
    "            return \"Invalid withdrawal amount or credit limit exceeded in credit card account.\"\n",
    "\n",
    "# Example usage demonstrating polymorphism\n",
    "def perform_withdrawal(account, amount):\n",
    "    if isinstance(account, BankAccount):\n",
    "        return account.withdraw(amount)\n",
    "    else:\n",
    "        return \"Invalid account object.\"\n",
    "\n",
    "# Creating instances of different account types\n",
    "savings_account = SavingsAccount(account_number=\"SA123\", balance=1000, interest_rate=0.02)\n",
    "checking_account = CheckingAccount(account_number=\"CA456\", balance=1500, overdraft_limit=500)\n",
    "credit_card_account = CreditCardAccount(account_number=\"CC789\", balance=-200, credit_limit=1000)\n",
    "\n",
    "# Using the perform_withdrawal function with different account types\n",
    "print(perform_withdrawal(savings_account, 200))        # Outputs: Withdrawal of 200 from savings account successful. Remaining balance: 798\n",
    "print(perform_withdrawal(checking_account, 1800))      # Outputs: Invalid withdrawal amount or overdraft limit exceeded in checking account.\n",
    "print(perform_withdrawal(credit_card_account, 300))    # Outputs: Withdrawal of 300 from credit card account successful. Remaining balance: -500\n"
   ]
  },
  {
   "cell_type": "markdown",
   "metadata": {},
   "source": [
    "<h3> <span style=\"color: limegreen;\">15. Describe the concept of operator overloading in Python and how it relates to polymorphism. Provide examples using operators like `+` and `*`.</span>"
   ]
  },
  {
   "cell_type": "markdown",
   "metadata": {},
   "source": [
    "- 1. Definition:\n",
    "\n",
    "- - Operator overloading in Python refers to the ability to define or redefine the behavior of built-in operators for user-defined objects. By overloading operators, custom classes can define how instances of the class respond to operations like addition, multiplication, comparison, etc.\n",
    "- 2. Relation to Polymorphism:\n",
    "\n",
    "- - Operator overloading is a form of polymorphism known as \"ad-hoc polymorphism\" or \"operator polymorphism.\" It allows objects of different types to be used with the same set of operators, and the correct behavior is determined at runtime based on the type of the objects involved.\n",
    "- 3. Example with + (Addition) Operator:\n",
    "\n",
    "- - Consider a Vector class representing a mathematical vector. Overloading the + operator allows instances of this class to be added using the + operator."
   ]
  },
  {
   "cell_type": "code",
   "execution_count": null,
   "metadata": {},
   "outputs": [
    {
     "name": "stdout",
     "output_type": "stream",
     "text": [
      "4 6\n"
     ]
    }
   ],
   "source": [
    "class Vector:\n",
    "    def __init__(self, x, y):\n",
    "        self.x = x\n",
    "        self.y = y\n",
    "\n",
    "    def __add__(self, other):\n",
    "        if isinstance(other, Vector):\n",
    "            return Vector(self.x + other.x, self.y + other.y)\n",
    "        else:\n",
    "            raise ValueError(\"Unsupported operand type for +: Vector and {}\".format(type(other)))\n",
    "\n",
    "# Example usage demonstrating operator overloading with +\n",
    "v1 = Vector(1, 2)\n",
    "v2 = Vector(3, 4)\n",
    "result = v1 + v2\n",
    "print(result.x, result.y)  # Outputs: 4 6\n"
   ]
  },
  {
   "cell_type": "code",
   "execution_count": null,
   "metadata": {},
   "outputs": [
    {
     "name": "stdout",
     "output_type": "stream",
     "text": [
      "6 9\n"
     ]
    }
   ],
   "source": [
    "class Vector:\n",
    "    def __init__(self, x, y):\n",
    "        self.x = x\n",
    "        self.y = y\n",
    "\n",
    "    def __mul__(self, scalar):\n",
    "        if isinstance(scalar, (int, float)):\n",
    "            return Vector(self.x * scalar, self.y * scalar)\n",
    "        else:\n",
    "            raise ValueError(\"Unsupported operand type for *: Vector and {}\".format(type(scalar)))\n",
    "\n",
    "# Example usage demonstrating operator overloading with *\n",
    "v = Vector(2, 3)\n",
    "scaled_result = v * 3\n",
    "print(scaled_result.x, scaled_result.y)  # Outputs: 6 9\n"
   ]
  },
  {
   "cell_type": "markdown",
   "metadata": {},
   "source": [
    "<h3> <span style=\"color: limegreen;\">16. What is dynamic polymorphism, and how is it achieved in Python?</span>"
   ]
  },
  {
   "cell_type": "markdown",
   "metadata": {},
   "source": [
    "- Dynamic polymorphism is a concept in object-oriented programming (OOP) where the selection of which method or operation to execute is made at runtime. In other words, the decision about which specific implementation of a method to call is deferred until the program is running. Dynamic polymorphism is achieved through a mechanism called method overriding."
   ]
  },
  {
   "cell_type": "code",
   "execution_count": 2,
   "metadata": {},
   "outputs": [
    {
     "name": "stdout",
     "output_type": "stream",
     "text": [
      "Woof!\n",
      "Meow!\n"
     ]
    }
   ],
   "source": [
    "class Animal:\n",
    "    def make_sound(self):\n",
    "        pass\n",
    "\n",
    "class Dog(Animal):\n",
    "    def make_sound(self):\n",
    "        return \"Woof!\"\n",
    "\n",
    "class Cat(Animal):\n",
    "    def make_sound(self):\n",
    "        return \"Meow!\"\n",
    "\n",
    "# Polymorphic behavior\n",
    "def animal_speak(animal):\n",
    "    return animal.make_sound()\n",
    "\n",
    "dog = Dog()\n",
    "cat = Cat()\n",
    "\n",
    "print(animal_speak(dog))  # Output: Woof!\n",
    "print(animal_speak(cat))  # Output: Meow!\n"
   ]
  },
  {
   "cell_type": "markdown",
   "metadata": {},
   "source": [
    "<h3> <span style=\"color: limegreen;\">17. Create a Python class hierarchy for employees in a company (e.g., manager, developer, designer) and implement polymorphism through a common `calculate_salary()` method.</span>"
   ]
  },
  {
   "cell_type": "code",
   "execution_count": 3,
   "metadata": {},
   "outputs": [
    {
     "name": "stdout",
     "output_type": "stream",
     "text": [
      "John Doe's salary: $66000\n",
      "Alice Smith's salary: $63000\n",
      "Bob Johnson's salary: $58000\n"
     ]
    }
   ],
   "source": [
    "class Employee:\n",
    "    def __init__(self, name, role):\n",
    "        self.name = name\n",
    "        self.role = role\n",
    "\n",
    "    def calculate_salary(self):\n",
    "        # Default implementation for calculating salary\n",
    "        return 0\n",
    "\n",
    "class Manager(Employee):\n",
    "    def __init__(self, name, team_size):\n",
    "        super().__init__(name, role=\"Manager\")\n",
    "        self.team_size = team_size\n",
    "\n",
    "    def calculate_salary(self):\n",
    "        # Manager's salary calculation based on team size\n",
    "        return 50000 + (self.team_size * 2000)\n",
    "\n",
    "class Developer(Employee):\n",
    "    def __init__(self, name, programming_language):\n",
    "        super().__init__(name, role=\"Developer\")\n",
    "        self.programming_language = programming_language\n",
    "\n",
    "    def calculate_salary(self):\n",
    "        # Developer's salary calculation based on programming language expertise\n",
    "        language_bonus = {\"Python\": 3000, \"JavaScript\": 2500, \"Java\": 2000}\n",
    "        return 60000 + language_bonus.get(self.programming_language, 1000)\n",
    "\n",
    "class Designer(Employee):\n",
    "    def __init__(self, name, design_tool):\n",
    "        super().__init__(name, role=\"Designer\")\n",
    "        self.design_tool = design_tool\n",
    "\n",
    "    def calculate_salary(self):\n",
    "        # Designer's salary calculation based on design tool expertise\n",
    "        tool_bonus = {\"Photoshop\": 4000, \"Sketch\": 3500, \"Figma\": 3000}\n",
    "        return 55000 + tool_bonus.get(self.design_tool, 1500)\n",
    "\n",
    "# Example usage:\n",
    "manager = Manager(\"John Doe\", team_size=8)\n",
    "developer = Developer(\"Alice Smith\", programming_language=\"Python\")\n",
    "designer = Designer(\"Bob Johnson\", design_tool=\"Figma\")\n",
    "\n",
    "# Polymorphic behavior through the common method calculate_salary()\n",
    "print(f\"{manager.name}'s salary: ${manager.calculate_salary()}\")\n",
    "print(f\"{developer.name}'s salary: ${developer.calculate_salary()}\")\n",
    "print(f\"{designer.name}'s salary: ${designer.calculate_salary()}\")\n"
   ]
  },
  {
   "cell_type": "markdown",
   "metadata": {},
   "source": [
    "<h3> <span style=\"color: limegreen;\">18. Discuss the concept of function pointers and how they can be used to achieve polymorphism in Python.</span>\n"
   ]
  },
  {
   "cell_type": "markdown",
   "metadata": {},
   "source": [
    "- First-Class Functions in Python:\n",
    "In Python, functions are first-class citizens, meaning they can be:\n",
    "\n",
    "- Assigned to a variable.\n",
    "- Passed as an argument to another function.\n",
    "- Returned from a function."
   ]
  },
  {
   "cell_type": "code",
   "execution_count": 4,
   "metadata": {},
   "outputs": [
    {
     "name": "stdout",
     "output_type": "stream",
     "text": [
      "Addition: 8\n",
      "Subtraction: 2\n"
     ]
    }
   ],
   "source": [
    "def add(x, y):\n",
    "    return x + y\n",
    "\n",
    "def subtract(x, y):\n",
    "    return x - y\n",
    "\n",
    "def calculate(operation, x, y):\n",
    "    return operation(x, y)\n",
    "\n",
    "# Example usage\n",
    "result_add = calculate(add, 5, 3)\n",
    "result_subtract = calculate(subtract, 5, 3)\n",
    "\n",
    "print(\"Addition:\", result_add)      # Output: 8\n",
    "print(\"Subtraction:\", result_subtract)  # Output: 2\n"
   ]
  },
  {
   "cell_type": "markdown",
   "metadata": {},
   "source": [
    "<h3> <span style=\"color: limegreen;\">19. Explain the role of interfaces and abstract classes in polymorphism, drawing comparisons between them.</span>"
   ]
  },
  {
   "cell_type": "markdown",
   "metadata": {},
   "source": [
    "- Interfaces and abstract classes are both key concepts in object-oriented programming (OOP) that play a crucial role in achieving polymorphism. They provide a way to define a common interface for a group of related classes, allowing objects of different types to be treated uniformly."
   ]
  },
  {
   "cell_type": "markdown",
   "metadata": {},
   "source": [
    "- Abstract Classes:\n",
    "- Definition:\n",
    "- - An abstract class is a class that cannot be instantiated on its own and typically contains one or more abstract methods.\n",
    "- - Abstract methods are methods without a defined implementation, and they must be implemented by concrete subclasses.\n",
    "- Purpose:\n",
    "- - Abstract classes provide a blueprint for other classes.\n",
    "- - They allow you to define common methods and attributes that must be implemented by subclasses, ensuring a consistent interface."
   ]
  },
  {
   "cell_type": "code",
   "execution_count": 5,
   "metadata": {},
   "outputs": [],
   "source": [
    "from abc import ABC, abstractmethod\n",
    "\n",
    "class Shape(ABC):\n",
    "    @abstractmethod\n",
    "    def area(self):\n",
    "        pass\n"
   ]
  },
  {
   "cell_type": "markdown",
   "metadata": {},
   "source": [
    "- Interfaces:\n",
    "- Definition:\n",
    "- - An interface is a collection of abstract methods without any implementation.\n",
    "- - A class can implement one or more interfaces, and it must provide concrete implementations for all the methods defined in those interfaces.\n",
    "- Purpose:\n",
    "- - Interfaces define a contract that classes must adhere to.\n",
    "- - They specify what methods a class must have without providing the implementation details."
   ]
  },
  {
   "cell_type": "code",
   "execution_count": 6,
   "metadata": {},
   "outputs": [],
   "source": [
    "from abc import ABC, abstractmethod\n",
    "\n",
    "class Drawable(ABC):\n",
    "    @abstractmethod\n",
    "    def draw(self):\n",
    "        pass\n",
    "\n",
    "class Shape(Drawable):\n",
    "    def draw(self):\n",
    "        print(\"Drawing a shape.\")\n"
   ]
  },
  {
   "cell_type": "markdown",
   "metadata": {},
   "source": [
    "- Comparisons:\n",
    "- - Abstract Classes:\n",
    "- - - Can have both abstract and concrete methods.\n",
    "- - - Support instance variables and constructors.\n",
    "- - - Allow code reuse through inheritance.\n",
    "- - - In Python, implemented using the ABC (Abstract Base Class) module.\n",
    "- - Interfaces:\n",
    "- - - Can only have abstract methods (no implementation).\n",
    "- - - Do not support instance variables or constructors.\n",
    "- - - Allow a class to implement multiple interfaces.\n",
    "- - - In Python, implemented using the ABC module or, starting from Python 3.4, using the @staticmethod and @abstractmethod decorators."
   ]
  },
  {
   "cell_type": "markdown",
   "metadata": {},
   "source": [
    "<h3> <span style=\"color: limegreen;\">20. Create a Python class for a zoo simulation, demonstrating polymorphism with different animal types (e.g., mammals, birds, reptiles) and their behavior (e.g., eating, sleeping, making sounds).</span>"
   ]
  },
  {
   "cell_type": "code",
   "execution_count": 7,
   "metadata": {},
   "outputs": [
    {
     "name": "stdout",
     "output_type": "stream",
     "text": [
      "Leo the Lion says: Some generic mammal sound\n",
      "Leo the Lion is eating grass.\n",
      "Leo the Lion is sleeping.\n",
      "\n",
      "Polly the Parrot says: Some generic bird sound\n",
      "Polly the Parrot is eating seeds.\n",
      "Polly the Parrot is sleeping.\n",
      "\n",
      "Slippy the Snake says: Some generic reptile sound\n",
      "Slippy the Snake is eating insects.\n",
      "Slippy the Snake is sleeping.\n",
      "\n"
     ]
    }
   ],
   "source": [
    "from abc import ABC, abstractmethod\n",
    "\n",
    "class Animal(ABC):\n",
    "    def __init__(self, name, species):\n",
    "        self.name = name\n",
    "        self.species = species\n",
    "\n",
    "    @abstractmethod\n",
    "    def make_sound(self):\n",
    "        pass\n",
    "\n",
    "    @abstractmethod\n",
    "    def eat(self):\n",
    "        pass\n",
    "\n",
    "    def sleep(self):\n",
    "        print(f\"{self.name} the {self.species} is sleeping.\")\n",
    "\n",
    "class Mammal(Animal):\n",
    "    def __init__(self, name, species):\n",
    "        super().__init__(name, species)\n",
    "\n",
    "    def make_sound(self):\n",
    "        return \"Some generic mammal sound\"\n",
    "\n",
    "    def eat(self):\n",
    "        return f\"{self.name} the {self.species} is eating grass.\"\n",
    "\n",
    "class Bird(Animal):\n",
    "    def __init__(self, name, species):\n",
    "        super().__init__(name, species)\n",
    "\n",
    "    def make_sound(self):\n",
    "        return \"Some generic bird sound\"\n",
    "\n",
    "    def eat(self):\n",
    "        return f\"{self.name} the {self.species} is eating seeds.\"\n",
    "\n",
    "class Reptile(Animal):\n",
    "    def __init__(self, name, species):\n",
    "        super().__init__(name, species)\n",
    "\n",
    "    def make_sound(self):\n",
    "        return \"Some generic reptile sound\"\n",
    "\n",
    "    def eat(self):\n",
    "        return f\"{self.name} the {self.species} is eating insects.\"\n",
    "\n",
    "# Zoo simulation\n",
    "def simulate_zoo(animal):\n",
    "    print(f\"{animal.name} the {animal.species} says: {animal.make_sound()}\")\n",
    "    print(animal.eat())\n",
    "    animal.sleep()\n",
    "    print()\n",
    "\n",
    "# Example usage:\n",
    "lion = Mammal(\"Leo\", \"Lion\")\n",
    "parrot = Bird(\"Polly\", \"Parrot\")\n",
    "snake = Reptile(\"Slippy\", \"Snake\")\n",
    "\n",
    "# Polymorphic behavior in the zoo simulation\n",
    "simulate_zoo(lion)\n",
    "simulate_zoo(parrot)\n",
    "simulate_zoo(snake)\n"
   ]
  }
 ],
 "metadata": {
  "kernelspec": {
   "display_name": "Python 3",
   "language": "python",
   "name": "python3"
  },
  "language_info": {
   "codemirror_mode": {
    "name": "ipython",
    "version": 3
   },
   "file_extension": ".py",
   "mimetype": "text/x-python",
   "name": "python",
   "nbconvert_exporter": "python",
   "pygments_lexer": "ipython3",
   "version": "3.10.0"
  }
 },
 "nbformat": 4,
 "nbformat_minor": 2
}
